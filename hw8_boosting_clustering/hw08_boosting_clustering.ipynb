{
 "cells": [
  {
   "cell_type": "markdown",
   "id": "047674ee",
   "metadata": {
    "id": "047674ee"
   },
   "source": [
    "# Часть 1 Бустинг (5 баллов)"
   ]
  },
  {
   "cell_type": "markdown",
   "id": "d8461109",
   "metadata": {
    "id": "d8461109"
   },
   "source": [
    "В этой части будем предсказывать зарплату data scientist-ов в зависимости  от ряда факторов с помощью градиентного бустинга."
   ]
  },
  {
   "cell_type": "markdown",
   "id": "1651e8dd",
   "metadata": {
    "id": "1651e8dd"
   },
   "source": [
    "В датасете есть следующие признаки:\n",
    "\n",
    "\n",
    "\n",
    "* work_year: The number of years of work experience in the field of data science.\n",
    "\n",
    "* experience_level: The level of experience, such as Junior, Senior, or Lead.\n",
    "\n",
    "* employment_type: The type of employment, such as Full-time or Contract.\n",
    "\n",
    "* job_title: The specific job title or role, such as Data Analyst or Data Scientist.\n",
    "\n",
    "* salary: The salary amount for the given job.\n",
    "\n",
    "* salary_currency: The currency in which the salary is denoted.\n",
    "\n",
    "* salary_in_usd: The equivalent salary amount converted to US dollars (USD) for comparison purposes.\n",
    "\n",
    "* employee_residence: The country or region where the employee resides.\n",
    "\n",
    "* remote_ratio: The percentage of remote work offered in the job.\n",
    "\n",
    "* company_location: The location of the company or organization.\n",
    "\n",
    "* company_size: The company's size is categorized as Small, Medium, or Large."
   ]
  },
  {
   "cell_type": "code",
   "execution_count": 1,
   "id": "dbf7595c",
   "metadata": {
    "colab": {
     "base_uri": "https://localhost:8080/",
     "height": 330
    },
    "id": "dbf7595c",
    "outputId": "1b27c9f2-85d2-4971-a592-6b4aaba9f94a"
   },
   "outputs": [
    {
     "data": {
      "text/html": [
       "<div>\n",
       "<style scoped>\n",
       "    .dataframe tbody tr th:only-of-type {\n",
       "        vertical-align: middle;\n",
       "    }\n",
       "\n",
       "    .dataframe tbody tr th {\n",
       "        vertical-align: top;\n",
       "    }\n",
       "\n",
       "    .dataframe thead th {\n",
       "        text-align: right;\n",
       "    }\n",
       "</style>\n",
       "<table border=\"1\" class=\"dataframe\">\n",
       "  <thead>\n",
       "    <tr style=\"text-align: right;\">\n",
       "      <th></th>\n",
       "      <th>work_year</th>\n",
       "      <th>experience_level</th>\n",
       "      <th>employment_type</th>\n",
       "      <th>job_title</th>\n",
       "      <th>salary</th>\n",
       "      <th>salary_currency</th>\n",
       "      <th>salary_in_usd</th>\n",
       "      <th>employee_residence</th>\n",
       "      <th>remote_ratio</th>\n",
       "      <th>company_location</th>\n",
       "      <th>company_size</th>\n",
       "    </tr>\n",
       "  </thead>\n",
       "  <tbody>\n",
       "    <tr>\n",
       "      <th>0</th>\n",
       "      <td>2023</td>\n",
       "      <td>SE</td>\n",
       "      <td>FT</td>\n",
       "      <td>Principal Data Scientist</td>\n",
       "      <td>80000</td>\n",
       "      <td>EUR</td>\n",
       "      <td>85847</td>\n",
       "      <td>ES</td>\n",
       "      <td>100</td>\n",
       "      <td>ES</td>\n",
       "      <td>L</td>\n",
       "    </tr>\n",
       "    <tr>\n",
       "      <th>1</th>\n",
       "      <td>2023</td>\n",
       "      <td>MI</td>\n",
       "      <td>CT</td>\n",
       "      <td>ML Engineer</td>\n",
       "      <td>30000</td>\n",
       "      <td>USD</td>\n",
       "      <td>30000</td>\n",
       "      <td>US</td>\n",
       "      <td>100</td>\n",
       "      <td>US</td>\n",
       "      <td>S</td>\n",
       "    </tr>\n",
       "    <tr>\n",
       "      <th>2</th>\n",
       "      <td>2023</td>\n",
       "      <td>MI</td>\n",
       "      <td>CT</td>\n",
       "      <td>ML Engineer</td>\n",
       "      <td>25500</td>\n",
       "      <td>USD</td>\n",
       "      <td>25500</td>\n",
       "      <td>US</td>\n",
       "      <td>100</td>\n",
       "      <td>US</td>\n",
       "      <td>S</td>\n",
       "    </tr>\n",
       "    <tr>\n",
       "      <th>3</th>\n",
       "      <td>2023</td>\n",
       "      <td>SE</td>\n",
       "      <td>FT</td>\n",
       "      <td>Data Scientist</td>\n",
       "      <td>175000</td>\n",
       "      <td>USD</td>\n",
       "      <td>175000</td>\n",
       "      <td>CA</td>\n",
       "      <td>100</td>\n",
       "      <td>CA</td>\n",
       "      <td>M</td>\n",
       "    </tr>\n",
       "    <tr>\n",
       "      <th>4</th>\n",
       "      <td>2023</td>\n",
       "      <td>SE</td>\n",
       "      <td>FT</td>\n",
       "      <td>Data Scientist</td>\n",
       "      <td>120000</td>\n",
       "      <td>USD</td>\n",
       "      <td>120000</td>\n",
       "      <td>CA</td>\n",
       "      <td>100</td>\n",
       "      <td>CA</td>\n",
       "      <td>M</td>\n",
       "    </tr>\n",
       "  </tbody>\n",
       "</table>\n",
       "</div>"
      ],
      "text/plain": [
       "   work_year experience_level employment_type                 job_title  \\\n",
       "0       2023               SE              FT  Principal Data Scientist   \n",
       "1       2023               MI              CT               ML Engineer   \n",
       "2       2023               MI              CT               ML Engineer   \n",
       "3       2023               SE              FT            Data Scientist   \n",
       "4       2023               SE              FT            Data Scientist   \n",
       "\n",
       "   salary salary_currency  salary_in_usd employee_residence  remote_ratio  \\\n",
       "0   80000             EUR          85847                 ES           100   \n",
       "1   30000             USD          30000                 US           100   \n",
       "2   25500             USD          25500                 US           100   \n",
       "3  175000             USD         175000                 CA           100   \n",
       "4  120000             USD         120000                 CA           100   \n",
       "\n",
       "  company_location company_size  \n",
       "0               ES            L  \n",
       "1               US            S  \n",
       "2               US            S  \n",
       "3               CA            M  \n",
       "4               CA            M  "
      ]
     },
     "execution_count": 1,
     "metadata": {},
     "output_type": "execute_result"
    }
   ],
   "source": [
    "import pandas as pd\n",
    "\n",
    "df = pd.read_csv(\"ds_salaries.csv\")\n",
    "df.head()"
   ]
  },
  {
   "cell_type": "markdown",
   "id": "6696e77a",
   "metadata": {
    "id": "6696e77a"
   },
   "source": [
    "## Задание 1 (0.5 балла) Подготовка"
   ]
  },
  {
   "cell_type": "markdown",
   "id": "0cb13dc7",
   "metadata": {
    "id": "0cb13dc7"
   },
   "source": [
    "\n",
    "\n",
    "*   Разделите выборку на train, val, test (80%, 10%, 10%)\n",
    "*   Выдерите salary_in_usd в качестве таргета\n",
    "*   Найдите и удалите признак, из-за которого возможен лик в данных\n"
   ]
  },
  {
   "cell_type": "code",
   "execution_count": 2,
   "id": "HJNGYRCjYG8A",
   "metadata": {
    "id": "HJNGYRCjYG8A"
   },
   "outputs": [],
   "source": [
    "from sklearn.model_selection import train_test_split\n",
    "y = df.salary_in_usd\n",
    "X = df.drop('salary_in_usd', axis=1).drop('salary', axis=1)\n",
    "\n",
    "X_train, X_test, y_train, y_test = train_test_split(\n",
    "    X, y, \n",
    "    train_size=0.8, \n",
    "    random_state=42,\n",
    ")\n",
    "X_test, X_val, y_test, y_val = train_test_split(\n",
    "    X_test, y_test, \n",
    "    train_size=0.5, \n",
    "    random_state=42,\n",
    ")"
   ]
  },
  {
   "cell_type": "code",
   "execution_count": 3,
   "id": "3e7e1d9b-3949-4574-b4b6-8a42e31101a2",
   "metadata": {},
   "outputs": [
    {
     "data": {
      "text/plain": [
       "((3004, 9), (376, 9), (375, 9), (3755, 9))"
      ]
     },
     "execution_count": 3,
     "metadata": {},
     "output_type": "execute_result"
    }
   ],
   "source": [
    "X_train.shape, X_val.shape, X_test.shape, X.shape"
   ]
  },
  {
   "cell_type": "markdown",
   "id": "ffba3811-6588-4155-9a68-2bb7f5b64828",
   "metadata": {},
   "source": [
    "Я удалил признак salary, так как это практически таргет, только в разных валютах"
   ]
  },
  {
   "cell_type": "markdown",
   "id": "f63cb01a",
   "metadata": {
    "id": "f63cb01a"
   },
   "source": [
    "## Задание 2 (0.5 балла) Линейная модель"
   ]
  },
  {
   "cell_type": "markdown",
   "id": "647a5cad",
   "metadata": {
    "id": "647a5cad"
   },
   "source": [
    "\n",
    "*   Закодируйте категориальные  признаки с помощью OneHotEncoder\n",
    "*   Обучите модель линейной регрессии\n",
    "*   Оцените  качество через MAPE и RMSE\n"
   ]
  },
  {
   "cell_type": "code",
   "execution_count": 4,
   "id": "DcfWqlvYk0ru",
   "metadata": {
    "id": "DcfWqlvYk0ru"
   },
   "outputs": [
    {
     "name": "stdout",
     "output_type": "stream",
     "text": [
      "MAPE val:  170337.11743840063\n",
      "MAPE test:  567275.0147346829\n",
      "RMSE val:  38462230721.41857\n",
      "RMSE test:  76339664068.03265\n"
     ]
    }
   ],
   "source": [
    "from sklearn.linear_model import LinearRegression\n",
    "from sklearn.metrics import mean_absolute_percentage_error, mean_squared_error\n",
    "from sklearn.preprocessing import OneHotEncoder\n",
    "import numpy as np\n",
    "import warnings\n",
    "warnings.filterwarnings(\"ignore\")\n",
    "\n",
    "categorical_features = X_train.columns[(X_train.dtypes == \"object\").values].tolist()\n",
    "real_features = X_train.columns[(X_train.dtypes != \"object\").values].tolist()\n",
    "\n",
    "encoder = OneHotEncoder(handle_unknown='ignore', sparse=False)\n",
    "\n",
    "X_train_encoded = encoder.fit_transform(X_train[categorical_features])\n",
    "X_val_encoded = encoder.transform(X_val[categorical_features])\n",
    "X_test_encoded = encoder.transform(X_test[categorical_features])\n",
    "\n",
    "X_train_ = np.hstack([X_train[real_features], X_train_encoded])\n",
    "X_val_ = np.hstack([X_val[real_features], X_val_encoded])\n",
    "X_test_ = np.hstack([X_test[real_features], X_test_encoded])\n",
    "\n",
    "linear_model = LinearRegression()\n",
    "linear_model.fit(X_train_, y_train)\n",
    "\n",
    "val_predict = linear_model.predict(X_val_)\n",
    "test_predict = linear_model.predict(X_test_)\n",
    "\n",
    "print('MAPE val: ', mean_absolute_percentage_error(y_val, val_predict))\n",
    "print('MAPE test: ', mean_absolute_percentage_error(y_test, test_predict))\n",
    "      \n",
    "print('RMSE val: ', mean_squared_error(y_val, val_predict, squared=False))\n",
    "print('RMSE test: ', mean_squared_error(y_test, test_predict, squared=False))"
   ]
  },
  {
   "cell_type": "markdown",
   "id": "3578292c",
   "metadata": {
    "id": "3578292c"
   },
   "source": [
    "## Задание 3 (0.5 балла) XGboost"
   ]
  },
  {
   "cell_type": "markdown",
   "id": "3RJuwwoty9w1",
   "metadata": {
    "id": "3RJuwwoty9w1"
   },
   "source": [
    "Начнем с библиотеки xgboost.\n",
    "\n",
    "Обучите модель `XGBRegressor` на тех же данных, что линейную модель, подобрав оптимальные гиперпараметры (`max_depth, learning_rate, n_estimators, gamma`, etc.) по валидационной выборке. Оцените качество итоговой модели (MAPE, RMSE), скорость обучения и скорость предсказания."
   ]
  },
  {
   "cell_type": "code",
   "execution_count": 52,
   "id": "2a153bb1-3ae1-4ab1-bd74-a219258c1593",
   "metadata": {},
   "outputs": [],
   "source": [
    "# !pip install optuna"
   ]
  },
  {
   "cell_type": "code",
   "execution_count": 5,
   "id": "qafqCyE6zGpE",
   "metadata": {
    "id": "qafqCyE6zGpE"
   },
   "outputs": [
    {
     "name": "stderr",
     "output_type": "stream",
     "text": [
      "[I 2024-06-08 22:09:03,614] A new study created in memory with name: no-name-8f930f45-6b13-4869-9c10-87e743791359\n",
      "[I 2024-06-08 22:09:04,692] Trial 0 finished with value: 0.3316650242093894 and parameters: {'max_depth': 8, 'learning_rate': 0.06697992996636502, 'n_estimators': 457, 'gamma': 0.0002472240435438522, 'subsample': 0.8408307217854799, 'colsample_bytree': 0.8802297182755522, 'reg_alpha': 0.001507129579255289, 'reg_lambda': 0.09123070534045999}. Best is trial 0 with value: 0.3316650242093894.\n",
      "[I 2024-06-08 22:09:05,201] Trial 1 finished with value: 0.49344619847817195 and parameters: {'max_depth': 4, 'learning_rate': 0.0015547725884630104, 'n_estimators': 387, 'gamma': 0.003999811222969936, 'subsample': 0.5007496612824951, 'colsample_bytree': 0.9983512794009335, 'reg_alpha': 0.0016282487462478423, 'reg_lambda': 0.0005925219954899986}. Best is trial 0 with value: 0.3316650242093894.\n",
      "[I 2024-06-08 22:09:05,475] Trial 2 finished with value: 0.6131268853083641 and parameters: {'max_depth': 3, 'learning_rate': 0.00036264519191547666, 'n_estimators': 251, 'gamma': 0.006251748104406496, 'subsample': 0.9769121234657063, 'colsample_bytree': 0.9553496563644999, 'reg_alpha': 0.0005732724906168461, 'reg_lambda': 0.0015075304461218953}. Best is trial 0 with value: 0.3316650242093894.\n",
      "[I 2024-06-08 22:09:05,921] Trial 3 finished with value: 0.42155199316476005 and parameters: {'max_depth': 9, 'learning_rate': 0.007057267956531607, 'n_estimators': 158, 'gamma': 0.0443136546724909, 'subsample': 0.6396064051499057, 'colsample_bytree': 0.570650788432318, 'reg_alpha': 0.004659420673821511, 'reg_lambda': 0.0005572622989741695}. Best is trial 0 with value: 0.3316650242093894.\n",
      "[I 2024-06-08 22:09:06,150] Trial 4 finished with value: 0.34043843224393916 and parameters: {'max_depth': 4, 'learning_rate': 0.06703879594491068, 'n_estimators': 178, 'gamma': 0.003052326492005945, 'subsample': 0.853562828311559, 'colsample_bytree': 0.8727127006934461, 'reg_alpha': 0.04148551780923014, 'reg_lambda': 0.03169377117649038}. Best is trial 0 with value: 0.3316650242093894.\n",
      "[I 2024-06-08 22:09:06,698] Trial 5 finished with value: 0.3955808388561504 and parameters: {'max_depth': 9, 'learning_rate': 0.007463919733363703, 'n_estimators': 178, 'gamma': 0.00013502196902154506, 'subsample': 0.9402533767266752, 'colsample_bytree': 0.7107614863676313, 'reg_alpha': 0.005202747123834736, 'reg_lambda': 0.00011944378901454466}. Best is trial 0 with value: 0.3316650242093894.\n",
      "[I 2024-06-08 22:09:07,494] Trial 6 finished with value: 0.33501434560968296 and parameters: {'max_depth': 9, 'learning_rate': 0.07702100183372916, 'n_estimators': 305, 'gamma': 0.08990822251858865, 'subsample': 0.6760196290491037, 'colsample_bytree': 0.7854793540092626, 'reg_alpha': 0.0023192619128958665, 'reg_lambda': 0.04191502863253315}. Best is trial 0 with value: 0.3316650242093894.\n",
      "[I 2024-06-08 22:09:07,643] Trial 7 finished with value: 0.35515080818118544 and parameters: {'max_depth': 3, 'learning_rate': 0.05392130115912109, 'n_estimators': 125, 'gamma': 0.000866658037784497, 'subsample': 0.746733992710715, 'colsample_bytree': 0.7467979721244693, 'reg_alpha': 0.00034547983296865655, 'reg_lambda': 0.000995147228454726}. Best is trial 0 with value: 0.3316650242093894.\n",
      "[I 2024-06-08 22:09:07,918] Trial 8 finished with value: 0.593745306611846 and parameters: {'max_depth': 5, 'learning_rate': 0.0008799343751614672, 'n_estimators': 163, 'gamma': 0.004186206717528356, 'subsample': 0.892103851398419, 'colsample_bytree': 0.8399901274251086, 'reg_alpha': 0.003145234841891628, 'reg_lambda': 0.004878379099409819}. Best is trial 0 with value: 0.3316650242093894.\n",
      "[I 2024-06-08 22:09:08,198] Trial 9 finished with value: 0.3618346331199858 and parameters: {'max_depth': 4, 'learning_rate': 0.01628050361958902, 'n_estimators': 209, 'gamma': 0.054157575612538984, 'subsample': 0.9334070476660953, 'colsample_bytree': 0.7077609914405696, 'reg_alpha': 0.0007621631726179386, 'reg_lambda': 0.004106682606194426}. Best is trial 0 with value: 0.3316650242093894.\n",
      "[I 2024-06-08 22:09:09,343] Trial 10 finished with value: 0.6189725888936219 and parameters: {'max_depth': 7, 'learning_rate': 0.00012960223957745985, 'n_estimators': 493, 'gamma': 0.00010976757902280691, 'subsample': 0.7791243006569691, 'colsample_bytree': 0.6438540323210306, 'reg_alpha': 0.00010565824339509279, 'reg_lambda': 0.09784927494086557}. Best is trial 0 with value: 0.3316650242093894.\n",
      "[I 2024-06-08 22:09:10,083] Trial 11 finished with value: 0.3476282446807009 and parameters: {'max_depth': 7, 'learning_rate': 0.09435684484246347, 'n_estimators': 352, 'gamma': 0.0006276977970420216, 'subsample': 0.6727967516040954, 'colsample_bytree': 0.8687994092247162, 'reg_alpha': 0.018879394374358968, 'reg_lambda': 0.026095571019870818}. Best is trial 0 with value: 0.3316650242093894.\n",
      "[I 2024-06-08 22:09:10,305] Trial 12 finished with value: 0.3817108412739327 and parameters: {'max_depth': 10, 'learning_rate': 0.02531230153033467, 'n_estimators': 58, 'gamma': 0.015330274477860326, 'subsample': 0.599738959597337, 'colsample_bytree': 0.8077185046102975, 'reg_alpha': 0.01130428027676744, 'reg_lambda': 0.07174024653168817}. Best is trial 0 with value: 0.3316650242093894.\n",
      "[I 2024-06-08 22:09:11,511] Trial 13 finished with value: 0.3293150250504206 and parameters: {'max_depth': 8, 'learning_rate': 0.02681862451080785, 'n_estimators': 489, 'gamma': 0.0005333226885730341, 'subsample': 0.7798954784418857, 'colsample_bytree': 0.9177321965567451, 'reg_alpha': 0.0014775105915711493, 'reg_lambda': 0.013201604914680648}. Best is trial 13 with value: 0.3293150250504206.\n",
      "[I 2024-06-08 22:09:12,627] Trial 14 finished with value: 0.33017333087612283 and parameters: {'max_depth': 8, 'learning_rate': 0.024135755352726055, 'n_estimators': 456, 'gamma': 0.000393400874216775, 'subsample': 0.8113838602456885, 'colsample_bytree': 0.9238722116344351, 'reg_alpha': 0.00013667821150706742, 'reg_lambda': 0.012095425717879447}. Best is trial 13 with value: 0.3293150250504206.\n",
      "[I 2024-06-08 22:09:13,441] Trial 15 finished with value: 0.3335912409509223 and parameters: {'max_depth': 6, 'learning_rate': 0.018737682068643693, 'n_estimators': 441, 'gamma': 0.0009523170827771512, 'subsample': 0.7504956877734213, 'colsample_bytree': 0.9392080433887376, 'reg_alpha': 0.00012159142026181239, 'reg_lambda': 0.010644992204529323}. Best is trial 13 with value: 0.3293150250504206.\n",
      "[I 2024-06-08 22:09:14,587] Trial 16 finished with value: 0.3572780772084258 and parameters: {'max_depth': 8, 'learning_rate': 0.005126249173252829, 'n_estimators': 400, 'gamma': 0.0006065156062583888, 'subsample': 0.8120016222043085, 'colsample_bytree': 0.9323770965001341, 'reg_alpha': 0.00027549929129597775, 'reg_lambda': 0.01159831964674948}. Best is trial 13 with value: 0.3293150250504206.\n",
      "[I 2024-06-08 22:09:15,590] Trial 17 finished with value: 0.39165541650629815 and parameters: {'max_depth': 6, 'learning_rate': 0.0028756948887731604, 'n_estimators': 497, 'gamma': 0.001719590259641276, 'subsample': 0.7231081241975719, 'colsample_bytree': 0.997563714119525, 'reg_alpha': 0.000185072435134453, 'reg_lambda': 0.009237338064157274}. Best is trial 13 with value: 0.3293150250504206.\n",
      "[I 2024-06-08 22:09:16,370] Trial 18 finished with value: 0.3301157426152951 and parameters: {'max_depth': 8, 'learning_rate': 0.029181399082520206, 'n_estimators': 318, 'gamma': 0.00029184416934791875, 'subsample': 0.8842887878968515, 'colsample_bytree': 0.9112385753272018, 'reg_alpha': 0.000964129805131589, 'reg_lambda': 0.017994190669300747}. Best is trial 13 with value: 0.3293150250504206.\n",
      "[I 2024-06-08 22:09:17,387] Trial 19 finished with value: 0.34045041950128097 and parameters: {'max_depth': 10, 'learning_rate': 0.012326040971348942, 'n_estimators': 319, 'gamma': 0.0003226973766524443, 'subsample': 0.8885795915202201, 'colsample_bytree': 0.5585827565268455, 'reg_alpha': 0.0008736236104792063, 'reg_lambda': 0.020402834436898155}. Best is trial 13 with value: 0.3293150250504206.\n",
      "[I 2024-06-08 22:09:18,041] Trial 20 finished with value: 0.3326309857994574 and parameters: {'max_depth': 8, 'learning_rate': 0.03765888610274978, 'n_estimators': 264, 'gamma': 0.0016023790870103311, 'subsample': 0.8919560901188288, 'colsample_bytree': 0.6454996143129694, 'reg_alpha': 0.08714685876142571, 'reg_lambda': 0.0022924850032070023}. Best is trial 13 with value: 0.3293150250504206.\n",
      "[I 2024-06-08 22:09:18,947] Trial 21 finished with value: 0.3306734778206204 and parameters: {'max_depth': 7, 'learning_rate': 0.029615564677681058, 'n_estimators': 421, 'gamma': 0.00028893311732612365, 'subsample': 0.8033563744378818, 'colsample_bytree': 0.9063186307722019, 'reg_alpha': 0.00038554107613687435, 'reg_lambda': 0.006415282523498472}. Best is trial 13 with value: 0.3293150250504206.\n",
      "[I 2024-06-08 22:09:19,924] Trial 22 finished with value: 0.3353210612176533 and parameters: {'max_depth': 8, 'learning_rate': 0.013239556131679741, 'n_estimators': 374, 'gamma': 0.0003888925428874615, 'subsample': 0.8459354952453603, 'colsample_bytree': 0.8270179945813111, 'reg_alpha': 0.0010897500526205043, 'reg_lambda': 0.013306921283880911}. Best is trial 13 with value: 0.3293150250504206.\n",
      "[I 2024-06-08 22:09:21,210] Trial 23 finished with value: 0.3307603312696201 and parameters: {'max_depth': 9, 'learning_rate': 0.03589484918333448, 'n_estimators': 462, 'gamma': 0.00019303499958113476, 'subsample': 0.7935879734835991, 'colsample_bytree': 0.9618280165037773, 'reg_alpha': 0.009849399866865087, 'reg_lambda': 0.01802601708877867}. Best is trial 13 with value: 0.3293150250504206.\n",
      "[I 2024-06-08 22:09:22,113] Trial 24 finished with value: 0.39030128397742264 and parameters: {'max_depth': 7, 'learning_rate': 0.004161842345736442, 'n_estimators': 343, 'gamma': 0.0005188788729451971, 'subsample': 0.9870744977992645, 'colsample_bytree': 0.9098985835659402, 'reg_alpha': 0.0005562376400266532, 'reg_lambda': 0.04621518393467162}. Best is trial 13 with value: 0.3293150250504206.\n",
      "[I 2024-06-08 22:09:23,152] Trial 25 finished with value: 0.34006354351894874 and parameters: {'max_depth': 8, 'learning_rate': 0.009900132859817947, 'n_estimators': 408, 'gamma': 0.0015460459268382065, 'subsample': 0.7192809845938419, 'colsample_bytree': 0.7803737066731812, 'reg_alpha': 0.00017092947291903152, 'reg_lambda': 0.002842082653138568}. Best is trial 13 with value: 0.3293150250504206.\n",
      "[I 2024-06-08 22:09:24,005] Trial 26 finished with value: 0.3322236236997076 and parameters: {'max_depth': 6, 'learning_rate': 0.025443727795935314, 'n_estimators': 471, 'gamma': 0.00016958524156377783, 'subsample': 0.9162526765011824, 'colsample_bytree': 0.8964063670515929, 'reg_alpha': 0.0021059137621184188, 'reg_lambda': 0.0070314637894404635}. Best is trial 13 with value: 0.3293150250504206.\n",
      "[I 2024-06-08 22:09:25,573] Trial 27 finished with value: 0.42657626297143586 and parameters: {'max_depth': 10, 'learning_rate': 0.002169563288294447, 'n_estimators': 434, 'gamma': 0.0009126500953329782, 'subsample': 0.8556044890268376, 'colsample_bytree': 0.8448969490618411, 'reg_alpha': 0.00504800147001624, 'reg_lambda': 0.017276861914930976}. Best is trial 13 with value: 0.3293150250504206.\n",
      "[I 2024-06-08 22:09:26,402] Trial 28 finished with value: 0.33368280130834127 and parameters: {'max_depth': 9, 'learning_rate': 0.045280511566680615, 'n_estimators': 297, 'gamma': 0.00010278635498788162, 'subsample': 0.7588144194654958, 'colsample_bytree': 0.9764730008291593, 'reg_alpha': 0.0012553910826526035, 'reg_lambda': 0.05367832587509218}. Best is trial 13 with value: 0.3293150250504206.\n",
      "[I 2024-06-08 22:09:27,051] Trial 29 finished with value: 0.3312013470875014 and parameters: {'max_depth': 8, 'learning_rate': 0.020655473773065355, 'n_estimators': 237, 'gamma': 0.0002006679443680442, 'subsample': 0.8236448031736959, 'colsample_bytree': 0.918914860411801, 'reg_alpha': 0.0002066102446569638, 'reg_lambda': 0.03255714128461209}. Best is trial 13 with value: 0.3293150250504206.\n",
      "[I 2024-06-08 22:09:28,075] Trial 30 finished with value: 0.3351358658873173 and parameters: {'max_depth': 7, 'learning_rate': 0.098870398053554, 'n_estimators': 469, 'gamma': 0.00040813631118306025, 'subsample': 0.8649648641739198, 'colsample_bytree': 0.8676397275647656, 'reg_alpha': 0.000727729778644243, 'reg_lambda': 0.006494397683227331}. Best is trial 13 with value: 0.3293150250504206.\n",
      "[I 2024-06-08 22:09:28,986] Trial 31 finished with value: 0.3299020522821718 and parameters: {'max_depth': 7, 'learning_rate': 0.031739995956472325, 'n_estimators': 427, 'gamma': 0.0002784590833855987, 'subsample': 0.8041961816235025, 'colsample_bytree': 0.8891343012214108, 'reg_alpha': 0.00038637194750130446, 'reg_lambda': 0.00632360430456923}. Best is trial 13 with value: 0.3293150250504206.\n",
      "[I 2024-06-08 22:09:29,883] Trial 32 finished with value: 0.3282777870290277 and parameters: {'max_depth': 8, 'learning_rate': 0.04958640279171784, 'n_estimators': 372, 'gamma': 0.0002593705793916767, 'subsample': 0.8255451359578986, 'colsample_bytree': 0.8894508169257833, 'reg_alpha': 0.0004178129026197365, 'reg_lambda': 0.0034160738415178757}. Best is trial 32 with value: 0.3282777870290277.\n",
      "[I 2024-06-08 22:09:30,716] Trial 33 finished with value: 0.33444602684663904 and parameters: {'max_depth': 7, 'learning_rate': 0.059139326075886504, 'n_estimators': 375, 'gamma': 0.0002349200844130233, 'subsample': 0.7755127954496996, 'colsample_bytree': 0.8884422393130273, 'reg_alpha': 0.0004618854077057899, 'reg_lambda': 0.0015430350633473247}. Best is trial 32 with value: 0.3282777870290277.\n",
      "[I 2024-06-08 22:09:31,693] Trial 34 finished with value: 0.33928772424150405 and parameters: {'max_depth': 8, 'learning_rate': 0.009225497395907898, 'n_estimators': 340, 'gamma': 0.00025633156942159055, 'subsample': 0.9582996612217818, 'colsample_bytree': 0.9997224125589657, 'reg_alpha': 0.0016088055734057459, 'reg_lambda': 0.003551048000837645}. Best is trial 32 with value: 0.3282777870290277.\n",
      "[I 2024-06-08 22:09:32,426] Trial 35 finished with value: 0.3444048253795342 and parameters: {'max_depth': 6, 'learning_rate': 0.04279497538266027, 'n_estimators': 388, 'gamma': 0.00017091390727122798, 'subsample': 0.8329842545041624, 'colsample_bytree': 0.5024743704515189, 'reg_alpha': 0.000278058421477538, 'reg_lambda': 0.0020281934176576704}. Best is trial 32 with value: 0.3282777870290277.\n",
      "[I 2024-06-08 22:09:33,362] Trial 36 finished with value: 0.578149552145823 and parameters: {'max_depth': 9, 'learning_rate': 0.0006232311188053917, 'n_estimators': 285, 'gamma': 0.00842932734363947, 'subsample': 0.5536115146347091, 'colsample_bytree': 0.9582520710435078, 'reg_alpha': 0.00099519838631357, 'reg_lambda': 0.004772582674952769}. Best is trial 32 with value: 0.3282777870290277.\n",
      "[I 2024-06-08 22:09:34,156] Trial 37 finished with value: 0.33753066101598506 and parameters: {'max_depth': 7, 'learning_rate': 0.06189315497075442, 'n_estimators': 361, 'gamma': 0.0025182014113763786, 'subsample': 0.715790158429915, 'colsample_bytree': 0.8525844110823635, 'reg_alpha': 0.0005822441147921748, 'reg_lambda': 0.0006842116522683047}. Best is trial 32 with value: 0.3282777870290277.\n",
      "[I 2024-06-08 22:09:34,762] Trial 38 finished with value: 0.38104498107045986 and parameters: {'max_depth': 5, 'learning_rate': 0.005736055061246808, 'n_estimators': 325, 'gamma': 0.0011995090472927464, 'subsample': 0.8704643728039818, 'colsample_bytree': 0.7688928865733968, 'reg_alpha': 0.0031149847670806775, 'reg_lambda': 0.0003208877783403381}. Best is trial 32 with value: 0.3282777870290277.\n",
      "[I 2024-06-08 22:09:35,902] Trial 39 finished with value: 0.3290257469197792 and parameters: {'max_depth': 9, 'learning_rate': 0.015015518525541128, 'n_estimators': 414, 'gamma': 0.0006181648162468249, 'subsample': 0.6787423490007124, 'colsample_bytree': 0.8266943840780836, 'reg_alpha': 0.0021288085078116714, 'reg_lambda': 0.007603454199632707}. Best is trial 32 with value: 0.3282777870290277.\n",
      "[I 2024-06-08 22:09:37,073] Trial 40 finished with value: 0.330389967010476 and parameters: {'max_depth': 9, 'learning_rate': 0.01441371333540544, 'n_estimators': 418, 'gamma': 0.0004948867829292074, 'subsample': 0.6590181631926955, 'colsample_bytree': 0.8125767962506808, 'reg_alpha': 0.0020146180652535987, 'reg_lambda': 0.008136998175420948}. Best is trial 32 with value: 0.3282777870290277.\n",
      "[I 2024-06-08 22:09:38,293] Trial 41 finished with value: 0.33625479943485764 and parameters: {'max_depth': 9, 'learning_rate': 0.03434521087250728, 'n_estimators': 442, 'gamma': 0.0007854641327190126, 'subsample': 0.6154287493384412, 'colsample_bytree': 0.8662567135838539, 'reg_alpha': 0.003660070801011699, 'reg_lambda': 0.005112802514210437}. Best is trial 32 with value: 0.3282777870290277.\n",
      "[I 2024-06-08 22:09:39,288] Trial 42 finished with value: 0.33307752096005594 and parameters: {'max_depth': 8, 'learning_rate': 0.05244157648808087, 'n_estimators': 404, 'gamma': 0.0003097746720363459, 'subsample': 0.7053319292584054, 'colsample_bytree': 0.8125198394651155, 'reg_alpha': 0.001340314342600004, 'reg_lambda': 0.02395837431256887}. Best is trial 32 with value: 0.3282777870290277.\n",
      "[I 2024-06-08 22:09:40,628] Trial 43 finished with value: 0.3314347503272754 and parameters: {'max_depth': 9, 'learning_rate': 0.017459100683821432, 'n_estimators': 481, 'gamma': 0.00014292279509790524, 'subsample': 0.6956512170012242, 'colsample_bytree': 0.8868124509972577, 'reg_alpha': 0.0007191546854416337, 'reg_lambda': 0.014940621904817594}. Best is trial 32 with value: 0.3282777870290277.\n",
      "[I 2024-06-08 22:09:41,562] Trial 44 finished with value: 0.33465099013742433 and parameters: {'max_depth': 8, 'learning_rate': 0.07440327640392352, 'n_estimators': 379, 'gamma': 0.0007341753503622869, 'subsample': 0.7804650169774019, 'colsample_bytree': 0.7354015611324831, 'reg_alpha': 0.0002925992204660597, 'reg_lambda': 0.0030350034865303114}. Best is trial 32 with value: 0.3282777870290277.\n",
      "[I 2024-06-08 22:09:43,041] Trial 45 finished with value: 0.3341390325815645 and parameters: {'max_depth': 10, 'learning_rate': 0.008603072370937959, 'n_estimators': 439, 'gamma': 0.00045664822835495954, 'subsample': 0.7417949614151292, 'colsample_bytree': 0.941707328235511, 'reg_alpha': 0.008256776469006107, 'reg_lambda': 0.005340141102438623}. Best is trial 32 with value: 0.3282777870290277.\n",
      "[I 2024-06-08 22:09:43,852] Trial 46 finished with value: 0.33205001243509047 and parameters: {'max_depth': 8, 'learning_rate': 0.029517613750936828, 'n_estimators': 328, 'gamma': 0.0001277806487753115, 'subsample': 0.8352044711930982, 'colsample_bytree': 0.8351927784984312, 'reg_alpha': 0.0004616307656761648, 'reg_lambda': 0.029672781541558963}. Best is trial 32 with value: 0.3282777870290277.\n",
      "[I 2024-06-08 22:09:44,718] Trial 47 finished with value: 0.6149570593545962 and parameters: {'max_depth': 7, 'learning_rate': 0.00019725735058295438, 'n_estimators': 359, 'gamma': 0.02390971871166585, 'subsample': 0.6363736425603753, 'colsample_bytree': 0.8818299668077919, 'reg_alpha': 0.0025348856085493417, 'reg_lambda': 0.001090756228972138}. Best is trial 32 with value: 0.3282777870290277.\n",
      "[I 2024-06-08 22:09:46,060] Trial 48 finished with value: 0.3337764979579674 and parameters: {'max_depth': 9, 'learning_rate': 0.02193892023036418, 'n_estimators': 498, 'gamma': 0.001218899485721555, 'subsample': 0.9189906174593987, 'colsample_bytree': 0.7958011163822509, 'reg_alpha': 0.0017531330109903003, 'reg_lambda': 0.009515029851109085}. Best is trial 32 with value: 0.3282777870290277.\n",
      "[I 2024-06-08 22:09:47,098] Trial 49 finished with value: 0.3348575106506585 and parameters: {'max_depth': 8, 'learning_rate': 0.011514184119734296, 'n_estimators': 392, 'gamma': 0.0027086272552088275, 'subsample': 0.6834138812040672, 'colsample_bytree': 0.9714435065118168, 'reg_alpha': 0.0006129662924774681, 'reg_lambda': 0.003814738970165636}. Best is trial 32 with value: 0.3282777870290277.\n",
      "[I 2024-06-08 22:09:47,872] Trial 50 finished with value: 0.4915023291717564 and parameters: {'max_depth': 5, 'learning_rate': 0.0013929787925530542, 'n_estimators': 422, 'gamma': 0.0006502713700112652, 'subsample': 0.5113474158613178, 'colsample_bytree': 0.8599055441450075, 'reg_alpha': 0.0010260806116557742, 'reg_lambda': 0.002219819480101664}. Best is trial 32 with value: 0.3282777870290277.\n",
      "[I 2024-06-08 22:09:48,996] Trial 51 finished with value: 0.32966736667550695 and parameters: {'max_depth': 8, 'learning_rate': 0.025016311202557446, 'n_estimators': 451, 'gamma': 0.00037364339159720486, 'subsample': 0.8048765856429383, 'colsample_bytree': 0.9258010497079879, 'reg_alpha': 0.00014853247155120582, 'reg_lambda': 0.012800445967470526}. Best is trial 32 with value: 0.3282777870290277.\n",
      "[I 2024-06-08 22:09:50,135] Trial 52 finished with value: 0.3356756819437826 and parameters: {'max_depth': 8, 'learning_rate': 0.047828645890574006, 'n_estimators': 458, 'gamma': 0.00034276804666450464, 'subsample': 0.7614558850708533, 'colsample_bytree': 0.9382334192201357, 'reg_alpha': 0.0003557103669282132, 'reg_lambda': 0.013201847711191738}. Best is trial 32 with value: 0.3282777870290277.\n",
      "[I 2024-06-08 22:09:51,162] Trial 53 finished with value: 0.3313949069913163 and parameters: {'max_depth': 7, 'learning_rate': 0.01700915395998738, 'n_estimators': 479, 'gamma': 0.00024401087224663849, 'subsample': 0.788633120080631, 'colsample_bytree': 0.9124946972994841, 'reg_alpha': 0.0001546743698151634, 'reg_lambda': 0.009298199729195673}. Best is trial 32 with value: 0.3282777870290277.\n",
      "[I 2024-06-08 22:09:52,367] Trial 54 finished with value: 0.3323056169838423 and parameters: {'max_depth': 9, 'learning_rate': 0.0755417729990342, 'n_estimators': 453, 'gamma': 0.00023368721736039116, 'subsample': 0.8196563738804202, 'colsample_bytree': 0.9003077864303948, 'reg_alpha': 0.00023805374653289386, 'reg_lambda': 0.021491690454723527}. Best is trial 32 with value: 0.3282777870290277.\n",
      "[I 2024-06-08 22:09:53,118] Trial 55 finished with value: 0.3305003165974164 and parameters: {'max_depth': 8, 'learning_rate': 0.03211365197599707, 'n_estimators': 306, 'gamma': 0.0003370235962498818, 'subsample': 0.7383413312068468, 'colsample_bytree': 0.9475676220282712, 'reg_alpha': 0.0001091287951584351, 'reg_lambda': 0.006144710852350746}. Best is trial 32 with value: 0.3282777870290277.\n",
      "[I 2024-06-08 22:09:53,355] Trial 56 finished with value: 0.3581174895615595 and parameters: {'max_depth': 7, 'learning_rate': 0.02424066970496824, 'n_estimators': 85, 'gamma': 0.00053930079387591, 'subsample': 0.8816517214392352, 'colsample_bytree': 0.926834495067259, 'reg_alpha': 0.000435141773153288, 'reg_lambda': 0.00010691929419988795}. Best is trial 32 with value: 0.3282777870290277.\n",
      "[I 2024-06-08 22:09:53,846] Trial 57 finished with value: 0.3779157737434543 and parameters: {'max_depth': 3, 'learning_rate': 0.007216605801479315, 'n_estimators': 427, 'gamma': 0.005131814135528308, 'subsample': 0.8121395119309527, 'colsample_bytree': 0.979431857564726, 'reg_alpha': 0.001467311451107402, 'reg_lambda': 0.01617035168325678}. Best is trial 32 with value: 0.3282777870290277.\n",
      "[I 2024-06-08 22:09:54,941] Trial 58 finished with value: 0.33380916428841256 and parameters: {'max_depth': 8, 'learning_rate': 0.043442906320993915, 'n_estimators': 407, 'gamma': 0.0011784984089567038, 'subsample': 0.8441465517061738, 'colsample_bytree': 0.8250938463351958, 'reg_alpha': 0.0039448129866665495, 'reg_lambda': 0.00796666700986967}. Best is trial 32 with value: 0.3282777870290277.\n",
      "[I 2024-06-08 22:09:56,037] Trial 59 finished with value: 0.3322181440841197 and parameters: {'max_depth': 9, 'learning_rate': 0.02909634230205352, 'n_estimators': 368, 'gamma': 0.0001435749359505185, 'subsample': 0.7682766213268765, 'colsample_bytree': 0.6859778839114581, 'reg_alpha': 0.0008303030532060481, 'reg_lambda': 0.03702754687768962}. Best is trial 32 with value: 0.3282777870290277.\n",
      "[I 2024-06-08 22:09:57,544] Trial 60 finished with value: 0.3299191487292656 and parameters: {'max_depth': 10, 'learning_rate': 0.01536666684619912, 'n_estimators': 484, 'gamma': 0.00041598359316802054, 'subsample': 0.7972492941601068, 'colsample_bytree': 0.8785580295928506, 'reg_alpha': 0.00021514062757368934, 'reg_lambda': 0.012546144270193958}. Best is trial 32 with value: 0.3282777870290277.\n",
      "[I 2024-06-08 22:09:59,083] Trial 61 finished with value: 0.33016623170459225 and parameters: {'max_depth': 10, 'learning_rate': 0.0137633360383142, 'n_estimators': 487, 'gamma': 0.0004266203913009202, 'subsample': 0.8012386068449766, 'colsample_bytree': 0.887325644829238, 'reg_alpha': 0.00022318848149843008, 'reg_lambda': 0.01122060005588316}. Best is trial 32 with value: 0.3282777870290277.\n",
      "[I 2024-06-08 22:10:00,493] Trial 62 finished with value: 0.3338440870779163 and parameters: {'max_depth': 10, 'learning_rate': 0.019333912684029425, 'n_estimators': 449, 'gamma': 0.0006404671520726121, 'subsample': 0.7343721748573966, 'colsample_bytree': 0.920713957123734, 'reg_alpha': 0.00015413111598059024, 'reg_lambda': 0.024941616194843363}. Best is trial 32 with value: 0.3282777870290277.\n",
      "[I 2024-06-08 22:10:02,023] Trial 63 finished with value: 0.33337700070768306 and parameters: {'max_depth': 10, 'learning_rate': 0.03762987495585955, 'n_estimators': 459, 'gamma': 0.00019319591690437766, 'subsample': 0.7969623783968847, 'colsample_bytree': 0.8760602854296047, 'reg_alpha': 0.000342558586178839, 'reg_lambda': 0.01896238862570046}. Best is trial 32 with value: 0.3282777870290277.\n",
      "[I 2024-06-08 22:10:03,196] Trial 64 finished with value: 0.3304831796273708 and parameters: {'max_depth': 9, 'learning_rate': 0.02266447128207252, 'n_estimators': 416, 'gamma': 0.0002942426143147181, 'subsample': 0.8591499934808915, 'colsample_bytree': 0.8541374473471589, 'reg_alpha': 0.0001315514730669318, 'reg_lambda': 0.004322765372872808}. Best is trial 32 with value: 0.3282777870290277.\n",
      "[I 2024-06-08 22:10:04,401] Trial 65 finished with value: 0.33140087492840925 and parameters: {'max_depth': 8, 'learning_rate': 0.015842414507627845, 'n_estimators': 473, 'gamma': 0.0003926755296896432, 'subsample': 0.9121055220171972, 'colsample_bytree': 0.9007340227433808, 'reg_alpha': 0.0026085798661792093, 'reg_lambda': 0.060545184150239656}. Best is trial 32 with value: 0.3282777870290277.\n",
      "[I 2024-06-08 22:10:05,574] Trial 66 finished with value: 0.3384046755736773 and parameters: {'max_depth': 7, 'learning_rate': 0.010490198882347885, 'n_estimators': 500, 'gamma': 0.0005604352393930953, 'subsample': 0.81933271280659, 'colsample_bytree': 0.8386880742165559, 'reg_alpha': 0.0002637837787518365, 'reg_lambda': 0.01222225524655864}. Best is trial 32 with value: 0.3282777870290277.\n",
      "[I 2024-06-08 22:10:06,567] Trial 67 finished with value: 0.3319858809414388 and parameters: {'max_depth': 9, 'learning_rate': 0.058014961241207946, 'n_estimators': 345, 'gamma': 0.001996777943160739, 'subsample': 0.9020887933908073, 'colsample_bytree': 0.956651721097362, 'reg_alpha': 0.00019706632706150413, 'reg_lambda': 0.00789742861478877}. Best is trial 32 with value: 0.3282777870290277.\n",
      "[I 2024-06-08 22:10:07,122] Trial 68 finished with value: 0.427885544300707 and parameters: {'max_depth': 6, 'learning_rate': 0.003807224934336458, 'n_estimators': 259, 'gamma': 0.0010208522977834648, 'subsample': 0.8754692690765712, 'colsample_bytree': 0.9278653236664907, 'reg_alpha': 0.006819860302294677, 'reg_lambda': 0.015438734094998876}. Best is trial 32 with value: 0.3282777870290277.\n",
      "[I 2024-06-08 22:10:08,285] Trial 69 finished with value: 0.3338988325036261 and parameters: {'max_depth': 10, 'learning_rate': 0.028037487275360245, 'n_estimators': 394, 'gamma': 0.0002748726139789266, 'subsample': 0.7546635669271721, 'colsample_bytree': 0.8717791221306398, 'reg_alpha': 0.016713792982662234, 'reg_lambda': 0.002646550383066707}. Best is trial 32 with value: 0.3282777870290277.\n",
      "[I 2024-06-08 22:10:09,310] Trial 70 finished with value: 0.32755493986053186 and parameters: {'max_depth': 8, 'learning_rate': 0.036680449547125196, 'n_estimators': 435, 'gamma': 0.00022031873858366339, 'subsample': 0.7847912943869709, 'colsample_bytree': 0.9020090831576235, 'reg_alpha': 0.0006481681636041503, 'reg_lambda': 0.0001670431871727745}. Best is trial 70 with value: 0.32755493986053186.\n",
      "[I 2024-06-08 22:10:10,371] Trial 71 finished with value: 0.3323989489221644 and parameters: {'max_depth': 8, 'learning_rate': 0.036390281065116464, 'n_estimators': 433, 'gamma': 0.00021242347781414106, 'subsample': 0.7746026870856068, 'colsample_bytree': 0.9062131232421753, 'reg_alpha': 0.0005198295730431311, 'reg_lambda': 0.0016999623734745828}. Best is trial 70 with value: 0.32755493986053186.\n",
      "[I 2024-06-08 22:10:10,925] Trial 72 finished with value: 0.33281102264298007 and parameters: {'max_depth': 8, 'learning_rate': 0.09227664258113936, 'n_estimators': 219, 'gamma': 0.00016414657402861012, 'subsample': 0.8344777387457639, 'colsample_bytree': 0.8930706298397932, 'reg_alpha': 0.0011455942560017374, 'reg_lambda': 0.0003924680843790638}. Best is trial 70 with value: 0.32755493986053186.\n",
      "[I 2024-06-08 22:10:12,154] Trial 73 finished with value: 0.33332803073795286 and parameters: {'max_depth': 9, 'learning_rate': 0.046203484106534395, 'n_estimators': 467, 'gamma': 0.0003528227754987372, 'subsample': 0.7894901818588239, 'colsample_bytree': 0.9146672918439429, 'reg_alpha': 0.00070531807122177, 'reg_lambda': 0.009940810525834906}. Best is trial 70 with value: 0.32755493986053186.\n",
      "[I 2024-06-08 22:10:13,082] Trial 74 finished with value: 0.3287508054706307 and parameters: {'max_depth': 7, 'learning_rate': 0.020036029804198423, 'n_estimators': 445, 'gamma': 0.00046175738568725983, 'subsample': 0.8486951089184966, 'colsample_bytree': 0.8526978276424836, 'reg_alpha': 0.0009378480496044578, 'reg_lambda': 0.007479705837397876}. Best is trial 70 with value: 0.32755493986053186.\n"
     ]
    },
    {
     "name": "stdout",
     "output_type": "stream",
     "text": [
      "Best params:  {'max_depth': 8, 'learning_rate': 0.036680449547125196, 'n_estimators': 435, 'gamma': 0.00022031873858366339, 'subsample': 0.7847912943869709, 'colsample_bytree': 0.9020090831576235, 'reg_alpha': 0.0006481681636041503, 'reg_lambda': 0.0001670431871727745}\n"
     ]
    }
   ],
   "source": [
    "from xgboost.sklearn import XGBRegressor\n",
    "import optuna\n",
    "\n",
    "def objective(trial):\n",
    "    params = {\n",
    "        'max_depth': trial.suggest_int('max_depth', 3, 10),\n",
    "        'learning_rate': trial.suggest_loguniform('learning_rate', 1e-4, 1e-1),\n",
    "        'n_estimators': trial.suggest_int('n_estimators', 50, 500),\n",
    "        'gamma': trial.suggest_loguniform('gamma', 1e-4, 1e-1),\n",
    "        'subsample': trial.suggest_float('subsample', 0.5, 1.0),\n",
    "        'colsample_bytree': trial.suggest_float('colsample_bytree', 0.5, 1.0),\n",
    "        'reg_alpha': trial.suggest_loguniform('reg_alpha', 1e-4, 1e-1),\n",
    "        'reg_lambda': trial.suggest_loguniform('reg_lambda', 1e-4, 1e-1),\n",
    "    }\n",
    "\n",
    "    model = XGBRegressor(**params)\n",
    "    model.fit(X_train_, y_train)\n",
    "\n",
    "    y_val_pred = model.predict(X_val_)\n",
    "    val_mape = mean_absolute_percentage_error(y_val, y_val_pred)\n",
    "    val_rmse = mean_squared_error(y_val, y_val_pred, squared=False)\n",
    "\n",
    "    return val_mape\n",
    "\n",
    "study = optuna.create_study(direction='minimize')\n",
    "study.optimize(objective, n_trials=75)\n",
    "\n",
    "best_params = study.best_params\n",
    "print(\"Best params: \", best_params)"
   ]
  },
  {
   "cell_type": "code",
   "execution_count": 6,
   "id": "c71ab741-83f0-4f56-a097-db5edafaeb6f",
   "metadata": {},
   "outputs": [
    {
     "name": "stdout",
     "output_type": "stream",
     "text": [
      "MAPE val:  0.32755493986053186\n",
      "MAPE test:  0.3853534243911234\n",
      "RMSE val:  52002.65898262161\n",
      "RMSE test:  46049.399862946375\n",
      "Training time:  0.9768226146697998\n",
      "Prediction time:  0.0015192031860351562\n"
     ]
    }
   ],
   "source": [
    "import time\n",
    "\n",
    "xgb_model = XGBRegressor(**best_params)\n",
    "\n",
    "start_time = time.time()\n",
    "xgb_model.fit(X_train_, y_train)\n",
    "training_time = time.time() - start_time\n",
    "\n",
    "\n",
    "val_predict = xgb_model.predict(X_val_)\n",
    "\n",
    "start_time = time.time()\n",
    "test_predict = xgb_model.predict(X_test_)\n",
    "prediction_time = time.time() - start_time\n",
    "\n",
    "val_mape = mean_absolute_percentage_error(y_val, val_predict)\n",
    "test_mape = mean_absolute_percentage_error(y_test, test_predict)\n",
    "\n",
    "val_rmse = mean_squared_error(y_val, val_predict, squared=False)\n",
    "test_rmse = mean_squared_error(y_test, test_predict, squared=False)\n",
    "\n",
    "print('MAPE val: ', val_mape)\n",
    "print('MAPE test: ', test_mape)\n",
    "\n",
    "print('RMSE val: ', val_rmse)\n",
    "print('RMSE test: ', test_rmse)\n",
    "\n",
    "print('Training time: ', training_time)\n",
    "print('Prediction time: ', prediction_time)"
   ]
  },
  {
   "cell_type": "markdown",
   "id": "RmWp9wxu318i",
   "metadata": {
    "id": "RmWp9wxu318i"
   },
   "source": [
    "## Задание 4 (1 балл) CatBoost"
   ]
  },
  {
   "cell_type": "markdown",
   "id": "bDWqieZk3-rv",
   "metadata": {
    "id": "bDWqieZk3-rv"
   },
   "source": [
    "Теперь библиотека CatBoost.\n",
    "\n",
    "Обучите модель `CatBoostRegressor`, подобрав оптимальные гиперпараметры (`depth, learning_rate, iterations`, etc.) по валидационной выборке. Оцените качество итоговой модели (MAPE, RMSE), скорость обучения и скорость предсказания."
   ]
  },
  {
   "cell_type": "code",
   "execution_count": 61,
   "id": "9eec0ecc-665c-4d34-b604-566e0ac5d931",
   "metadata": {},
   "outputs": [],
   "source": [
    "# !pip install catboost"
   ]
  },
  {
   "cell_type": "code",
   "execution_count": 7,
   "id": "mbhrOOPJ4X9C",
   "metadata": {
    "id": "mbhrOOPJ4X9C"
   },
   "outputs": [
    {
     "name": "stderr",
     "output_type": "stream",
     "text": [
      "[I 2024-06-08 22:10:14,373] A new study created in memory with name: no-name-44f92db3-f33f-48c0-a6ef-8645b5659335\n",
      "[I 2024-06-08 22:10:16,788] Trial 0 finished with value: 0.49158914394121844 and parameters: {'depth': 9, 'learning_rate': 0.0011432040761145952, 'iterations': 545, 'l2_leaf_reg': 0.0012698906082483847, 'random_strength': 0.00026591431930426994, 'bagging_temperature': 0.0039768485590080255, 'border_count': 175}. Best is trial 0 with value: 0.49158914394121844.\n",
      "[I 2024-06-08 22:10:18,150] Trial 1 finished with value: 0.5699857089026171 and parameters: {'depth': 9, 'learning_rate': 0.0007856826857628055, 'iterations': 310, 'l2_leaf_reg': 0.019284442215361044, 'random_strength': 0.00029212665108687444, 'bagging_temperature': 0.004547019081931856, 'border_count': 183}. Best is trial 0 with value: 0.49158914394121844.\n",
      "[I 2024-06-08 22:10:18,945] Trial 2 finished with value: 0.3396538043261144 and parameters: {'depth': 6, 'learning_rate': 0.06210815264822178, 'iterations': 335, 'l2_leaf_reg': 0.03661576970421208, 'random_strength': 0.07844163374014168, 'bagging_temperature': 0.00019861856707083418, 'border_count': 245}. Best is trial 2 with value: 0.3396538043261144.\n",
      "[I 2024-06-08 22:10:20,772] Trial 3 finished with value: 0.34116247099035324 and parameters: {'depth': 8, 'learning_rate': 0.059878069401939384, 'iterations': 584, 'l2_leaf_reg': 0.0017610112817688808, 'random_strength': 0.00026171319775104916, 'bagging_temperature': 0.05804028832505835, 'border_count': 91}. Best is trial 2 with value: 0.3396538043261144.\n",
      "[I 2024-06-08 22:10:21,539] Trial 4 finished with value: 0.3824576879693264 and parameters: {'depth': 8, 'learning_rate': 0.010991389749017172, 'iterations': 197, 'l2_leaf_reg': 0.0002926524926796141, 'random_strength': 0.0008820112968503441, 'bagging_temperature': 0.0004997021046119662, 'border_count': 223}. Best is trial 2 with value: 0.3396538043261144.\n",
      "[I 2024-06-08 22:10:23,445] Trial 5 finished with value: 0.34459561396844046 and parameters: {'depth': 6, 'learning_rate': 0.05180018683090265, 'iterations': 919, 'l2_leaf_reg': 0.00011081481792620891, 'random_strength': 0.00067106671803781, 'bagging_temperature': 0.0025882722659992144, 'border_count': 97}. Best is trial 2 with value: 0.3396538043261144.\n",
      "[I 2024-06-08 22:10:25,914] Trial 6 finished with value: 0.598115926975671 and parameters: {'depth': 8, 'learning_rate': 0.00018627576379827708, 'iterations': 758, 'l2_leaf_reg': 0.0828920021867892, 'random_strength': 0.024244471023427118, 'bagging_temperature': 0.002976114314860961, 'border_count': 147}. Best is trial 2 with value: 0.3396538043261144.\n",
      "[I 2024-06-08 22:10:27,451] Trial 7 finished with value: 0.34215438630195755 and parameters: {'depth': 5, 'learning_rate': 0.021638046792860435, 'iterations': 906, 'l2_leaf_reg': 0.00011131567503550045, 'random_strength': 0.00014878076956542166, 'bagging_temperature': 0.042347839056179545, 'border_count': 124}. Best is trial 2 with value: 0.3396538043261144.\n",
      "[I 2024-06-08 22:10:29,378] Trial 8 finished with value: 0.3397333203368049 and parameters: {'depth': 7, 'learning_rate': 0.011754231457434762, 'iterations': 794, 'l2_leaf_reg': 0.0005724489565398514, 'random_strength': 0.037087874592808864, 'bagging_temperature': 0.002346884830862794, 'border_count': 95}. Best is trial 2 with value: 0.3396538043261144.\n",
      "[I 2024-06-08 22:10:30,282] Trial 9 finished with value: 0.5634998875346725 and parameters: {'depth': 5, 'learning_rate': 0.0006630074741516325, 'iterations': 452, 'l2_leaf_reg': 0.026307673807366212, 'random_strength': 0.04161183374818688, 'bagging_temperature': 0.0010171382376523627, 'border_count': 138}. Best is trial 2 with value: 0.3396538043261144.\n",
      "[I 2024-06-08 22:10:30,615] Trial 10 finished with value: 0.548265171704955 and parameters: {'depth': 3, 'learning_rate': 0.004154603142072776, 'iterations': 102, 'l2_leaf_reg': 0.00697790193118244, 'random_strength': 0.006139133159873018, 'bagging_temperature': 0.00013418329519252986, 'border_count': 255}. Best is trial 2 with value: 0.3396538043261144.\n",
      "[I 2024-06-08 22:10:32,088] Trial 11 finished with value: 0.34342653178315824 and parameters: {'depth': 6, 'learning_rate': 0.013706702572532217, 'iterations': 699, 'l2_leaf_reg': 0.0005708212439564188, 'random_strength': 0.0958711540458481, 'bagging_temperature': 0.00015963905123396566, 'border_count': 39}. Best is trial 2 with value: 0.3396538043261144.\n",
      "[I 2024-06-08 22:10:32,729] Trial 12 finished with value: 0.33973647053698286 and parameters: {'depth': 4, 'learning_rate': 0.09388039071019136, 'iterations': 330, 'l2_leaf_reg': 0.005524611108362375, 'random_strength': 0.009832528197928268, 'bagging_temperature': 0.014969903468759193, 'border_count': 44}. Best is trial 2 with value: 0.3396538043261144.\n",
      "[I 2024-06-08 22:10:34,772] Trial 13 finished with value: 0.35572780235040524 and parameters: {'depth': 7, 'learning_rate': 0.005110197381511755, 'iterations': 752, 'l2_leaf_reg': 0.08249891167275515, 'random_strength': 0.08530104849183219, 'bagging_temperature': 0.00048338599877624066, 'border_count': 79}. Best is trial 2 with value: 0.3396538043261144.\n",
      "[I 2024-06-08 22:10:35,910] Trial 14 finished with value: 0.3412760270706357 and parameters: {'depth': 7, 'learning_rate': 0.022561470295907663, 'iterations': 384, 'l2_leaf_reg': 0.0005969856601501296, 'random_strength': 0.02958594523412216, 'bagging_temperature': 0.012936490402091131, 'border_count': 204}. Best is trial 2 with value: 0.3396538043261144.\n",
      "[I 2024-06-08 22:10:42,372] Trial 15 finished with value: 0.3455553431440296 and parameters: {'depth': 10, 'learning_rate': 0.03375447416158578, 'iterations': 997, 'l2_leaf_reg': 0.01813292748603912, 'random_strength': 0.011897601235516113, 'bagging_temperature': 0.00040074896692919896, 'border_count': 246}. Best is trial 2 with value: 0.3396538043261144.\n",
      "[I 2024-06-08 22:10:43,456] Trial 16 finished with value: 0.3650875617947368 and parameters: {'depth': 5, 'learning_rate': 0.007297759809410796, 'iterations': 585, 'l2_leaf_reg': 0.0025825879987109324, 'random_strength': 0.003933062130350048, 'bagging_temperature': 0.0011796369685407291, 'border_count': 69}. Best is trial 2 with value: 0.3396538043261144.\n",
      "[I 2024-06-08 22:10:44,093] Trial 17 finished with value: 0.5148001693161883 and parameters: {'depth': 6, 'learning_rate': 0.002660693123747435, 'iterations': 206, 'l2_leaf_reg': 0.007070279043203179, 'random_strength': 0.019961734319881456, 'bagging_temperature': 0.011022726041856577, 'border_count': 112}. Best is trial 2 with value: 0.3396538043261144.\n",
      "[I 2024-06-08 22:10:44,895] Trial 18 finished with value: 0.47397555969768734 and parameters: {'depth': 4, 'learning_rate': 0.002157988858834307, 'iterations': 464, 'l2_leaf_reg': 0.0007719151936085661, 'random_strength': 0.0014704694715740303, 'bagging_temperature': 0.00010419515365349547, 'border_count': 163}. Best is trial 2 with value: 0.3396538043261144.\n",
      "[I 2024-06-08 22:10:46,800] Trial 19 finished with value: 0.6194787249627767 and parameters: {'depth': 7, 'learning_rate': 0.00010009345188696931, 'iterations': 672, 'l2_leaf_reg': 0.0002923804960740702, 'random_strength': 0.05854363943687094, 'bagging_temperature': 0.0002641209866749147, 'border_count': 215}. Best is trial 2 with value: 0.3396538043261144.\n",
      "[I 2024-06-08 22:10:51,982] Trial 20 finished with value: 0.347892175094566 and parameters: {'depth': 10, 'learning_rate': 0.09408615082644559, 'iterations': 806, 'l2_leaf_reg': 0.041083922143880076, 'random_strength': 0.002470508287773393, 'bagging_temperature': 0.0012081762041411116, 'border_count': 56}. Best is trial 2 with value: 0.3396538043261144.\n",
      "[I 2024-06-08 22:10:52,514] Trial 21 finished with value: 0.3458384486509874 and parameters: {'depth': 3, 'learning_rate': 0.05373446511960496, 'iterations': 323, 'l2_leaf_reg': 0.005557395617563722, 'random_strength': 0.009340978669164392, 'bagging_temperature': 0.023679377560431786, 'border_count': 40}. Best is trial 2 with value: 0.3396538043261144.\n",
      "[I 2024-06-08 22:10:53,066] Trial 22 finished with value: 0.338547858452224 and parameters: {'depth': 4, 'learning_rate': 0.08171040834483952, 'iterations': 253, 'l2_leaf_reg': 0.011548280280634895, 'random_strength': 0.014724050607840346, 'bagging_temperature': 0.009811384077592829, 'border_count': 110}. Best is trial 22 with value: 0.338547858452224.\n",
      "[I 2024-06-08 22:10:53,510] Trial 23 finished with value: 0.3675489503453568 and parameters: {'depth': 4, 'learning_rate': 0.026032269474402896, 'iterations': 182, 'l2_leaf_reg': 0.04215677284341933, 'random_strength': 0.04589237919075594, 'bagging_temperature': 0.00759487475394905, 'border_count': 115}. Best is trial 22 with value: 0.338547858452224.\n",
      "[I 2024-06-08 22:10:54,196] Trial 24 finished with value: 0.3764190253993101 and parameters: {'depth': 5, 'learning_rate': 0.012144335414335492, 'iterations': 274, 'l2_leaf_reg': 0.013141303463251642, 'random_strength': 0.01782748999583061, 'bagging_temperature': 0.09189093546725723, 'border_count': 142}. Best is trial 22 with value: 0.338547858452224.\n",
      "[I 2024-06-08 22:10:55,219] Trial 25 finished with value: 0.34002519779048906 and parameters: {'depth': 6, 'learning_rate': 0.04159457969704332, 'iterations': 439, 'l2_leaf_reg': 0.010873152833654252, 'random_strength': 0.03791010882730326, 'bagging_temperature': 0.0019672959670334242, 'border_count': 89}. Best is trial 22 with value: 0.338547858452224.\n",
      "[I 2024-06-08 22:10:55,673] Trial 26 finished with value: 0.3941884027667103 and parameters: {'depth': 7, 'learning_rate': 0.01843272407120043, 'iterations': 104, 'l2_leaf_reg': 0.003458114580853247, 'random_strength': 0.06521673985182015, 'bagging_temperature': 0.007476348854286372, 'border_count': 106}. Best is trial 22 with value: 0.338547858452224.\n",
      "[I 2024-06-08 22:10:56,539] Trial 27 finished with value: 0.3448874745270218 and parameters: {'depth': 4, 'learning_rate': 0.09587199673438586, 'iterations': 529, 'l2_leaf_reg': 0.036694092017567924, 'random_strength': 0.016324857996891887, 'bagging_temperature': 0.029306802432218934, 'border_count': 123}. Best is trial 22 with value: 0.338547858452224.\n",
      "[I 2024-06-08 22:10:57,006] Trial 28 finished with value: 0.4311451598518072 and parameters: {'depth': 3, 'learning_rate': 0.00746458260634773, 'iterations': 246, 'l2_leaf_reg': 0.06109414407285745, 'random_strength': 0.031514556556176736, 'bagging_temperature': 0.0063768773807682585, 'border_count': 63}. Best is trial 22 with value: 0.338547858452224.\n",
      "[I 2024-06-08 22:10:58,862] Trial 29 finished with value: 0.3360654400390895 and parameters: {'depth': 9, 'learning_rate': 0.03297000241296348, 'iterations': 400, 'l2_leaf_reg': 0.0031030976202747447, 'random_strength': 0.004862569236871496, 'bagging_temperature': 0.0002429582227974827, 'border_count': 182}. Best is trial 29 with value: 0.3360654400390895.\n",
      "[I 2024-06-08 22:11:00,524] Trial 30 finished with value: 0.34107150570805567 and parameters: {'depth': 9, 'learning_rate': 0.03601687296554452, 'iterations': 379, 'l2_leaf_reg': 0.0034490510919940693, 'random_strength': 0.00468015273944554, 'bagging_temperature': 0.00022608510561340084, 'border_count': 188}. Best is trial 29 with value: 0.3360654400390895.\n",
      "[I 2024-06-08 22:11:01,873] Trial 31 finished with value: 0.34068329401569714 and parameters: {'depth': 8, 'learning_rate': 0.0590697490742044, 'iterations': 390, 'l2_leaf_reg': 0.002185516728276089, 'random_strength': 0.006479060329787505, 'bagging_temperature': 0.0007878122852833422, 'border_count': 232}. Best is trial 29 with value: 0.3360654400390895.\n",
      "[I 2024-06-08 22:11:04,013] Trial 32 finished with value: 0.3363554214157387 and parameters: {'depth': 9, 'learning_rate': 0.026035362537757057, 'iterations': 520, 'l2_leaf_reg': 0.0013014942360925147, 'random_strength': 0.0025745590061037565, 'bagging_temperature': 0.0002667667968573811, 'border_count': 167}. Best is trial 29 with value: 0.3360654400390895.\n",
      "[I 2024-06-08 22:11:06,309] Trial 33 finished with value: 0.3401761725936142 and parameters: {'depth': 9, 'learning_rate': 0.031970636117418814, 'iterations': 540, 'l2_leaf_reg': 0.010439793560279112, 'random_strength': 0.0024868808016231553, 'bagging_temperature': 0.0002943120787674106, 'border_count': 168}. Best is trial 29 with value: 0.3360654400390895.\n",
      "[I 2024-06-08 22:11:09,643] Trial 34 finished with value: 0.34855985026734093 and parameters: {'depth': 10, 'learning_rate': 0.06873878664108801, 'iterations': 490, 'l2_leaf_reg': 0.0010901071748615815, 'random_strength': 0.0016238098869957025, 'bagging_temperature': 0.0002032689486397498, 'border_count': 188}. Best is trial 29 with value: 0.3360654400390895.\n",
      "[I 2024-06-08 22:11:10,645] Trial 35 finished with value: 0.3468083358296921 and parameters: {'depth': 8, 'learning_rate': 0.017200453088935475, 'iterations': 268, 'l2_leaf_reg': 0.001068096607465101, 'random_strength': 0.000618757522211288, 'bagging_temperature': 0.0006661968870711096, 'border_count': 157}. Best is trial 29 with value: 0.3360654400390895.\n",
      "[I 2024-06-08 22:11:14,826] Trial 36 finished with value: 0.34742301111719537 and parameters: {'depth': 10, 'learning_rate': 0.04435989304368963, 'iterations': 645, 'l2_leaf_reg': 0.0016073776248078059, 'random_strength': 0.0013362394667675826, 'bagging_temperature': 0.004293459500545703, 'border_count': 204}. Best is trial 29 with value: 0.3360654400390895.\n",
      "[I 2024-06-08 22:11:17,156] Trial 37 finished with value: 0.34723044373471096 and parameters: {'depth': 9, 'learning_rate': 0.07449030998225768, 'iterations': 596, 'l2_leaf_reg': 0.019133257188342846, 'random_strength': 0.0031085735897219114, 'bagging_temperature': 0.00010729778315187229, 'border_count': 178}. Best is trial 29 with value: 0.3360654400390895.\n",
      "[I 2024-06-08 22:11:18,405] Trial 38 finished with value: 0.5820799666073464 and parameters: {'depth': 8, 'learning_rate': 0.0005804983968667782, 'iterations': 345, 'l2_leaf_reg': 0.0045468289353370875, 'random_strength': 0.000885489714706081, 'bagging_temperature': 0.0003425077201029451, 'border_count': 233}. Best is trial 29 with value: 0.3360654400390895.\n",
      "[I 2024-06-08 22:11:19,269] Trial 39 finished with value: 0.5865084157614316 and parameters: {'depth': 9, 'learning_rate': 0.0011057833142418248, 'iterations': 163, 'l2_leaf_reg': 0.0003126606622890858, 'random_strength': 0.005652789122027981, 'bagging_temperature': 0.00016347169879220522, 'border_count': 131}. Best is trial 29 with value: 0.3360654400390895.\n",
      "[I 2024-06-08 22:11:20,970] Trial 40 finished with value: 0.33990482841390374 and parameters: {'depth': 8, 'learning_rate': 0.03033243917315245, 'iterations': 498, 'l2_leaf_reg': 0.026551391052060808, 'random_strength': 0.012403259371379914, 'bagging_temperature': 0.0019195013338376742, 'border_count': 149}. Best is trial 29 with value: 0.3360654400390895.\n",
      "[I 2024-06-08 22:11:21,978] Trial 41 finished with value: 0.3495879106055874 and parameters: {'depth': 6, 'learning_rate': 0.014793328817353289, 'iterations': 425, 'l2_leaf_reg': 0.0003829944725587757, 'random_strength': 0.06443934222940684, 'bagging_temperature': 0.0006727715611069333, 'border_count': 197}. Best is trial 29 with value: 0.3360654400390895.\n",
      "[I 2024-06-08 22:11:25,669] Trial 42 finished with value: 0.3445313663028065 and parameters: {'depth': 9, 'learning_rate': 0.007609272433721611, 'iterations': 842, 'l2_leaf_reg': 0.0016028362220894957, 'random_strength': 0.023914368336622586, 'bagging_temperature': 0.0028075155964281226, 'border_count': 97}. Best is trial 29 with value: 0.3360654400390895.\n",
      "[I 2024-06-08 22:11:26,591] Trial 43 finished with value: 0.3701522271621404 and parameters: {'depth': 7, 'learning_rate': 0.009399207706387212, 'iterations': 293, 'l2_leaf_reg': 0.0021508814953829633, 'random_strength': 0.008062588754443122, 'bagging_temperature': 0.0004811216128931558, 'border_count': 85}. Best is trial 29 with value: 0.3360654400390895.\n",
      "[I 2024-06-08 22:11:27,761] Trial 44 finished with value: 0.34232799383011403 and parameters: {'depth': 5, 'learning_rate': 0.04775035268085135, 'iterations': 633, 'l2_leaf_reg': 0.0008236692660455112, 'random_strength': 0.045073546254035715, 'bagging_temperature': 0.00017887159799600454, 'border_count': 131}. Best is trial 29 with value: 0.3360654400390895.\n",
      "[I 2024-06-08 22:11:29,144] Trial 45 finished with value: 0.3416840091200696 and parameters: {'depth': 8, 'learning_rate': 0.02227532947648679, 'iterations': 407, 'l2_leaf_reg': 0.0001945312178367377, 'random_strength': 0.09911694883299163, 'bagging_temperature': 0.021296029594578995, 'border_count': 154}. Best is trial 29 with value: 0.3360654400390895.\n",
      "[I 2024-06-08 22:11:30,747] Trial 46 finished with value: 0.34024886399270354 and parameters: {'depth': 9, 'learning_rate': 0.06646448637415647, 'iterations': 348, 'l2_leaf_reg': 0.0004280374876836717, 'random_strength': 0.0003456319358994664, 'bagging_temperature': 0.00035767522195045016, 'border_count': 171}. Best is trial 29 with value: 0.3360654400390895.\n",
      "[I 2024-06-08 22:11:31,462] Trial 47 finished with value: 0.44453986963673114 and parameters: {'depth': 6, 'learning_rate': 0.0050247363868299, 'iterations': 230, 'l2_leaf_reg': 0.00018765208503340462, 'random_strength': 0.012991903374564474, 'bagging_temperature': 0.0017068672923666614, 'border_count': 98}. Best is trial 29 with value: 0.3360654400390895.\n",
      "[I 2024-06-08 22:11:33,286] Trial 48 finished with value: 0.34050073290613353 and parameters: {'depth': 5, 'learning_rate': 0.0260945179373686, 'iterations': 998, 'l2_leaf_reg': 0.007923905852851078, 'random_strength': 0.027845911784386054, 'bagging_temperature': 0.00012862295709106133, 'border_count': 79}. Best is trial 29 with value: 0.3360654400390895.\n",
      "[I 2024-06-08 22:11:36,373] Trial 49 finished with value: 0.34296648076282404 and parameters: {'depth': 10, 'learning_rate': 0.042119525011198373, 'iterations': 472, 'l2_leaf_reg': 0.0013885954745187974, 'random_strength': 0.004154639648388302, 'bagging_temperature': 0.005699129174683442, 'border_count': 245}. Best is trial 29 with value: 0.3360654400390895.\n",
      "[I 2024-06-08 22:11:38,541] Trial 50 finished with value: 0.34640731355493204 and parameters: {'depth': 7, 'learning_rate': 0.07601196786396491, 'iterations': 892, 'l2_leaf_reg': 0.09426157297288228, 'random_strength': 0.07705993778680803, 'bagging_temperature': 0.04402262411021784, 'border_count': 225}. Best is trial 29 with value: 0.3360654400390895.\n",
      "[I 2024-06-08 22:11:39,125] Trial 51 finished with value: 0.34006562390212103 and parameters: {'depth': 4, 'learning_rate': 0.08914310587672337, 'iterations': 319, 'l2_leaf_reg': 0.004376219790640073, 'random_strength': 0.008918890297596729, 'bagging_temperature': 0.014201493355751821, 'border_count': 40}. Best is trial 29 with value: 0.3360654400390895.\n",
      "[I 2024-06-08 22:11:40,233] Trial 52 finished with value: 0.33908982660360654 and parameters: {'depth': 4, 'learning_rate': 0.054431925990398713, 'iterations': 748, 'l2_leaf_reg': 0.0029118499692221238, 'random_strength': 0.002107345724342291, 'bagging_temperature': 0.010501659435150655, 'border_count': 73}. Best is trial 29 with value: 0.3360654400390895.\n",
      "[I 2024-06-08 22:11:41,236] Trial 53 finished with value: 0.3415403995278226 and parameters: {'depth': 3, 'learning_rate': 0.0548193583904073, 'iterations': 752, 'l2_leaf_reg': 0.0031169013882916233, 'random_strength': 0.002075977780218147, 'bagging_temperature': 0.009009394588264557, 'border_count': 59}. Best is trial 29 with value: 0.3360654400390895.\n",
      "[I 2024-06-08 22:11:42,406] Trial 54 finished with value: 0.34584432564130996 and parameters: {'depth': 4, 'learning_rate': 0.018326541960483906, 'iterations': 713, 'l2_leaf_reg': 0.0008157519843226076, 'random_strength': 0.00012036448553594133, 'bagging_temperature': 0.0047981778144342915, 'border_count': 74}. Best is trial 29 with value: 0.3360654400390895.\n",
      "[I 2024-06-08 22:11:43,678] Trial 55 finished with value: 0.3382324325086749 and parameters: {'depth': 4, 'learning_rate': 0.035788436627132256, 'iterations': 848, 'l2_leaf_reg': 0.002106314391165744, 'random_strength': 0.0032480718979239855, 'bagging_temperature': 0.018205398570920323, 'border_count': 108}. Best is trial 29 with value: 0.3360654400390895.\n",
      "[I 2024-06-08 22:11:45,082] Trial 56 finished with value: 0.3382163035105746 and parameters: {'depth': 4, 'learning_rate': 0.03790105985301459, 'iterations': 939, 'l2_leaf_reg': 0.0021558131945379534, 'random_strength': 0.0034076650329524353, 'bagging_temperature': 0.017085957998983676, 'border_count': 119}. Best is trial 29 with value: 0.3360654400390895.\n",
      "[I 2024-06-08 22:11:46,372] Trial 57 finished with value: 0.3365259754871177 and parameters: {'depth': 4, 'learning_rate': 0.036981394011629164, 'iterations': 936, 'l2_leaf_reg': 0.002005253341612757, 'random_strength': 0.002861133266601523, 'bagging_temperature': 0.018457996150081007, 'border_count': 111}. Best is trial 29 with value: 0.3360654400390895.\n",
      "[I 2024-06-08 22:11:47,531] Trial 58 finished with value: 0.5617531009752855 and parameters: {'depth': 3, 'learning_rate': 0.0003673455290870019, 'iterations': 942, 'l2_leaf_reg': 0.0020760152390851636, 'random_strength': 0.003120761834097718, 'bagging_temperature': 0.018870239891614807, 'border_count': 111}. Best is trial 29 with value: 0.3360654400390895.\n",
      "[I 2024-06-08 22:11:48,923] Trial 59 finished with value: 0.3364575947797165 and parameters: {'depth': 4, 'learning_rate': 0.02769202048367808, 'iterations': 959, 'l2_leaf_reg': 0.001106898701382937, 'random_strength': 0.003457447727552065, 'bagging_temperature': 0.02980887341578428, 'border_count': 125}. Best is trial 29 with value: 0.3360654400390895.\n",
      "[I 2024-06-08 22:11:50,790] Trial 60 finished with value: 0.34234133791445787 and parameters: {'depth': 5, 'learning_rate': 0.026152880195567253, 'iterations': 940, 'l2_leaf_reg': 0.0010249602268734448, 'random_strength': 0.001169929315222979, 'bagging_temperature': 0.03239434259229416, 'border_count': 122}. Best is trial 29 with value: 0.3360654400390895.\n",
      "[I 2024-06-08 22:11:52,136] Trial 61 finished with value: 0.3365788026895447 and parameters: {'depth': 4, 'learning_rate': 0.03562814288422904, 'iterations': 899, 'l2_leaf_reg': 0.0013257241527026126, 'random_strength': 0.0033752651692244683, 'bagging_temperature': 0.017203494048142524, 'border_count': 106}. Best is trial 29 with value: 0.3360654400390895.\n",
      "[I 2024-06-08 22:11:53,456] Trial 62 finished with value: 0.33834683512627817 and parameters: {'depth': 4, 'learning_rate': 0.03216444990504877, 'iterations': 870, 'l2_leaf_reg': 0.0013740822138481256, 'random_strength': 0.003358261267439447, 'bagging_temperature': 0.05551287078369323, 'border_count': 138}. Best is trial 29 with value: 0.3360654400390895.\n",
      "[I 2024-06-08 22:11:54,809] Trial 63 finished with value: 0.34132134225476185 and parameters: {'depth': 4, 'learning_rate': 0.020315496241977208, 'iterations': 962, 'l2_leaf_reg': 0.002465745796055394, 'random_strength': 0.005718418588150368, 'bagging_temperature': 0.018459303407855107, 'border_count': 101}. Best is trial 29 with value: 0.3360654400390895.\n",
      "[I 2024-06-08 22:11:56,426] Trial 64 finished with value: 0.34400959766751665 and parameters: {'depth': 5, 'learning_rate': 0.036942691503542416, 'iterations': 838, 'l2_leaf_reg': 0.0019287483205678003, 'random_strength': 0.0018557437683502946, 'bagging_temperature': 0.031633313466350024, 'border_count': 120}. Best is trial 29 with value: 0.3360654400390895.\n",
      "[I 2024-06-08 22:11:57,687] Trial 65 finished with value: 0.35314666506807246 and parameters: {'depth': 3, 'learning_rate': 0.012531557663098337, 'iterations': 905, 'l2_leaf_reg': 0.0005717076492558644, 'random_strength': 0.0028187421324936063, 'bagging_temperature': 0.02500663532572071, 'border_count': 129}. Best is trial 29 with value: 0.3360654400390895.\n",
      "[I 2024-06-08 22:11:59,493] Trial 66 finished with value: 0.3521419657944715 and parameters: {'depth': 4, 'learning_rate': 0.009879779400611336, 'iterations': 963, 'l2_leaf_reg': 0.004431180999347696, 'random_strength': 0.004559768809950387, 'bagging_temperature': 0.07099720779853995, 'border_count': 105}. Best is trial 29 with value: 0.3360654400390895.\n",
      "[I 2024-06-08 22:12:00,763] Trial 67 finished with value: 0.3435387887182334 and parameters: {'depth': 3, 'learning_rate': 0.026426046360689615, 'iterations': 818, 'l2_leaf_reg': 0.0006933409675355604, 'random_strength': 0.006771198272407584, 'bagging_temperature': 0.04216193330283323, 'border_count': 137}. Best is trial 29 with value: 0.3360654400390895.\n",
      "[I 2024-06-08 22:12:02,421] Trial 68 finished with value: 0.3463372759720649 and parameters: {'depth': 4, 'learning_rate': 0.015214406288791284, 'iterations': 874, 'l2_leaf_reg': 0.0011501062936920675, 'random_strength': 0.0037313189702185647, 'bagging_temperature': 0.015336544955892697, 'border_count': 118}. Best is trial 29 with value: 0.3360654400390895.\n",
      "[I 2024-06-08 22:12:04,260] Trial 69 finished with value: 0.34603128185661697 and parameters: {'depth': 5, 'learning_rate': 0.04074663110046029, 'iterations': 928, 'l2_leaf_reg': 0.0016911107597991097, 'random_strength': 0.002430773366161607, 'bagging_temperature': 0.017162744110444016, 'border_count': 163}. Best is trial 29 with value: 0.3360654400390895.\n",
      "[I 2024-06-08 22:12:05,361] Trial 70 finished with value: 0.34330966428400844 and parameters: {'depth': 3, 'learning_rate': 0.029147016114505167, 'iterations': 791, 'l2_leaf_reg': 0.0027356441895054133, 'random_strength': 0.005158905786028267, 'bagging_temperature': 0.012628608531912748, 'border_count': 90}. Best is trial 29 with value: 0.3360654400390895.\n",
      "[I 2024-06-08 22:12:06,790] Trial 71 finished with value: 0.34024313145878193 and parameters: {'depth': 4, 'learning_rate': 0.02112115526181388, 'iterations': 871, 'l2_leaf_reg': 0.001370994718980039, 'random_strength': 0.0037454579234885866, 'bagging_temperature': 0.05647162879745578, 'border_count': 140}. Best is trial 29 with value: 0.3360654400390895.\n",
      "[I 2024-06-08 22:12:08,215] Trial 72 finished with value: 0.3378099887195343 and parameters: {'depth': 4, 'learning_rate': 0.03409717145393679, 'iterations': 870, 'l2_leaf_reg': 0.0009026604700597901, 'random_strength': 0.0011110985210984387, 'bagging_temperature': 0.04390386262128983, 'border_count': 146}. Best is trial 29 with value: 0.3360654400390895.\n",
      "[I 2024-06-08 22:12:09,753] Trial 73 finished with value: 0.3414392678874493 and parameters: {'depth': 4, 'learning_rate': 0.04664170412484922, 'iterations': 958, 'l2_leaf_reg': 0.0037506778334620784, 'random_strength': 0.0011365721635063452, 'bagging_temperature': 0.09512845198252295, 'border_count': 179}. Best is trial 29 with value: 0.3360654400390895.\n",
      "[I 2024-06-08 22:12:11,287] Trial 74 finished with value: 0.34113216729978707 and parameters: {'depth': 4, 'learning_rate': 0.05964307451041891, 'iterations': 976, 'l2_leaf_reg': 0.0009713611932514661, 'random_strength': 0.0017485175265289001, 'bagging_temperature': 0.04488319658570147, 'border_count': 149}. Best is trial 29 with value: 0.3360654400390895.\n"
     ]
    },
    {
     "name": "stdout",
     "output_type": "stream",
     "text": [
      "Best params:  {'depth': 9, 'learning_rate': 0.03297000241296348, 'iterations': 400, 'l2_leaf_reg': 0.0031030976202747447, 'random_strength': 0.004862569236871496, 'bagging_temperature': 0.0002429582227974827, 'border_count': 182}\n"
     ]
    }
   ],
   "source": [
    "from catboost import CatBoostRegressor\n",
    "\n",
    "def objective(trial):\n",
    "    params = {\n",
    "        'depth': trial.suggest_int('depth', 3, 10),\n",
    "        'learning_rate': trial.suggest_loguniform('learning_rate', 1e-4, 1e-1),\n",
    "        'iterations': trial.suggest_int('iterations', 100, 1000),\n",
    "        'l2_leaf_reg': trial.suggest_loguniform('l2_leaf_reg', 1e-4, 1e-1),\n",
    "        'random_strength': trial.suggest_loguniform('random_strength', 1e-4, 1e-1),\n",
    "        'bagging_temperature': trial.suggest_loguniform('bagging_temperature', 1e-4, 1e-1),\n",
    "        'border_count': trial.suggest_int('border_count', 32, 255),\n",
    "    }\n",
    "\n",
    "    model = CatBoostRegressor(**params, silent=True, random_state=42)\n",
    "    model.fit(X_train_, y_train)\n",
    "\n",
    "    y_val_pred = model.predict(X_val_)\n",
    "    val_mape = mean_absolute_percentage_error(y_val, y_val_pred)\n",
    "\n",
    "    return val_mape\n",
    "\n",
    "# Создание объекта для поиска лучших гиперпараметров\n",
    "study = optuna.create_study(direction='minimize')\n",
    "study.optimize(objective, n_trials=75)\n",
    "\n",
    "# Оптимальные гиперпараметры\n",
    "best_params = study.best_params\n",
    "print(\"Best params: \", best_params)"
   ]
  },
  {
   "cell_type": "code",
   "execution_count": 8,
   "id": "65f8cb39-cde2-4932-be41-c99af4cceab4",
   "metadata": {},
   "outputs": [
    {
     "name": "stdout",
     "output_type": "stream",
     "text": [
      "MAPE val:  0.33848716343769714\n",
      "MAPE test:  0.40095532100174197\n",
      "RMSE val:  50247.088979065484\n",
      "RMSE test:  45167.107151096185\n",
      "Training time:  1.8490910530090332\n",
      "Prediction time:  0.02255702018737793\n"
     ]
    }
   ],
   "source": [
    "catboost_model = CatBoostRegressor(**best_params, silent=True)\n",
    "\n",
    "start_time = time.time()\n",
    "catboost_model.fit(X_train_, y_train)\n",
    "training_time = time.time() - start_time\n",
    "\n",
    "\n",
    "val_predict = catboost_model.predict(X_val_)\n",
    "\n",
    "start_time = time.time()\n",
    "test_predict = catboost_model.predict(X_test_)\n",
    "prediction_time = time.time() - start_time\n",
    "\n",
    "val_mape = mean_absolute_percentage_error(y_val, val_predict)\n",
    "test_mape = mean_absolute_percentage_error(y_test, test_predict)\n",
    "\n",
    "val_rmse = mean_squared_error(y_val, val_predict, squared=False)\n",
    "test_rmse = mean_squared_error(y_test, test_predict, squared=False)\n",
    "\n",
    "print('MAPE val: ', val_mape)\n",
    "print('MAPE test: ', test_mape)\n",
    "\n",
    "print('RMSE val: ', val_rmse)\n",
    "print('RMSE test: ', test_rmse)\n",
    "\n",
    "print('Training time: ', training_time)\n",
    "print('Prediction time: ', prediction_time)"
   ]
  },
  {
   "cell_type": "markdown",
   "id": "ruUNeGOk4lho",
   "metadata": {
    "id": "ruUNeGOk4lho"
   },
   "source": [
    "Для применения catboost моделей не обязательно сначала кодировать категориальные признаки, модель может кодировать их сама. Обучите catboost с подбором оптимальных гиперпараметров снова, используя pool для передачи данных в модель с указанием какие признаки категориальные, а какие нет с помощью параметра cat_features. Оцените качество и время. Стало ли лучше?"
   ]
  },
  {
   "cell_type": "code",
   "execution_count": 32,
   "id": "5vQr1f9P6cQ5",
   "metadata": {
    "id": "5vQr1f9P6cQ5"
   },
   "outputs": [
    {
     "name": "stderr",
     "output_type": "stream",
     "text": [
      "[I 2024-06-08 22:20:35,570] A new study created in memory with name: no-name-ecfd2efa-1787-4e38-b62a-4715612caefa\n",
      "[I 2024-06-08 22:20:51,344] Trial 0 finished with value: 0.37709835089274 and parameters: {'depth': 5, 'learning_rate': 0.004981326723827293, 'iterations': 918, 'l2_leaf_reg': 0.015579119054614402, 'random_strength': 0.0043173783073663765, 'bagging_temperature': 0.000908531840721532, 'border_count': 72}. Best is trial 0 with value: 0.37709835089274.\n",
      "[I 2024-06-08 22:20:59,644] Trial 1 finished with value: 0.33894156917081186 and parameters: {'depth': 5, 'learning_rate': 0.07049915177977147, 'iterations': 454, 'l2_leaf_reg': 0.0038264622695022665, 'random_strength': 0.006095051746724338, 'bagging_temperature': 0.07496569074849764, 'border_count': 100}. Best is trial 1 with value: 0.33894156917081186.\n",
      "[I 2024-06-08 22:21:29,018] Trial 2 finished with value: 0.5984644088073464 and parameters: {'depth': 9, 'learning_rate': 0.00017135204166361843, 'iterations': 887, 'l2_leaf_reg': 0.0010494971108698135, 'random_strength': 0.0014406755496369247, 'bagging_temperature': 0.0008552454450099611, 'border_count': 204}. Best is trial 1 with value: 0.33894156917081186.\n",
      "[I 2024-06-08 22:21:31,249] Trial 3 finished with value: 0.6307303681285963 and parameters: {'depth': 7, 'learning_rate': 0.00024241678711814463, 'iterations': 145, 'l2_leaf_reg': 0.00017934365129074662, 'random_strength': 0.00012769438193286538, 'bagging_temperature': 0.006641883904627785, 'border_count': 103}. Best is trial 1 with value: 0.33894156917081186.\n",
      "[I 2024-06-08 22:21:40,021] Trial 4 finished with value: 0.6182230950947687 and parameters: {'depth': 10, 'learning_rate': 0.000260021349981082, 'iterations': 299, 'l2_leaf_reg': 0.00016516907303739574, 'random_strength': 0.0003336996133237415, 'bagging_temperature': 0.02574018999626899, 'border_count': 244}. Best is trial 1 with value: 0.33894156917081186.\n",
      "[I 2024-06-08 22:21:47,469] Trial 5 finished with value: 0.35024053819572143 and parameters: {'depth': 7, 'learning_rate': 0.037203911235437155, 'iterations': 342, 'l2_leaf_reg': 0.01516150892726143, 'random_strength': 0.003407067422356937, 'bagging_temperature': 0.00020541619589890852, 'border_count': 95}. Best is trial 1 with value: 0.33894156917081186.\n",
      "[I 2024-06-08 22:22:23,648] Trial 6 finished with value: 0.3466431163892456 and parameters: {'depth': 9, 'learning_rate': 0.010715072774138147, 'iterations': 846, 'l2_leaf_reg': 0.00012299133167602692, 'random_strength': 0.0627048782990581, 'bagging_temperature': 0.017548588029732325, 'border_count': 46}. Best is trial 1 with value: 0.33894156917081186.\n",
      "[I 2024-06-08 22:22:28,101] Trial 7 finished with value: 0.35713670624736993 and parameters: {'depth': 7, 'learning_rate': 0.03691536387894368, 'iterations': 179, 'l2_leaf_reg': 0.030309073625450968, 'random_strength': 0.0015991975466237841, 'bagging_temperature': 0.03503523299402224, 'border_count': 175}. Best is trial 1 with value: 0.33894156917081186.\n",
      "[I 2024-06-08 22:22:53,908] Trial 8 finished with value: 0.34507798091179354 and parameters: {'depth': 10, 'learning_rate': 0.022694133443099434, 'iterations': 660, 'l2_leaf_reg': 0.007271789463783272, 'random_strength': 0.08332112914295499, 'bagging_temperature': 0.061885713392447056, 'border_count': 70}. Best is trial 1 with value: 0.33894156917081186.\n",
      "[I 2024-06-08 22:23:14,959] Trial 9 finished with value: 0.3587422538188269 and parameters: {'depth': 10, 'learning_rate': 0.00729463074800377, 'iterations': 517, 'l2_leaf_reg': 0.00038194024598033885, 'random_strength': 0.023002181223103015, 'bagging_temperature': 0.005031442278681532, 'border_count': 161}. Best is trial 1 with value: 0.33894156917081186.\n",
      "[I 2024-06-08 22:23:20,935] Trial 10 finished with value: 0.3618177333491502 and parameters: {'depth': 3, 'learning_rate': 0.09834557446711706, 'iterations': 574, 'l2_leaf_reg': 0.08900393603475928, 'random_strength': 0.014031182608594664, 'bagging_temperature': 0.09977935158643236, 'border_count': 113}. Best is trial 1 with value: 0.33894156917081186.\n",
      "[I 2024-06-08 22:23:32,695] Trial 11 finished with value: 0.4545913606552967 and parameters: {'depth': 5, 'learning_rate': 0.0016941749871852885, 'iterations': 656, 'l2_leaf_reg': 0.003024493960890526, 'random_strength': 0.07879011618578492, 'bagging_temperature': 0.09220478192728011, 'border_count': 58}. Best is trial 1 with value: 0.33894156917081186.\n",
      "[I 2024-06-08 22:23:44,733] Trial 12 finished with value: 0.3421198544866708 and parameters: {'depth': 5, 'learning_rate': 0.08512553451944557, 'iterations': 711, 'l2_leaf_reg': 0.0030576919244652613, 'random_strength': 0.012254269188217029, 'bagging_temperature': 0.013344829738890647, 'border_count': 130}. Best is trial 1 with value: 0.33894156917081186.\n",
      "[I 2024-06-08 22:23:53,298] Trial 13 finished with value: 0.35254589658468855 and parameters: {'depth': 5, 'learning_rate': 0.08130707715955546, 'iterations': 440, 'l2_leaf_reg': 0.0018324308832118818, 'random_strength': 0.00870307435871874, 'bagging_temperature': 0.01429681513674655, 'border_count': 132}. Best is trial 1 with value: 0.33894156917081186.\n",
      "[I 2024-06-08 22:23:59,890] Trial 14 finished with value: 0.49716124515543636 and parameters: {'depth': 3, 'learning_rate': 0.0011231529847746178, 'iterations': 756, 'l2_leaf_reg': 0.001255466805974154, 'random_strength': 0.019542906023323987, 'bagging_temperature': 0.010273572307475866, 'border_count': 142}. Best is trial 1 with value: 0.33894156917081186.\n"
     ]
    },
    {
     "name": "stdout",
     "output_type": "stream",
     "text": [
      "Best params:  {'depth': 5, 'learning_rate': 0.07049915177977147, 'iterations': 454, 'l2_leaf_reg': 0.0038264622695022665, 'random_strength': 0.006095051746724338, 'bagging_temperature': 0.07496569074849764, 'border_count': 100}\n"
     ]
    }
   ],
   "source": [
    "from catboost import Pool\n",
    "\n",
    "train_pool = Pool(data=X_train, label=y_train, cat_features=categorical_features)\n",
    "val_pool = Pool(data=X_val, label=y_val, cat_features=categorical_features)\n",
    "\n",
    "def objective(trial):\n",
    "    params = {\n",
    "        'depth': trial.suggest_int('depth', 3, 10),\n",
    "        'learning_rate': trial.suggest_loguniform('learning_rate', 1e-4, 1e-1),\n",
    "        'iterations': trial.suggest_int('iterations', 100, 1000),\n",
    "        'l2_leaf_reg': trial.suggest_loguniform('l2_leaf_reg', 1e-4, 1e-1),\n",
    "        'random_strength': trial.suggest_loguniform('random_strength', 1e-4, 1e-1),\n",
    "        'bagging_temperature': trial.suggest_loguniform('bagging_temperature', 1e-4, 1e-1),\n",
    "        'border_count': trial.suggest_int('border_count', 32, 255),\n",
    "    }\n",
    "\n",
    "    model = CatBoostRegressor(**params, silent=True)\n",
    "    model.fit(train_pool)\n",
    "\n",
    "    y_val_pred = model.predict(val_pool)\n",
    "    val_mape = mean_absolute_percentage_error(y_val, y_val_pred)\n",
    "\n",
    "    return val_mape\n",
    "\n",
    "study = optuna.create_study(direction='minimize')\n",
    "study.optimize(objective, n_trials=15, timeout=500)\n",
    "\n",
    "best_params = study.best_params\n",
    "print(\"Best params: \", best_params)"
   ]
  },
  {
   "cell_type": "code",
   "execution_count": 33,
   "id": "790d4fe8-f097-4a41-9184-1aabfbc908a8",
   "metadata": {},
   "outputs": [
    {
     "name": "stdout",
     "output_type": "stream",
     "text": [
      "MAPE val:  0.33894156917081186\n",
      "MAPE test:  0.4152622810715527\n",
      "RMSE val:  49873.339582476605\n",
      "RMSE test:  45476.0586691711\n",
      "Training time:  6.198980093002319\n",
      "Prediction time:  0.0010006427764892578\n"
     ]
    }
   ],
   "source": [
    "final_cat_model = CatBoostRegressor(**best_params, silent=True)\n",
    "\n",
    "test_pool = Pool(data=X_test, label=y_test, cat_features=categorical_features)\n",
    "\n",
    "start_time = time.time()\n",
    "final_cat_model.fit(train_pool)\n",
    "training_time = time.time() - start_time\n",
    "\n",
    "\n",
    "val_predict = final_cat_model.predict(val_pool)\n",
    "\n",
    "start_time = time.time()\n",
    "test_predict = final_cat_model.predict(test_pool)\n",
    "prediction_time = time.time() - start_time\n",
    "\n",
    "val_mape = mean_absolute_percentage_error(y_val, val_predict)\n",
    "test_mape = mean_absolute_percentage_error(y_test, test_predict)\n",
    "\n",
    "val_rmse = mean_squared_error(y_val, val_predict, squared=False)\n",
    "test_rmse = mean_squared_error(y_test, test_predict, squared=False)\n",
    "\n",
    "print('MAPE val: ', val_mape)\n",
    "print('MAPE test: ', test_mape)\n",
    "\n",
    "print('RMSE val: ', val_rmse)\n",
    "print('RMSE test: ', test_rmse)\n",
    "\n",
    "print('Training time: ', training_time)\n",
    "print('Prediction time: ', prediction_time)"
   ]
  },
  {
   "cell_type": "markdown",
   "id": "eA0djixU7L8c",
   "metadata": {
    "id": "eA0djixU7L8c"
   },
   "source": [
    "**Ответ:**  Качество упало, время обучения возросло, время предсказания уменьшилось значительно"
   ]
  },
  {
   "cell_type": "markdown",
   "id": "a881ad9d",
   "metadata": {
    "id": "a881ad9d"
   },
   "source": [
    "## Задание 5 (0.5 балла) LightGBM"
   ]
  },
  {
   "cell_type": "markdown",
   "id": "a35f87a6",
   "metadata": {
    "id": "a35f87a6"
   },
   "source": [
    "И наконец библиотека LightGBM - используйте `LGBMRegressor`, снова подберите гиперпараметры, оцените качество и скорость.\n"
   ]
  },
  {
   "cell_type": "code",
   "execution_count": 78,
   "id": "b51530f7-f2c8-427d-80d1-d3d961753b32",
   "metadata": {},
   "outputs": [],
   "source": [
    "# !pip install lightgbm"
   ]
  },
  {
   "cell_type": "code",
   "execution_count": 11,
   "id": "pMxY8Owp78Ow",
   "metadata": {
    "id": "pMxY8Owp78Ow"
   },
   "outputs": [
    {
     "name": "stderr",
     "output_type": "stream",
     "text": [
      "[I 2024-06-08 22:16:22,492] A new study created in memory with name: no-name-db7cd87d-3019-4883-9b9d-7ef4e3abbd0b\n",
      "[I 2024-06-08 22:16:22,847] Trial 0 finished with value: 0.35657285254554544 and parameters: {'max_depth': 4, 'learning_rate': 0.014023580399719597, 'n_estimators': 243, 'num_leaves': 27, 'min_child_samples': 35, 'subsample': 0.9420219825584276, 'colsample_bytree': 0.5613812764399025, 'reg_alpha': 0.0002962531335050262, 'reg_lambda': 0.0008942400471234185}. Best is trial 0 with value: 0.35657285254554544.\n",
      "[I 2024-06-08 22:16:22,926] Trial 1 finished with value: 0.6244040473023806 and parameters: {'max_depth': 3, 'learning_rate': 0.0004847928369896067, 'n_estimators': 122, 'num_leaves': 110, 'min_child_samples': 53, 'subsample': 0.7752642025219769, 'colsample_bytree': 0.669008996512347, 'reg_alpha': 0.002373800296690895, 'reg_lambda': 0.023509404863272895}. Best is trial 0 with value: 0.35657285254554544.\n",
      "[I 2024-06-08 22:16:22,981] Trial 2 finished with value: 0.3953818823824177 and parameters: {'max_depth': 4, 'learning_rate': 0.03739044376015046, 'n_estimators': 55, 'num_leaves': 261, 'min_child_samples': 52, 'subsample': 0.5893833877574955, 'colsample_bytree': 0.7853350819414207, 'reg_alpha': 0.00030672265731332876, 'reg_lambda': 0.000766518776075845}. Best is trial 0 with value: 0.35657285254554544.\n",
      "[I 2024-06-08 22:16:23,302] Trial 3 finished with value: 0.35560812617463683 and parameters: {'max_depth': 5, 'learning_rate': 0.027123473147484593, 'n_estimators': 376, 'num_leaves': 227, 'min_child_samples': 73, 'subsample': 0.766162132649652, 'colsample_bytree': 0.8420972391829709, 'reg_alpha': 0.023920892341193035, 'reg_lambda': 0.0008250158199752844}. Best is trial 3 with value: 0.35560812617463683.\n",
      "[I 2024-06-08 22:16:23,683] Trial 4 finished with value: 0.32641636102537597 and parameters: {'max_depth': 6, 'learning_rate': 0.02779049336564193, 'n_estimators': 329, 'num_leaves': 112, 'min_child_samples': 36, 'subsample': 0.8600010545220171, 'colsample_bytree': 0.5428395308313283, 'reg_alpha': 0.025801793532902458, 'reg_lambda': 0.007049293801844443}. Best is trial 4 with value: 0.32641636102537597.\n",
      "[I 2024-06-08 22:16:23,889] Trial 5 finished with value: 0.5419744370016388 and parameters: {'max_depth': 8, 'learning_rate': 0.003535766591725489, 'n_estimators': 118, 'num_leaves': 204, 'min_child_samples': 53, 'subsample': 0.5993312413034814, 'colsample_bytree': 0.5709287697176995, 'reg_alpha': 0.0016491318463864345, 'reg_lambda': 0.005265163873498862}. Best is trial 4 with value: 0.32641636102537597.\n",
      "[I 2024-06-08 22:16:24,014] Trial 6 finished with value: 0.5382901637782223 and parameters: {'max_depth': 3, 'learning_rate': 0.0019055029128646525, 'n_estimators': 216, 'num_leaves': 34, 'min_child_samples': 39, 'subsample': 0.9259563067983356, 'colsample_bytree': 0.9758263704836335, 'reg_alpha': 0.009105711747417138, 'reg_lambda': 0.004441665041448041}. Best is trial 4 with value: 0.32641636102537597.\n",
      "[I 2024-06-08 22:16:24,063] Trial 7 finished with value: 0.3632517451116623 and parameters: {'max_depth': 3, 'learning_rate': 0.04908603422651768, 'n_estimators': 73, 'num_leaves': 190, 'min_child_samples': 42, 'subsample': 0.5533781550899997, 'colsample_bytree': 0.9947529234311832, 'reg_alpha': 0.0003099886318439562, 'reg_lambda': 0.015344972509477155}. Best is trial 4 with value: 0.32641636102537597.\n",
      "[I 2024-06-08 22:16:24,206] Trial 8 finished with value: 0.3753352307554341 and parameters: {'max_depth': 6, 'learning_rate': 0.027677256304575206, 'n_estimators': 128, 'num_leaves': 30, 'min_child_samples': 78, 'subsample': 0.6920837597089322, 'colsample_bytree': 0.7942480309831282, 'reg_alpha': 0.0003525869620294945, 'reg_lambda': 0.0010077749177192146}. Best is trial 4 with value: 0.32641636102537597.\n",
      "[I 2024-06-08 22:16:24,422] Trial 9 finished with value: 0.636411388743071 and parameters: {'max_depth': 10, 'learning_rate': 0.00010512271802188847, 'n_estimators': 134, 'num_leaves': 195, 'min_child_samples': 74, 'subsample': 0.9384995061825017, 'colsample_bytree': 0.7140193498906305, 'reg_alpha': 0.0043015680132859856, 'reg_lambda': 0.00830284954558212}. Best is trial 4 with value: 0.32641636102537597.\n",
      "[I 2024-06-08 22:16:25,043] Trial 10 finished with value: 0.40571470661160997 and parameters: {'max_depth': 8, 'learning_rate': 0.005068074065752083, 'n_estimators': 448, 'num_leaves': 117, 'min_child_samples': 100, 'subsample': 0.8262253753518398, 'colsample_bytree': 0.6353614109576113, 'reg_alpha': 0.09807092340841389, 'reg_lambda': 0.00011599349260387898}. Best is trial 4 with value: 0.32641636102537597.\n",
      "[I 2024-06-08 22:16:25,718] Trial 11 finished with value: 0.32769972066635494 and parameters: {'max_depth': 6, 'learning_rate': 0.012641891254009378, 'n_estimators': 386, 'num_leaves': 285, 'min_child_samples': 22, 'subsample': 0.8394918804231776, 'colsample_bytree': 0.874467515119985, 'reg_alpha': 0.04083849930153721, 'reg_lambda': 0.0001965804383281123}. Best is trial 4 with value: 0.32641636102537597.\n",
      "[I 2024-06-08 22:16:26,207] Trial 12 finished with value: 0.3369222592446903 and parameters: {'max_depth': 7, 'learning_rate': 0.09627031479823876, 'n_estimators': 341, 'num_leaves': 284, 'min_child_samples': 20, 'subsample': 0.8520441951315211, 'colsample_bytree': 0.874482775393224, 'reg_alpha': 0.08856903569310164, 'reg_lambda': 0.00010086466920722661}. Best is trial 4 with value: 0.32641636102537597.\n",
      "[I 2024-06-08 22:16:27,008] Trial 13 finished with value: 0.324822814370135 and parameters: {'max_depth': 6, 'learning_rate': 0.010876500538418508, 'n_estimators': 487, 'num_leaves': 138, 'min_child_samples': 20, 'subsample': 0.8611418613527023, 'colsample_bytree': 0.9244768011746816, 'reg_alpha': 0.019806909156647432, 'reg_lambda': 0.00031889410036746793}. Best is trial 13 with value: 0.324822814370135.\n",
      "[I 2024-06-08 22:16:28,096] Trial 14 finished with value: 0.3364316337021333 and parameters: {'max_depth': 7, 'learning_rate': 0.007908129346188973, 'n_estimators': 500, 'num_leaves': 124, 'min_child_samples': 31, 'subsample': 0.6988006311165451, 'colsample_bytree': 0.5285055537471959, 'reg_alpha': 0.014711409727668857, 'reg_lambda': 0.09683483095175192}. Best is trial 13 with value: 0.324822814370135.\n",
      "[I 2024-06-08 22:16:28,601] Trial 15 finished with value: 0.5187145680400639 and parameters: {'max_depth': 5, 'learning_rate': 0.0014527651777048814, 'n_estimators': 293, 'num_leaves': 81, 'min_child_samples': 25, 'subsample': 0.882287522035098, 'colsample_bytree': 0.9342618595970733, 'reg_alpha': 0.007360142997214249, 'reg_lambda': 0.001896145546685249}. Best is trial 13 with value: 0.324822814370135.\n",
      "[I 2024-06-08 22:16:29,679] Trial 16 finished with value: 0.5378671626610494 and parameters: {'max_depth': 9, 'learning_rate': 0.0008311160472942403, 'n_estimators': 456, 'num_leaves': 148, 'min_child_samples': 42, 'subsample': 0.994826547452198, 'colsample_bytree': 0.7275802698633542, 'reg_alpha': 0.03378200423757554, 'reg_lambda': 0.04167734699865177}. Best is trial 13 with value: 0.324822814370135.\n",
      "[I 2024-06-08 22:16:29,957] Trial 17 finished with value: 0.3305978834755209 and parameters: {'max_depth': 5, 'learning_rate': 0.09535982792276922, 'n_estimators': 306, 'num_leaves': 84, 'min_child_samples': 29, 'subsample': 0.7952514739532495, 'colsample_bytree': 0.5019220535032014, 'reg_alpha': 0.0010411456080302562, 'reg_lambda': 0.00026563680456573644}. Best is trial 13 with value: 0.324822814370135.\n",
      "[I 2024-06-08 22:16:30,318] Trial 18 finished with value: 0.3923137978754562 and parameters: {'max_depth': 8, 'learning_rate': 0.010517432565053454, 'n_estimators': 200, 'num_leaves': 161, 'min_child_samples': 63, 'subsample': 0.7170758476147032, 'colsample_bytree': 0.6319483861122277, 'reg_alpha': 0.016998702805505764, 'reg_lambda': 0.0020164834284609502}. Best is trial 13 with value: 0.324822814370135.\n",
      "[I 2024-06-08 22:16:30,846] Trial 19 finished with value: 0.3315476411243926 and parameters: {'max_depth': 6, 'learning_rate': 0.018539672872863837, 'n_estimators': 430, 'num_leaves': 69, 'min_child_samples': 46, 'subsample': 0.9948819305936945, 'colsample_bytree': 0.9152299805147713, 'reg_alpha': 0.0057713259133327375, 'reg_lambda': 0.01174699890433511}. Best is trial 13 with value: 0.324822814370135.\n",
      "[I 2024-06-08 22:16:31,988] Trial 20 finished with value: 0.35013083614399276 and parameters: {'max_depth': 7, 'learning_rate': 0.0048746852928078024, 'n_estimators': 498, 'num_leaves': 151, 'min_child_samples': 32, 'subsample': 0.8975723147929103, 'colsample_bytree': 0.7989564437960626, 'reg_alpha': 0.0009173521367440829, 'reg_lambda': 0.00037509475801217844}. Best is trial 13 with value: 0.324822814370135.\n",
      "[I 2024-06-08 22:16:32,692] Trial 21 finished with value: 0.32778037858460823 and parameters: {'max_depth': 6, 'learning_rate': 0.01215810062479034, 'n_estimators': 388, 'num_leaves': 165, 'min_child_samples': 20, 'subsample': 0.8459123508559722, 'colsample_bytree': 0.8700642495553956, 'reg_alpha': 0.043457766295076874, 'reg_lambda': 0.00023386679057319705}. Best is trial 13 with value: 0.324822814370135.\n",
      "[I 2024-06-08 22:16:33,578] Trial 22 finished with value: 0.3437586525905648 and parameters: {'max_depth': 6, 'learning_rate': 0.006725007682091791, 'n_estimators': 396, 'num_leaves': 230, 'min_child_samples': 20, 'subsample': 0.8027334589392738, 'colsample_bytree': 0.9488954702677804, 'reg_alpha': 0.04229562957758756, 'reg_lambda': 0.00039123975566223714}. Best is trial 13 with value: 0.324822814370135.\n",
      "[I 2024-06-08 22:16:33,921] Trial 23 finished with value: 0.3281189377311344 and parameters: {'max_depth': 5, 'learning_rate': 0.055327726540691145, 'n_estimators': 338, 'num_leaves': 286, 'min_child_samples': 28, 'subsample': 0.8745518872275369, 'colsample_bytree': 0.9001879103055737, 'reg_alpha': 0.00010434593590503096, 'reg_lambda': 0.00015825831157975686}. Best is trial 13 with value: 0.324822814370135.\n",
      "[I 2024-06-08 22:16:34,582] Trial 24 finished with value: 0.3214640565539507 and parameters: {'max_depth': 7, 'learning_rate': 0.018970089240809826, 'n_estimators': 344, 'num_leaves': 129, 'min_child_samples': 36, 'subsample': 0.7362039575756201, 'colsample_bytree': 0.8297401421863233, 'reg_alpha': 0.012427907877474744, 'reg_lambda': 0.0019580337314552667}. Best is trial 24 with value: 0.3214640565539507.\n",
      "[I 2024-06-08 22:16:35,099] Trial 25 finished with value: 0.3456968241204106 and parameters: {'max_depth': 7, 'learning_rate': 0.021494054868565735, 'n_estimators': 336, 'num_leaves': 129, 'min_child_samples': 62, 'subsample': 0.7382389859601131, 'colsample_bytree': 0.8309685877098549, 'reg_alpha': 0.012312743025657281, 'reg_lambda': 0.0026422386724356205}. Best is trial 24 with value: 0.3214640565539507.\n",
      "[I 2024-06-08 22:16:35,589] Trial 26 finished with value: 0.3290117410301366 and parameters: {'max_depth': 9, 'learning_rate': 0.059968007539714964, 'n_estimators': 264, 'num_leaves': 100, 'min_child_samples': 37, 'subsample': 0.7411745509134753, 'colsample_bytree': 0.7572726167919978, 'reg_alpha': 0.02091384917411717, 'reg_lambda': 0.006191965482775334}. Best is trial 24 with value: 0.3214640565539507.\n",
      "[I 2024-06-08 22:16:36,580] Trial 27 finished with value: 0.4200640309965921 and parameters: {'max_depth': 8, 'learning_rate': 0.002933954952686521, 'n_estimators': 426, 'num_leaves': 63, 'min_child_samples': 44, 'subsample': 0.6248226385309084, 'colsample_bytree': 0.6903956494294105, 'reg_alpha': 0.003198179163547484, 'reg_lambda': 0.0015349934647119576}. Best is trial 24 with value: 0.3214640565539507.\n",
      "[I 2024-06-08 22:16:36,776] Trial 28 finished with value: 0.36802093228863836 and parameters: {'max_depth': 4, 'learning_rate': 0.035695077861846836, 'n_estimators': 190, 'num_leaves': 139, 'min_child_samples': 99, 'subsample': 0.6764017114686182, 'colsample_bytree': 0.8311373165356963, 'reg_alpha': 0.009365894611547463, 'reg_lambda': 0.00044868929844191295}. Best is trial 24 with value: 0.3214640565539507.\n",
      "[I 2024-06-08 22:16:37,282] Trial 29 finished with value: 0.3287619616748183 and parameters: {'max_depth': 7, 'learning_rate': 0.01713882241690704, 'n_estimators': 256, 'num_leaves': 172, 'min_child_samples': 36, 'subsample': 0.6478327558151176, 'colsample_bytree': 0.7529392197824248, 'reg_alpha': 0.0632940818380272, 'reg_lambda': 0.004016330734332248}. Best is trial 24 with value: 0.3214640565539507.\n",
      "[I 2024-06-08 22:16:37,661] Trial 30 finished with value: 0.3752911550743373 and parameters: {'max_depth': 5, 'learning_rate': 0.008967180652257623, 'n_estimators': 308, 'num_leaves': 52, 'min_child_samples': 48, 'subsample': 0.9136139492698852, 'colsample_bytree': 0.5962315282703063, 'reg_alpha': 0.026295692963317314, 'reg_lambda': 0.025024026596877955}. Best is trial 24 with value: 0.3214640565539507.\n",
      "[I 2024-06-08 22:16:38,328] Trial 31 finished with value: 0.3264793192398703 and parameters: {'max_depth': 6, 'learning_rate': 0.013536403685257692, 'n_estimators': 363, 'num_leaves': 100, 'min_child_samples': 25, 'subsample': 0.8308223726424372, 'colsample_bytree': 0.8740441648032039, 'reg_alpha': 0.057019953425082606, 'reg_lambda': 0.00021213380838026606}. Best is trial 24 with value: 0.3214640565539507.\n",
      "[I 2024-06-08 22:16:38,869] Trial 32 finished with value: 0.3248065191902726 and parameters: {'max_depth': 6, 'learning_rate': 0.016017629931055148, 'n_estimators': 361, 'num_leaves': 98, 'min_child_samples': 26, 'subsample': 0.8060275858956073, 'colsample_bytree': 0.906309656343001, 'reg_alpha': 0.0587153014286495, 'reg_lambda': 0.0005479254558552203}. Best is trial 24 with value: 0.3214640565539507.\n",
      "[I 2024-06-08 22:16:39,289] Trial 33 finished with value: 0.31963840243999164 and parameters: {'max_depth': 7, 'learning_rate': 0.024892319015704205, 'n_estimators': 231, 'num_leaves': 97, 'min_child_samples': 33, 'subsample': 0.7856750477259498, 'colsample_bytree': 0.9553275085334976, 'reg_alpha': 0.027916388998691855, 'reg_lambda': 0.0005670483744998321}. Best is trial 33 with value: 0.31963840243999164.\n",
      "[I 2024-06-08 22:16:39,735] Trial 34 finished with value: 0.3233736749480453 and parameters: {'max_depth': 7, 'learning_rate': 0.02038870672820734, 'n_estimators': 230, 'num_leaves': 84, 'min_child_samples': 32, 'subsample': 0.7874282886963956, 'colsample_bytree': 0.9562667265840006, 'reg_alpha': 0.012232082202955184, 'reg_lambda': 0.0006322047340832373}. Best is trial 33 with value: 0.31963840243999164.\n",
      "[I 2024-06-08 22:16:40,252] Trial 35 finished with value: 0.3215583529911281 and parameters: {'max_depth': 9, 'learning_rate': 0.03942506215272549, 'n_estimators': 236, 'num_leaves': 89, 'min_child_samples': 33, 'subsample': 0.7763802745732828, 'colsample_bytree': 0.95941025760702, 'reg_alpha': 0.012170365488604886, 'reg_lambda': 0.0005955980628721977}. Best is trial 33 with value: 0.31963840243999164.\n",
      "[I 2024-06-08 22:16:40,767] Trial 36 finished with value: 0.3367371692662846 and parameters: {'max_depth': 9, 'learning_rate': 0.04213763860876444, 'n_estimators': 229, 'num_leaves': 47, 'min_child_samples': 50, 'subsample': 0.7615580085733642, 'colsample_bytree': 0.9637709845129596, 'reg_alpha': 0.011114163594125325, 'reg_lambda': 0.0007283984755309321}. Best is trial 33 with value: 0.31963840243999164.\n",
      "[I 2024-06-08 22:16:41,129] Trial 37 finished with value: 0.34977387826492295 and parameters: {'max_depth': 10, 'learning_rate': 0.02906429972834253, 'n_estimators': 167, 'num_leaves': 81, 'min_child_samples': 58, 'subsample': 0.7638707572493849, 'colsample_bytree': 0.955931582716134, 'reg_alpha': 0.00475120261540822, 'reg_lambda': 0.001134023496605376}. Best is trial 33 with value: 0.31963840243999164.\n",
      "[I 2024-06-08 22:16:41,687] Trial 38 finished with value: 0.33121432500467807 and parameters: {'max_depth': 8, 'learning_rate': 0.06745888430051791, 'n_estimators': 281, 'num_leaves': 108, 'min_child_samples': 33, 'subsample': 0.7225666042797874, 'colsample_bytree': 0.9983881033639179, 'reg_alpha': 0.002091954375576072, 'reg_lambda': 0.0007244307767666605}. Best is trial 33 with value: 0.31963840243999164.\n",
      "[I 2024-06-08 22:16:42,171] Trial 39 finished with value: 0.3236361449831696 and parameters: {'max_depth': 9, 'learning_rate': 0.024850275898704494, 'n_estimators': 240, 'num_leaves': 22, 'min_child_samples': 41, 'subsample': 0.7961372917912525, 'colsample_bytree': 0.980605189456368, 'reg_alpha': 0.005915065138533585, 'reg_lambda': 0.0030226164966653973}. Best is trial 33 with value: 0.31963840243999164.\n",
      "[I 2024-06-08 22:16:42,550] Trial 40 finished with value: 0.6328645662963828 and parameters: {'max_depth': 8, 'learning_rate': 0.0001422389475808202, 'n_estimators': 170, 'num_leaves': 63, 'min_child_samples': 56, 'subsample': 0.6647995273094328, 'colsample_bytree': 0.8523690910273223, 'reg_alpha': 0.0031191924073807964, 'reg_lambda': 0.0013636095387994048}. Best is trial 33 with value: 0.31963840243999164.\n",
      "[I 2024-06-08 22:16:43,059] Trial 41 finished with value: 0.32497487196170866 and parameters: {'max_depth': 9, 'learning_rate': 0.02716682388294482, 'n_estimators': 240, 'num_leaves': 23, 'min_child_samples': 41, 'subsample': 0.7887818657590882, 'colsample_bytree': 0.979077905201479, 'reg_alpha': 0.0070622003961756255, 'reg_lambda': 0.002783230319253296}. Best is trial 33 with value: 0.31963840243999164.\n",
      "[I 2024-06-08 22:16:43,609] Trial 42 finished with value: 0.3208205438876779 and parameters: {'max_depth': 10, 'learning_rate': 0.022285798444600078, 'n_estimators': 218, 'num_leaves': 40, 'min_child_samples': 35, 'subsample': 0.773631045554744, 'colsample_bytree': 0.9367384983858029, 'reg_alpha': 0.012701072130575294, 'reg_lambda': 0.0005491664764540717}. Best is trial 33 with value: 0.31963840243999164.\n",
      "[I 2024-06-08 22:16:44,083] Trial 43 finished with value: 0.3192209716177668 and parameters: {'max_depth': 10, 'learning_rate': 0.03952189735342085, 'n_estimators': 193, 'num_leaves': 89, 'min_child_samples': 34, 'subsample': 0.76899429058923, 'colsample_bytree': 0.9380992144199414, 'reg_alpha': 0.02961965407600551, 'reg_lambda': 0.0007020918222309264}. Best is trial 43 with value: 0.3192209716177668.\n",
      "[I 2024-06-08 22:16:44,578] Trial 44 finished with value: 0.3198507135957082 and parameters: {'max_depth': 10, 'learning_rate': 0.039298456532903404, 'n_estimators': 203, 'num_leaves': 117, 'min_child_samples': 36, 'subsample': 0.7443155195166515, 'colsample_bytree': 0.898657450361991, 'reg_alpha': 0.029939919304069747, 'reg_lambda': 0.0010835120448625351}. Best is trial 43 with value: 0.3192209716177668.\n",
      "[I 2024-06-08 22:16:44,917] Trial 45 finished with value: 0.3227496865744799 and parameters: {'max_depth': 10, 'learning_rate': 0.06721817076774503, 'n_estimators': 147, 'num_leaves': 41, 'min_child_samples': 38, 'subsample': 0.718109475312594, 'colsample_bytree': 0.8975330011561395, 'reg_alpha': 0.02981054797299171, 'reg_lambda': 0.0009999446260338836}. Best is trial 43 with value: 0.3192209716177668.\n",
      "[I 2024-06-08 22:16:45,256] Trial 46 finished with value: 0.36650411115243675 and parameters: {'max_depth': 10, 'learning_rate': 0.034679762427200264, 'n_estimators': 202, 'num_leaves': 124, 'min_child_samples': 91, 'subsample': 0.5020607135768815, 'colsample_bytree': 0.8079915129754471, 'reg_alpha': 0.022611853433081076, 'reg_lambda': 0.0008947039752426953}. Best is trial 43 with value: 0.3192209716177668.\n",
      "[I 2024-06-08 22:16:45,508] Trial 47 finished with value: 0.3369207730010162 and parameters: {'max_depth': 10, 'learning_rate': 0.0773352290653101, 'n_estimators': 111, 'num_leaves': 113, 'min_child_samples': 53, 'subsample': 0.752202022569428, 'colsample_bytree': 0.9359734464637262, 'reg_alpha': 0.017977172128183557, 'reg_lambda': 0.001794269854877089}. Best is trial 43 with value: 0.3192209716177668.\n",
      "[I 2024-06-08 22:16:45,731] Trial 48 finished with value: 0.33252901739045654 and parameters: {'max_depth': 10, 'learning_rate': 0.04713903956908788, 'n_estimators': 86, 'num_leaves': 70, 'min_child_samples': 45, 'subsample': 0.8159840949555522, 'colsample_bytree': 0.8940989293207213, 'reg_alpha': 0.07455267122606574, 'reg_lambda': 0.0012712619027935494}. Best is trial 43 with value: 0.3192209716177668.\n",
      "[I 2024-06-08 22:16:46,305] Trial 49 finished with value: 0.4080236924891897 and parameters: {'max_depth': 10, 'learning_rate': 0.006426317144790995, 'n_estimators': 181, 'num_leaves': 57, 'min_child_samples': 35, 'subsample': 0.6862387117343494, 'colsample_bytree': 0.9266399766457221, 'reg_alpha': 0.03619893090322277, 'reg_lambda': 0.0005090394330588539}. Best is trial 43 with value: 0.3192209716177668.\n"
     ]
    },
    {
     "name": "stdout",
     "output_type": "stream",
     "text": [
      "Best params:  {'max_depth': 10, 'learning_rate': 0.03952189735342085, 'n_estimators': 193, 'num_leaves': 89, 'min_child_samples': 34, 'subsample': 0.76899429058923, 'colsample_bytree': 0.9380992144199414, 'reg_alpha': 0.02961965407600551, 'reg_lambda': 0.0007020918222309264}\n"
     ]
    }
   ],
   "source": [
    "from lightgbm import LGBMRegressor\n",
    "\n",
    "def objective(trial):\n",
    "    params = {\n",
    "        'max_depth': trial.suggest_int('max_depth', 3, 10),\n",
    "        'learning_rate': trial.suggest_loguniform('learning_rate', 1e-4, 1e-1),\n",
    "        'n_estimators': trial.suggest_int('n_estimators', 50, 500),\n",
    "        'num_leaves': trial.suggest_int('num_leaves', 20, 300),\n",
    "        'min_child_samples': trial.suggest_int('min_child_samples', 20, 100),\n",
    "        'subsample': trial.suggest_float('subsample', 0.5, 1.0),\n",
    "        'colsample_bytree': trial.suggest_float('colsample_bytree', 0.5, 1.0),\n",
    "        'reg_alpha': trial.suggest_loguniform('reg_alpha', 1e-4, 1e-1),\n",
    "        'reg_lambda': trial.suggest_loguniform('reg_lambda', 1e-4, 1e-1),\n",
    "        'verbose': -1 \n",
    "    }\n",
    "\n",
    "    model = LGBMRegressor(**params)\n",
    "    model.fit(X_train_, y_train)\n",
    "\n",
    "    y_val_pred = model.predict(X_val_)\n",
    "    val_mape = mean_absolute_percentage_error(y_val, y_val_pred)\n",
    "\n",
    "    return val_mape\n",
    "\n",
    "study = optuna.create_study(direction='minimize')\n",
    "study.optimize(objective, n_trials=50)\n",
    "\n",
    "best_params = study.best_params\n",
    "print(\"Best params: \", best_params)"
   ]
  },
  {
   "cell_type": "code",
   "execution_count": 12,
   "id": "M2-WvfIrV556",
   "metadata": {
    "id": "M2-WvfIrV556"
   },
   "outputs": [
    {
     "name": "stdout",
     "output_type": "stream",
     "text": [
      "MAPE val:  0.3192209716177668\n",
      "MAPE test:  0.4071879651837245\n",
      "RMSE val:  49223.58664316836\n",
      "RMSE test:  46703.404720698185\n",
      "Training time:  0.4602067470550537\n",
      "Prediction time:  0.0010004043579101562\n"
     ]
    }
   ],
   "source": [
    "final_model = LGBMRegressor(**best_params, verbose=-1)\n",
    "\n",
    "start_time = time.time()\n",
    "final_model.fit(X_train_, y_train)\n",
    "training_time = time.time() - start_time\n",
    "\n",
    "start_time = time.time()\n",
    "val_predict = final_model.predict(X_val_)\n",
    "prediction_time = time.time() - start_time\n",
    "\n",
    "test_predict = final_model.predict(X_test_)\n",
    "\n",
    "val_mape = mean_absolute_percentage_error(y_val, val_predict)\n",
    "test_mape = mean_absolute_percentage_error(y_test, test_predict)\n",
    "\n",
    "val_rmse = mean_squared_error(y_val, val_predict, squared=False)\n",
    "test_rmse = mean_squared_error(y_test, test_predict, squared=False)\n",
    "\n",
    "print('MAPE val: ', val_mape)\n",
    "print('MAPE test: ', test_mape)\n",
    "\n",
    "print('RMSE val: ', val_rmse)\n",
    "print('RMSE test: ', test_rmse)\n",
    "\n",
    "print('Training time: ', training_time)\n",
    "print('Prediction time: ', prediction_time)"
   ]
  },
  {
   "cell_type": "markdown",
   "id": "7c56d873",
   "metadata": {
    "id": "7c56d873"
   },
   "source": [
    "## Задание 6 (2 балла) Сравнение и выводы"
   ]
  },
  {
   "cell_type": "markdown",
   "id": "3a2c1148",
   "metadata": {
    "id": "3a2c1148"
   },
   "source": [
    "Сравните модели бустинга и сделайте про них выводы, какая из моделей показала лучший/худший результат по качеству, скорости обучения и скорости предсказания? Как отличаются гиперпараметры для разных моделей?"
   ]
  },
  {
   "cell_type": "markdown",
   "id": "a26d6a18-5d0e-4832-a19b-9ef663b5b6c6",
   "metadata": {},
   "source": [
    "    XGB:\n",
    "\n",
    "    MAPE test - 0.376\n",
    "    RMSE test - 45828\n",
    "    Training time - 0.766\n",
    "    Pred time - 0.0019\n",
    "\n",
    "    Лучший скор среди всех моделей, самое быстрое время обучения, довольно низкое время предсказание"
   ]
  },
  {
   "cell_type": "markdown",
   "id": "4c58c8ec-9143-4955-9efd-db34e673df50",
   "metadata": {},
   "source": [
    "    Catboost:\n",
    "    \n",
    "    MAPE test -  0.3929\n",
    "    RMSE test -  4543\n",
    "    Training time - 2.68 \n",
    "    Predictation time - 0.327\n",
    "\n",
    "    Скор похуже на mape, но лучше на rmse, время обучения большое, время предсказания больше"
   ]
  },
  {
   "cell_type": "markdown",
   "id": "cc30be01-dc88-4cb0-aa5d-ed2ab8c13612",
   "metadata": {},
   "source": [
    "    Catboost_pool:\n",
    "    \n",
    "    MAPE test - 0.5006\n",
    "    RMSE test - 8470\n",
    "    Training time - 6.068  \n",
    "    Prediction time - 0.0\n",
    "    \n",
    "    Позволяет обрабатывать категорильный признаки сразу. Качество довольно низкое, время обучения высокое, но при этом лучшее время предсказания."
   ]
  },
  {
   "cell_type": "markdown",
   "id": "cc1f6284-5a82-4b41-bb9c-06b8dddcdbc2",
   "metadata": {},
   "source": [
    "    LightGBM:\n",
    "\n",
    "    MAPE test:  0.4058899075809140    4\n",
    "    RMSE test:  46324.2519656794    76\n",
    "    Training time:  0.8251111507415    771\n",
    "    Prediction time:  0.0030169486999\n",
    "\n",
    "    Качество среднее, хуже чем у xgb, время обучения хорошее, время предсказания тоже"
   ]
  },
  {
   "cell_type": "markdown",
   "id": "034515fb-fd2d-4f05-9d70-2cb9e44e2cdb",
   "metadata": {},
   "source": [
    "\n",
    "\n",
    "    Лучше всех себя показал XGB, другие модели имеют место на существование, особенно catboost, на нем можно очень быстро проверить роботоспособность и эффективность бустинга, также очень быстрое время предсказание, может быть полезно. \n",
    "\n",
    "    По поводу гиперпараметров, базовые деревья получились довольное глубокими(7-10 глубина), лернинг рейт низкий, количество деревьев почти везде не супер большое(100-300) "
   ]
  },
  {
   "cell_type": "markdown",
   "id": "fokm4x1WmxQr",
   "metadata": {
    "id": "fokm4x1WmxQr"
   },
   "source": [
    "# Часть 2 Кластеризация (5 баллов)"
   ]
  },
  {
   "cell_type": "markdown",
   "id": "UZBpHMoNm1Sa",
   "metadata": {
    "id": "UZBpHMoNm1Sa"
   },
   "source": [
    "Будем работать с данными о том, каких исполнителей слушают пользователи музыкального сервиса.\n",
    "\n",
    "Каждая строка таблицы - информация об одном пользователе. Каждый столбец - это исполнитель (The Beatles, Radiohead, etc.)\n",
    "\n",
    "Для каждой пары (пользователь, исполнитель) в таблице стоит число - доля прослушивания этого исполнителя этим пользователем.\n"
   ]
  },
  {
   "cell_type": "code",
   "execution_count": 13,
   "id": "nGa-xYikoogL",
   "metadata": {
    "colab": {
     "base_uri": "https://localhost:8080/",
     "height": 290
    },
    "id": "nGa-xYikoogL",
    "outputId": "78cf46ec-1aae-4cb9-a457-5a7a47a16248"
   },
   "outputs": [
    {
     "data": {
      "text/html": [
       "<div>\n",
       "<style scoped>\n",
       "    .dataframe tbody tr th:only-of-type {\n",
       "        vertical-align: middle;\n",
       "    }\n",
       "\n",
       "    .dataframe tbody tr th {\n",
       "        vertical-align: top;\n",
       "    }\n",
       "\n",
       "    .dataframe thead th {\n",
       "        text-align: right;\n",
       "    }\n",
       "</style>\n",
       "<table border=\"1\" class=\"dataframe\">\n",
       "  <thead>\n",
       "    <tr style=\"text-align: right;\">\n",
       "      <th></th>\n",
       "      <th>user</th>\n",
       "      <th>the beatles</th>\n",
       "      <th>radiohead</th>\n",
       "      <th>deathcab for cutie</th>\n",
       "      <th>coldplay</th>\n",
       "      <th>modest mouse</th>\n",
       "      <th>sufjan stevens</th>\n",
       "      <th>dylan. bob</th>\n",
       "      <th>red hot clili peppers</th>\n",
       "      <th>pink fluid</th>\n",
       "      <th>...</th>\n",
       "      <th>municipal waste</th>\n",
       "      <th>townes van zandt</th>\n",
       "      <th>curtis mayfield</th>\n",
       "      <th>jewel</th>\n",
       "      <th>lamb</th>\n",
       "      <th>michal w. smith</th>\n",
       "      <th>群星</th>\n",
       "      <th>agalloch</th>\n",
       "      <th>meshuggah</th>\n",
       "      <th>yellowcard</th>\n",
       "    </tr>\n",
       "  </thead>\n",
       "  <tbody>\n",
       "    <tr>\n",
       "      <th>0</th>\n",
       "      <td>0</td>\n",
       "      <td>NaN</td>\n",
       "      <td>0.020417</td>\n",
       "      <td>NaN</td>\n",
       "      <td>NaN</td>\n",
       "      <td>NaN</td>\n",
       "      <td>NaN</td>\n",
       "      <td>NaN</td>\n",
       "      <td>0.030496</td>\n",
       "      <td>NaN</td>\n",
       "      <td>...</td>\n",
       "      <td>NaN</td>\n",
       "      <td>NaN</td>\n",
       "      <td>NaN</td>\n",
       "      <td>NaN</td>\n",
       "      <td>NaN</td>\n",
       "      <td>NaN</td>\n",
       "      <td>NaN</td>\n",
       "      <td>NaN</td>\n",
       "      <td>NaN</td>\n",
       "      <td>NaN</td>\n",
       "    </tr>\n",
       "    <tr>\n",
       "      <th>1</th>\n",
       "      <td>1</td>\n",
       "      <td>NaN</td>\n",
       "      <td>0.184962</td>\n",
       "      <td>0.024561</td>\n",
       "      <td>NaN</td>\n",
       "      <td>NaN</td>\n",
       "      <td>0.136341</td>\n",
       "      <td>NaN</td>\n",
       "      <td>NaN</td>\n",
       "      <td>NaN</td>\n",
       "      <td>...</td>\n",
       "      <td>NaN</td>\n",
       "      <td>NaN</td>\n",
       "      <td>NaN</td>\n",
       "      <td>NaN</td>\n",
       "      <td>NaN</td>\n",
       "      <td>NaN</td>\n",
       "      <td>NaN</td>\n",
       "      <td>NaN</td>\n",
       "      <td>NaN</td>\n",
       "      <td>NaN</td>\n",
       "    </tr>\n",
       "    <tr>\n",
       "      <th>2</th>\n",
       "      <td>2</td>\n",
       "      <td>NaN</td>\n",
       "      <td>NaN</td>\n",
       "      <td>0.028635</td>\n",
       "      <td>NaN</td>\n",
       "      <td>NaN</td>\n",
       "      <td>NaN</td>\n",
       "      <td>0.024559</td>\n",
       "      <td>NaN</td>\n",
       "      <td>NaN</td>\n",
       "      <td>...</td>\n",
       "      <td>NaN</td>\n",
       "      <td>NaN</td>\n",
       "      <td>NaN</td>\n",
       "      <td>NaN</td>\n",
       "      <td>NaN</td>\n",
       "      <td>NaN</td>\n",
       "      <td>NaN</td>\n",
       "      <td>NaN</td>\n",
       "      <td>NaN</td>\n",
       "      <td>NaN</td>\n",
       "    </tr>\n",
       "    <tr>\n",
       "      <th>3</th>\n",
       "      <td>3</td>\n",
       "      <td>NaN</td>\n",
       "      <td>NaN</td>\n",
       "      <td>NaN</td>\n",
       "      <td>NaN</td>\n",
       "      <td>NaN</td>\n",
       "      <td>NaN</td>\n",
       "      <td>NaN</td>\n",
       "      <td>NaN</td>\n",
       "      <td>NaN</td>\n",
       "      <td>...</td>\n",
       "      <td>NaN</td>\n",
       "      <td>NaN</td>\n",
       "      <td>NaN</td>\n",
       "      <td>NaN</td>\n",
       "      <td>NaN</td>\n",
       "      <td>NaN</td>\n",
       "      <td>NaN</td>\n",
       "      <td>NaN</td>\n",
       "      <td>NaN</td>\n",
       "      <td>NaN</td>\n",
       "    </tr>\n",
       "    <tr>\n",
       "      <th>4</th>\n",
       "      <td>4</td>\n",
       "      <td>0.043529</td>\n",
       "      <td>0.086281</td>\n",
       "      <td>0.034590</td>\n",
       "      <td>0.016712</td>\n",
       "      <td>0.015935</td>\n",
       "      <td>NaN</td>\n",
       "      <td>NaN</td>\n",
       "      <td>NaN</td>\n",
       "      <td>NaN</td>\n",
       "      <td>...</td>\n",
       "      <td>NaN</td>\n",
       "      <td>NaN</td>\n",
       "      <td>NaN</td>\n",
       "      <td>NaN</td>\n",
       "      <td>NaN</td>\n",
       "      <td>NaN</td>\n",
       "      <td>NaN</td>\n",
       "      <td>NaN</td>\n",
       "      <td>NaN</td>\n",
       "      <td>NaN</td>\n",
       "    </tr>\n",
       "  </tbody>\n",
       "</table>\n",
       "<p>5 rows × 1001 columns</p>\n",
       "</div>"
      ],
      "text/plain": [
       "   user  the beatles  radiohead  deathcab for cutie  coldplay  modest mouse  \\\n",
       "0     0          NaN   0.020417                 NaN       NaN           NaN   \n",
       "1     1          NaN   0.184962            0.024561       NaN           NaN   \n",
       "2     2          NaN        NaN            0.028635       NaN           NaN   \n",
       "3     3          NaN        NaN                 NaN       NaN           NaN   \n",
       "4     4     0.043529   0.086281            0.034590  0.016712      0.015935   \n",
       "\n",
       "   sufjan stevens  dylan. bob  red hot clili peppers  pink fluid  ...  \\\n",
       "0             NaN         NaN               0.030496         NaN  ...   \n",
       "1        0.136341         NaN                    NaN         NaN  ...   \n",
       "2             NaN    0.024559                    NaN         NaN  ...   \n",
       "3             NaN         NaN                    NaN         NaN  ...   \n",
       "4             NaN         NaN                    NaN         NaN  ...   \n",
       "\n",
       "   municipal waste  townes van zandt  curtis mayfield  jewel  lamb  \\\n",
       "0              NaN               NaN              NaN    NaN   NaN   \n",
       "1              NaN               NaN              NaN    NaN   NaN   \n",
       "2              NaN               NaN              NaN    NaN   NaN   \n",
       "3              NaN               NaN              NaN    NaN   NaN   \n",
       "4              NaN               NaN              NaN    NaN   NaN   \n",
       "\n",
       "   michal w. smith  群星  agalloch  meshuggah  yellowcard  \n",
       "0              NaN NaN       NaN        NaN         NaN  \n",
       "1              NaN NaN       NaN        NaN         NaN  \n",
       "2              NaN NaN       NaN        NaN         NaN  \n",
       "3              NaN NaN       NaN        NaN         NaN  \n",
       "4              NaN NaN       NaN        NaN         NaN  \n",
       "\n",
       "[5 rows x 1001 columns]"
      ]
     },
     "execution_count": 13,
     "metadata": {},
     "output_type": "execute_result"
    }
   ],
   "source": [
    "import pandas as pd\n",
    "ratings = pd.read_excel(\"https://github.com/evgpat/edu_stepik_rec_sys/blob/main/datasets/sample_matrix.xlsx?raw=true\", engine='openpyxl')\n",
    "ratings.head()"
   ]
  },
  {
   "cell_type": "markdown",
   "id": "sGeCPjTAoxWs",
   "metadata": {
    "id": "sGeCPjTAoxWs"
   },
   "source": [
    "Будем строить кластеризацию исполнителей: если двух исполнителей слушало много людей примерно одинаковую долю своего времени (то есть векторы близки в пространстве), то, возможно исполнители похожи. Эта информация может быть полезна при построении рекомендательных систем."
   ]
  },
  {
   "cell_type": "markdown",
   "id": "R37mE-R2_3Wj",
   "metadata": {
    "id": "R37mE-R2_3Wj"
   },
   "source": [
    "## Задание 1 (0.5 балла) Подготовка"
   ]
  },
  {
   "cell_type": "markdown",
   "id": "orn7K6q8plA5",
   "metadata": {
    "id": "orn7K6q8plA5"
   },
   "source": [
    "Транспонируем матрицу ratings, чтобы по строкам стояли исполнители."
   ]
  },
  {
   "cell_type": "code",
   "execution_count": 14,
   "id": "KU6ljPlCpiwH",
   "metadata": {
    "id": "KU6ljPlCpiwH"
   },
   "outputs": [
    {
     "data": {
      "text/html": [
       "<div>\n",
       "<style scoped>\n",
       "    .dataframe tbody tr th:only-of-type {\n",
       "        vertical-align: middle;\n",
       "    }\n",
       "\n",
       "    .dataframe tbody tr th {\n",
       "        vertical-align: top;\n",
       "    }\n",
       "\n",
       "    .dataframe thead th {\n",
       "        text-align: right;\n",
       "    }\n",
       "</style>\n",
       "<table border=\"1\" class=\"dataframe\">\n",
       "  <thead>\n",
       "    <tr style=\"text-align: right;\">\n",
       "      <th></th>\n",
       "      <th>0</th>\n",
       "      <th>1</th>\n",
       "      <th>2</th>\n",
       "      <th>3</th>\n",
       "      <th>4</th>\n",
       "      <th>5</th>\n",
       "      <th>6</th>\n",
       "      <th>7</th>\n",
       "      <th>8</th>\n",
       "      <th>9</th>\n",
       "      <th>...</th>\n",
       "      <th>4990</th>\n",
       "      <th>4991</th>\n",
       "      <th>4992</th>\n",
       "      <th>4993</th>\n",
       "      <th>4994</th>\n",
       "      <th>4995</th>\n",
       "      <th>4996</th>\n",
       "      <th>4997</th>\n",
       "      <th>4998</th>\n",
       "      <th>4999</th>\n",
       "    </tr>\n",
       "  </thead>\n",
       "  <tbody>\n",
       "    <tr>\n",
       "      <th>user</th>\n",
       "      <td>0.000000</td>\n",
       "      <td>1.000000</td>\n",
       "      <td>2.000000</td>\n",
       "      <td>3.0</td>\n",
       "      <td>4.000000</td>\n",
       "      <td>5.000000</td>\n",
       "      <td>6.0</td>\n",
       "      <td>7.0</td>\n",
       "      <td>8.000000</td>\n",
       "      <td>9.000000</td>\n",
       "      <td>...</td>\n",
       "      <td>4990.000000</td>\n",
       "      <td>4991.0</td>\n",
       "      <td>4992.000000</td>\n",
       "      <td>4993.000000</td>\n",
       "      <td>4994.000000</td>\n",
       "      <td>4995.000000</td>\n",
       "      <td>4996.0</td>\n",
       "      <td>4997.000000</td>\n",
       "      <td>4998.0</td>\n",
       "      <td>4999.000000</td>\n",
       "    </tr>\n",
       "    <tr>\n",
       "      <th>the beatles</th>\n",
       "      <td>NaN</td>\n",
       "      <td>NaN</td>\n",
       "      <td>NaN</td>\n",
       "      <td>NaN</td>\n",
       "      <td>0.043529</td>\n",
       "      <td>NaN</td>\n",
       "      <td>NaN</td>\n",
       "      <td>NaN</td>\n",
       "      <td>0.093398</td>\n",
       "      <td>0.017621</td>\n",
       "      <td>...</td>\n",
       "      <td>NaN</td>\n",
       "      <td>NaN</td>\n",
       "      <td>0.121169</td>\n",
       "      <td>0.038168</td>\n",
       "      <td>0.007939</td>\n",
       "      <td>0.017884</td>\n",
       "      <td>NaN</td>\n",
       "      <td>0.076923</td>\n",
       "      <td>NaN</td>\n",
       "      <td>NaN</td>\n",
       "    </tr>\n",
       "    <tr>\n",
       "      <th>radiohead</th>\n",
       "      <td>0.020417</td>\n",
       "      <td>0.184962</td>\n",
       "      <td>NaN</td>\n",
       "      <td>NaN</td>\n",
       "      <td>0.086281</td>\n",
       "      <td>0.006322</td>\n",
       "      <td>NaN</td>\n",
       "      <td>NaN</td>\n",
       "      <td>NaN</td>\n",
       "      <td>0.019156</td>\n",
       "      <td>...</td>\n",
       "      <td>0.017735</td>\n",
       "      <td>NaN</td>\n",
       "      <td>NaN</td>\n",
       "      <td>NaN</td>\n",
       "      <td>0.011187</td>\n",
       "      <td>NaN</td>\n",
       "      <td>NaN</td>\n",
       "      <td>NaN</td>\n",
       "      <td>NaN</td>\n",
       "      <td>NaN</td>\n",
       "    </tr>\n",
       "    <tr>\n",
       "      <th>deathcab for cutie</th>\n",
       "      <td>NaN</td>\n",
       "      <td>0.024561</td>\n",
       "      <td>0.028635</td>\n",
       "      <td>NaN</td>\n",
       "      <td>0.034590</td>\n",
       "      <td>NaN</td>\n",
       "      <td>NaN</td>\n",
       "      <td>NaN</td>\n",
       "      <td>NaN</td>\n",
       "      <td>0.013349</td>\n",
       "      <td>...</td>\n",
       "      <td>0.121344</td>\n",
       "      <td>NaN</td>\n",
       "      <td>NaN</td>\n",
       "      <td>NaN</td>\n",
       "      <td>NaN</td>\n",
       "      <td>NaN</td>\n",
       "      <td>NaN</td>\n",
       "      <td>NaN</td>\n",
       "      <td>NaN</td>\n",
       "      <td>0.027893</td>\n",
       "    </tr>\n",
       "    <tr>\n",
       "      <th>coldplay</th>\n",
       "      <td>NaN</td>\n",
       "      <td>NaN</td>\n",
       "      <td>NaN</td>\n",
       "      <td>NaN</td>\n",
       "      <td>0.016712</td>\n",
       "      <td>NaN</td>\n",
       "      <td>NaN</td>\n",
       "      <td>NaN</td>\n",
       "      <td>NaN</td>\n",
       "      <td>NaN</td>\n",
       "      <td>...</td>\n",
       "      <td>0.217175</td>\n",
       "      <td>NaN</td>\n",
       "      <td>NaN</td>\n",
       "      <td>NaN</td>\n",
       "      <td>NaN</td>\n",
       "      <td>NaN</td>\n",
       "      <td>NaN</td>\n",
       "      <td>NaN</td>\n",
       "      <td>NaN</td>\n",
       "      <td>NaN</td>\n",
       "    </tr>\n",
       "  </tbody>\n",
       "</table>\n",
       "<p>5 rows × 5000 columns</p>\n",
       "</div>"
      ],
      "text/plain": [
       "                        0         1         2     3         4         5     \\\n",
       "user                0.000000  1.000000  2.000000   3.0  4.000000  5.000000   \n",
       "the beatles              NaN       NaN       NaN   NaN  0.043529       NaN   \n",
       "radiohead           0.020417  0.184962       NaN   NaN  0.086281  0.006322   \n",
       "deathcab for cutie       NaN  0.024561  0.028635   NaN  0.034590       NaN   \n",
       "coldplay                 NaN       NaN       NaN   NaN  0.016712       NaN   \n",
       "\n",
       "                    6     7         8         9     ...         4990    4991  \\\n",
       "user                 6.0   7.0  8.000000  9.000000  ...  4990.000000  4991.0   \n",
       "the beatles          NaN   NaN  0.093398  0.017621  ...          NaN     NaN   \n",
       "radiohead            NaN   NaN       NaN  0.019156  ...     0.017735     NaN   \n",
       "deathcab for cutie   NaN   NaN       NaN  0.013349  ...     0.121344     NaN   \n",
       "coldplay             NaN   NaN       NaN       NaN  ...     0.217175     NaN   \n",
       "\n",
       "                           4992         4993         4994         4995  \\\n",
       "user                4992.000000  4993.000000  4994.000000  4995.000000   \n",
       "the beatles            0.121169     0.038168     0.007939     0.017884   \n",
       "radiohead                   NaN          NaN     0.011187          NaN   \n",
       "deathcab for cutie          NaN          NaN          NaN          NaN   \n",
       "coldplay                    NaN          NaN          NaN          NaN   \n",
       "\n",
       "                      4996         4997    4998         4999  \n",
       "user                4996.0  4997.000000  4998.0  4999.000000  \n",
       "the beatles            NaN     0.076923     NaN          NaN  \n",
       "radiohead              NaN          NaN     NaN          NaN  \n",
       "deathcab for cutie     NaN          NaN     NaN     0.027893  \n",
       "coldplay               NaN          NaN     NaN          NaN  \n",
       "\n",
       "[5 rows x 5000 columns]"
      ]
     },
     "execution_count": 14,
     "metadata": {},
     "output_type": "execute_result"
    }
   ],
   "source": [
    "transposed_ratings = ratings.T\n",
    "transposed_ratings.head()"
   ]
  },
  {
   "cell_type": "markdown",
   "id": "WEKrlEhMpkhF",
   "metadata": {
    "id": "WEKrlEhMpkhF"
   },
   "source": [
    "Выкиньте строку под названием `user`."
   ]
  },
  {
   "cell_type": "code",
   "execution_count": 15,
   "id": "yAaV1q9TpuMh",
   "metadata": {
    "id": "yAaV1q9TpuMh"
   },
   "outputs": [],
   "source": [
    "transposed_ratings = transposed_ratings.drop(\"user\", axis=0)"
   ]
  },
  {
   "cell_type": "code",
   "execution_count": 16,
   "id": "7c2f795c-627d-409b-97e5-708877d64774",
   "metadata": {},
   "outputs": [
    {
     "data": {
      "text/html": [
       "<div>\n",
       "<style scoped>\n",
       "    .dataframe tbody tr th:only-of-type {\n",
       "        vertical-align: middle;\n",
       "    }\n",
       "\n",
       "    .dataframe tbody tr th {\n",
       "        vertical-align: top;\n",
       "    }\n",
       "\n",
       "    .dataframe thead th {\n",
       "        text-align: right;\n",
       "    }\n",
       "</style>\n",
       "<table border=\"1\" class=\"dataframe\">\n",
       "  <thead>\n",
       "    <tr style=\"text-align: right;\">\n",
       "      <th></th>\n",
       "      <th>0</th>\n",
       "      <th>1</th>\n",
       "      <th>2</th>\n",
       "      <th>3</th>\n",
       "      <th>4</th>\n",
       "      <th>5</th>\n",
       "      <th>6</th>\n",
       "      <th>7</th>\n",
       "      <th>8</th>\n",
       "      <th>9</th>\n",
       "      <th>...</th>\n",
       "      <th>4990</th>\n",
       "      <th>4991</th>\n",
       "      <th>4992</th>\n",
       "      <th>4993</th>\n",
       "      <th>4994</th>\n",
       "      <th>4995</th>\n",
       "      <th>4996</th>\n",
       "      <th>4997</th>\n",
       "      <th>4998</th>\n",
       "      <th>4999</th>\n",
       "    </tr>\n",
       "  </thead>\n",
       "  <tbody>\n",
       "    <tr>\n",
       "      <th>the beatles</th>\n",
       "      <td>NaN</td>\n",
       "      <td>NaN</td>\n",
       "      <td>NaN</td>\n",
       "      <td>NaN</td>\n",
       "      <td>0.043529</td>\n",
       "      <td>NaN</td>\n",
       "      <td>NaN</td>\n",
       "      <td>NaN</td>\n",
       "      <td>0.093398</td>\n",
       "      <td>0.017621</td>\n",
       "      <td>...</td>\n",
       "      <td>NaN</td>\n",
       "      <td>NaN</td>\n",
       "      <td>0.121169</td>\n",
       "      <td>0.038168</td>\n",
       "      <td>0.007939</td>\n",
       "      <td>0.017884</td>\n",
       "      <td>NaN</td>\n",
       "      <td>0.076923</td>\n",
       "      <td>NaN</td>\n",
       "      <td>NaN</td>\n",
       "    </tr>\n",
       "    <tr>\n",
       "      <th>radiohead</th>\n",
       "      <td>0.020417</td>\n",
       "      <td>0.184962</td>\n",
       "      <td>NaN</td>\n",
       "      <td>NaN</td>\n",
       "      <td>0.086281</td>\n",
       "      <td>0.006322</td>\n",
       "      <td>NaN</td>\n",
       "      <td>NaN</td>\n",
       "      <td>NaN</td>\n",
       "      <td>0.019156</td>\n",
       "      <td>...</td>\n",
       "      <td>0.017735</td>\n",
       "      <td>NaN</td>\n",
       "      <td>NaN</td>\n",
       "      <td>NaN</td>\n",
       "      <td>0.011187</td>\n",
       "      <td>NaN</td>\n",
       "      <td>NaN</td>\n",
       "      <td>NaN</td>\n",
       "      <td>NaN</td>\n",
       "      <td>NaN</td>\n",
       "    </tr>\n",
       "    <tr>\n",
       "      <th>deathcab for cutie</th>\n",
       "      <td>NaN</td>\n",
       "      <td>0.024561</td>\n",
       "      <td>0.028635</td>\n",
       "      <td>NaN</td>\n",
       "      <td>0.034590</td>\n",
       "      <td>NaN</td>\n",
       "      <td>NaN</td>\n",
       "      <td>NaN</td>\n",
       "      <td>NaN</td>\n",
       "      <td>0.013349</td>\n",
       "      <td>...</td>\n",
       "      <td>0.121344</td>\n",
       "      <td>NaN</td>\n",
       "      <td>NaN</td>\n",
       "      <td>NaN</td>\n",
       "      <td>NaN</td>\n",
       "      <td>NaN</td>\n",
       "      <td>NaN</td>\n",
       "      <td>NaN</td>\n",
       "      <td>NaN</td>\n",
       "      <td>0.027893</td>\n",
       "    </tr>\n",
       "    <tr>\n",
       "      <th>coldplay</th>\n",
       "      <td>NaN</td>\n",
       "      <td>NaN</td>\n",
       "      <td>NaN</td>\n",
       "      <td>NaN</td>\n",
       "      <td>0.016712</td>\n",
       "      <td>NaN</td>\n",
       "      <td>NaN</td>\n",
       "      <td>NaN</td>\n",
       "      <td>NaN</td>\n",
       "      <td>NaN</td>\n",
       "      <td>...</td>\n",
       "      <td>0.217175</td>\n",
       "      <td>NaN</td>\n",
       "      <td>NaN</td>\n",
       "      <td>NaN</td>\n",
       "      <td>NaN</td>\n",
       "      <td>NaN</td>\n",
       "      <td>NaN</td>\n",
       "      <td>NaN</td>\n",
       "      <td>NaN</td>\n",
       "      <td>NaN</td>\n",
       "    </tr>\n",
       "    <tr>\n",
       "      <th>modest mouse</th>\n",
       "      <td>NaN</td>\n",
       "      <td>NaN</td>\n",
       "      <td>NaN</td>\n",
       "      <td>NaN</td>\n",
       "      <td>0.015935</td>\n",
       "      <td>NaN</td>\n",
       "      <td>NaN</td>\n",
       "      <td>NaN</td>\n",
       "      <td>NaN</td>\n",
       "      <td>0.030437</td>\n",
       "      <td>...</td>\n",
       "      <td>NaN</td>\n",
       "      <td>NaN</td>\n",
       "      <td>NaN</td>\n",
       "      <td>NaN</td>\n",
       "      <td>NaN</td>\n",
       "      <td>NaN</td>\n",
       "      <td>NaN</td>\n",
       "      <td>NaN</td>\n",
       "      <td>NaN</td>\n",
       "      <td>NaN</td>\n",
       "    </tr>\n",
       "    <tr>\n",
       "      <th>...</th>\n",
       "      <td>...</td>\n",
       "      <td>...</td>\n",
       "      <td>...</td>\n",
       "      <td>...</td>\n",
       "      <td>...</td>\n",
       "      <td>...</td>\n",
       "      <td>...</td>\n",
       "      <td>...</td>\n",
       "      <td>...</td>\n",
       "      <td>...</td>\n",
       "      <td>...</td>\n",
       "      <td>...</td>\n",
       "      <td>...</td>\n",
       "      <td>...</td>\n",
       "      <td>...</td>\n",
       "      <td>...</td>\n",
       "      <td>...</td>\n",
       "      <td>...</td>\n",
       "      <td>...</td>\n",
       "      <td>...</td>\n",
       "      <td>...</td>\n",
       "    </tr>\n",
       "    <tr>\n",
       "      <th>michal w. smith</th>\n",
       "      <td>NaN</td>\n",
       "      <td>NaN</td>\n",
       "      <td>NaN</td>\n",
       "      <td>NaN</td>\n",
       "      <td>NaN</td>\n",
       "      <td>NaN</td>\n",
       "      <td>NaN</td>\n",
       "      <td>NaN</td>\n",
       "      <td>NaN</td>\n",
       "      <td>NaN</td>\n",
       "      <td>...</td>\n",
       "      <td>NaN</td>\n",
       "      <td>NaN</td>\n",
       "      <td>NaN</td>\n",
       "      <td>NaN</td>\n",
       "      <td>NaN</td>\n",
       "      <td>NaN</td>\n",
       "      <td>NaN</td>\n",
       "      <td>NaN</td>\n",
       "      <td>NaN</td>\n",
       "      <td>NaN</td>\n",
       "    </tr>\n",
       "    <tr>\n",
       "      <th>群星</th>\n",
       "      <td>NaN</td>\n",
       "      <td>NaN</td>\n",
       "      <td>NaN</td>\n",
       "      <td>NaN</td>\n",
       "      <td>NaN</td>\n",
       "      <td>NaN</td>\n",
       "      <td>NaN</td>\n",
       "      <td>NaN</td>\n",
       "      <td>NaN</td>\n",
       "      <td>NaN</td>\n",
       "      <td>...</td>\n",
       "      <td>NaN</td>\n",
       "      <td>NaN</td>\n",
       "      <td>NaN</td>\n",
       "      <td>NaN</td>\n",
       "      <td>NaN</td>\n",
       "      <td>NaN</td>\n",
       "      <td>NaN</td>\n",
       "      <td>NaN</td>\n",
       "      <td>NaN</td>\n",
       "      <td>NaN</td>\n",
       "    </tr>\n",
       "    <tr>\n",
       "      <th>agalloch</th>\n",
       "      <td>NaN</td>\n",
       "      <td>NaN</td>\n",
       "      <td>NaN</td>\n",
       "      <td>NaN</td>\n",
       "      <td>NaN</td>\n",
       "      <td>NaN</td>\n",
       "      <td>NaN</td>\n",
       "      <td>NaN</td>\n",
       "      <td>NaN</td>\n",
       "      <td>NaN</td>\n",
       "      <td>...</td>\n",
       "      <td>NaN</td>\n",
       "      <td>NaN</td>\n",
       "      <td>NaN</td>\n",
       "      <td>NaN</td>\n",
       "      <td>NaN</td>\n",
       "      <td>NaN</td>\n",
       "      <td>NaN</td>\n",
       "      <td>NaN</td>\n",
       "      <td>NaN</td>\n",
       "      <td>NaN</td>\n",
       "    </tr>\n",
       "    <tr>\n",
       "      <th>meshuggah</th>\n",
       "      <td>NaN</td>\n",
       "      <td>NaN</td>\n",
       "      <td>NaN</td>\n",
       "      <td>NaN</td>\n",
       "      <td>NaN</td>\n",
       "      <td>NaN</td>\n",
       "      <td>NaN</td>\n",
       "      <td>NaN</td>\n",
       "      <td>NaN</td>\n",
       "      <td>NaN</td>\n",
       "      <td>...</td>\n",
       "      <td>NaN</td>\n",
       "      <td>NaN</td>\n",
       "      <td>NaN</td>\n",
       "      <td>NaN</td>\n",
       "      <td>NaN</td>\n",
       "      <td>NaN</td>\n",
       "      <td>NaN</td>\n",
       "      <td>NaN</td>\n",
       "      <td>NaN</td>\n",
       "      <td>NaN</td>\n",
       "    </tr>\n",
       "    <tr>\n",
       "      <th>yellowcard</th>\n",
       "      <td>NaN</td>\n",
       "      <td>NaN</td>\n",
       "      <td>NaN</td>\n",
       "      <td>NaN</td>\n",
       "      <td>NaN</td>\n",
       "      <td>NaN</td>\n",
       "      <td>NaN</td>\n",
       "      <td>NaN</td>\n",
       "      <td>NaN</td>\n",
       "      <td>NaN</td>\n",
       "      <td>...</td>\n",
       "      <td>NaN</td>\n",
       "      <td>NaN</td>\n",
       "      <td>NaN</td>\n",
       "      <td>NaN</td>\n",
       "      <td>NaN</td>\n",
       "      <td>NaN</td>\n",
       "      <td>NaN</td>\n",
       "      <td>NaN</td>\n",
       "      <td>NaN</td>\n",
       "      <td>NaN</td>\n",
       "    </tr>\n",
       "  </tbody>\n",
       "</table>\n",
       "<p>1000 rows × 5000 columns</p>\n",
       "</div>"
      ],
      "text/plain": [
       "                        0         1         2     3         4         5     \\\n",
       "the beatles              NaN       NaN       NaN   NaN  0.043529       NaN   \n",
       "radiohead           0.020417  0.184962       NaN   NaN  0.086281  0.006322   \n",
       "deathcab for cutie       NaN  0.024561  0.028635   NaN  0.034590       NaN   \n",
       "coldplay                 NaN       NaN       NaN   NaN  0.016712       NaN   \n",
       "modest mouse             NaN       NaN       NaN   NaN  0.015935       NaN   \n",
       "...                      ...       ...       ...   ...       ...       ...   \n",
       "michal w. smith          NaN       NaN       NaN   NaN       NaN       NaN   \n",
       "群星                       NaN       NaN       NaN   NaN       NaN       NaN   \n",
       "agalloch                 NaN       NaN       NaN   NaN       NaN       NaN   \n",
       "meshuggah                NaN       NaN       NaN   NaN       NaN       NaN   \n",
       "yellowcard               NaN       NaN       NaN   NaN       NaN       NaN   \n",
       "\n",
       "                    6     7         8         9     ...      4990  4991  \\\n",
       "the beatles          NaN   NaN  0.093398  0.017621  ...       NaN   NaN   \n",
       "radiohead            NaN   NaN       NaN  0.019156  ...  0.017735   NaN   \n",
       "deathcab for cutie   NaN   NaN       NaN  0.013349  ...  0.121344   NaN   \n",
       "coldplay             NaN   NaN       NaN       NaN  ...  0.217175   NaN   \n",
       "modest mouse         NaN   NaN       NaN  0.030437  ...       NaN   NaN   \n",
       "...                  ...   ...       ...       ...  ...       ...   ...   \n",
       "michal w. smith      NaN   NaN       NaN       NaN  ...       NaN   NaN   \n",
       "群星                   NaN   NaN       NaN       NaN  ...       NaN   NaN   \n",
       "agalloch             NaN   NaN       NaN       NaN  ...       NaN   NaN   \n",
       "meshuggah            NaN   NaN       NaN       NaN  ...       NaN   NaN   \n",
       "yellowcard           NaN   NaN       NaN       NaN  ...       NaN   NaN   \n",
       "\n",
       "                        4992      4993      4994      4995  4996      4997  \\\n",
       "the beatles         0.121169  0.038168  0.007939  0.017884   NaN  0.076923   \n",
       "radiohead                NaN       NaN  0.011187       NaN   NaN       NaN   \n",
       "deathcab for cutie       NaN       NaN       NaN       NaN   NaN       NaN   \n",
       "coldplay                 NaN       NaN       NaN       NaN   NaN       NaN   \n",
       "modest mouse             NaN       NaN       NaN       NaN   NaN       NaN   \n",
       "...                      ...       ...       ...       ...   ...       ...   \n",
       "michal w. smith          NaN       NaN       NaN       NaN   NaN       NaN   \n",
       "群星                       NaN       NaN       NaN       NaN   NaN       NaN   \n",
       "agalloch                 NaN       NaN       NaN       NaN   NaN       NaN   \n",
       "meshuggah                NaN       NaN       NaN       NaN   NaN       NaN   \n",
       "yellowcard               NaN       NaN       NaN       NaN   NaN       NaN   \n",
       "\n",
       "                    4998      4999  \n",
       "the beatles          NaN       NaN  \n",
       "radiohead            NaN       NaN  \n",
       "deathcab for cutie   NaN  0.027893  \n",
       "coldplay             NaN       NaN  \n",
       "modest mouse         NaN       NaN  \n",
       "...                  ...       ...  \n",
       "michal w. smith      NaN       NaN  \n",
       "群星                   NaN       NaN  \n",
       "agalloch             NaN       NaN  \n",
       "meshuggah            NaN       NaN  \n",
       "yellowcard           NaN       NaN  \n",
       "\n",
       "[1000 rows x 5000 columns]"
      ]
     },
     "execution_count": 16,
     "metadata": {},
     "output_type": "execute_result"
    }
   ],
   "source": [
    "transposed_ratings"
   ]
  },
  {
   "cell_type": "markdown",
   "id": "Z823IqqPpv_s",
   "metadata": {
    "id": "Z823IqqPpv_s"
   },
   "source": [
    "В таблице много пропусков, так как пользователи слушают не всех-всех исполнителей, чья музыка представлена в сервисе, а некоторое подмножество (обычно около 30 исполнителей)\n",
    "\n",
    "\n",
    "Доля исполнителя в музыке, прослушанной  пользователем, равна 0, если пользователь никогда не слушал музыку данного музыканта, поэтому заполните пропуски нулями.\n",
    "\n"
   ]
  },
  {
   "cell_type": "code",
   "execution_count": 17,
   "id": "XRdHzXJUsOeS",
   "metadata": {
    "colab": {
     "base_uri": "https://localhost:8080/",
     "height": 110
    },
    "id": "XRdHzXJUsOeS",
    "outputId": "499ea6da-ce25-4a04-8827-79306a3c39b2"
   },
   "outputs": [
    {
     "data": {
      "text/html": [
       "<div>\n",
       "<style scoped>\n",
       "    .dataframe tbody tr th:only-of-type {\n",
       "        vertical-align: middle;\n",
       "    }\n",
       "\n",
       "    .dataframe tbody tr th {\n",
       "        vertical-align: top;\n",
       "    }\n",
       "\n",
       "    .dataframe thead th {\n",
       "        text-align: right;\n",
       "    }\n",
       "</style>\n",
       "<table border=\"1\" class=\"dataframe\">\n",
       "  <thead>\n",
       "    <tr style=\"text-align: right;\">\n",
       "      <th></th>\n",
       "      <th>0</th>\n",
       "      <th>1</th>\n",
       "      <th>2</th>\n",
       "      <th>3</th>\n",
       "      <th>4</th>\n",
       "      <th>5</th>\n",
       "      <th>6</th>\n",
       "      <th>7</th>\n",
       "      <th>8</th>\n",
       "      <th>9</th>\n",
       "      <th>...</th>\n",
       "      <th>4990</th>\n",
       "      <th>4991</th>\n",
       "      <th>4992</th>\n",
       "      <th>4993</th>\n",
       "      <th>4994</th>\n",
       "      <th>4995</th>\n",
       "      <th>4996</th>\n",
       "      <th>4997</th>\n",
       "      <th>4998</th>\n",
       "      <th>4999</th>\n",
       "    </tr>\n",
       "  </thead>\n",
       "  <tbody>\n",
       "    <tr>\n",
       "      <th>they might be giants [tmbg]</th>\n",
       "      <td>0.0</td>\n",
       "      <td>0.0</td>\n",
       "      <td>0.0</td>\n",
       "      <td>0.0</td>\n",
       "      <td>0.0</td>\n",
       "      <td>0.0</td>\n",
       "      <td>0.0</td>\n",
       "      <td>0.0</td>\n",
       "      <td>0.0</td>\n",
       "      <td>0.021292</td>\n",
       "      <td>...</td>\n",
       "      <td>0.0</td>\n",
       "      <td>0.0</td>\n",
       "      <td>0.0</td>\n",
       "      <td>0.0</td>\n",
       "      <td>0.0</td>\n",
       "      <td>0.006464</td>\n",
       "      <td>0.0</td>\n",
       "      <td>0.0</td>\n",
       "      <td>0.0</td>\n",
       "      <td>0.0</td>\n",
       "    </tr>\n",
       "  </tbody>\n",
       "</table>\n",
       "<p>1 rows × 5000 columns</p>\n",
       "</div>"
      ],
      "text/plain": [
       "                             0     1     2     3     4     5     6     7     \\\n",
       "they might be giants [tmbg]   0.0   0.0   0.0   0.0   0.0   0.0   0.0   0.0   \n",
       "\n",
       "                             8         9     ...  4990  4991  4992  4993  \\\n",
       "they might be giants [tmbg]   0.0  0.021292  ...   0.0   0.0   0.0   0.0   \n",
       "\n",
       "                             4994      4995  4996  4997  4998  4999  \n",
       "they might be giants [tmbg]   0.0  0.006464   0.0   0.0   0.0   0.0  \n",
       "\n",
       "[1 rows x 5000 columns]"
      ]
     },
     "execution_count": 17,
     "metadata": {},
     "output_type": "execute_result"
    }
   ],
   "source": [
    "transposed_ratings.fillna(0, inplace=True)\n",
    "transposed_ratings.sample()"
   ]
  },
  {
   "cell_type": "markdown",
   "id": "0_1D0JnmAAjL",
   "metadata": {
    "id": "0_1D0JnmAAjL"
   },
   "source": [
    "## Задание 2 (0.5 балла) Первая кластеризация"
   ]
  },
  {
   "cell_type": "markdown",
   "id": "ARuDv5grstBl",
   "metadata": {
    "id": "ARuDv5grstBl"
   },
   "source": [
    "Примените KMeans с 5ю кластерами, сохраните полученные лейблы"
   ]
  },
  {
   "cell_type": "code",
   "execution_count": 18,
   "id": "r2HxwIN5ssoO",
   "metadata": {
    "id": "r2HxwIN5ssoO"
   },
   "outputs": [
    {
     "name": "stdout",
     "output_type": "stream",
     "text": [
      "[3 2 2 4 2 2 2 2 2 2]\n"
     ]
    }
   ],
   "source": [
    "from sklearn.cluster import KMeans\n",
    "\n",
    "kmeans = KMeans(n_clusters=5, random_state=42)\n",
    "kmeans.fit(transposed_ratings)\n",
    "\n",
    "labels = kmeans.labels_\n",
    "\n",
    "print(labels[:10])"
   ]
  },
  {
   "cell_type": "markdown",
   "id": "aoWre3460SVi",
   "metadata": {
    "id": "aoWre3460SVi"
   },
   "source": [
    "Выведите размеры кластеров. Полезной ли получилась кластеризация? Почему KMeans может выдать такой результат?"
   ]
  },
  {
   "cell_type": "code",
   "execution_count": 19,
   "id": "zsGGw7ha1OhP",
   "metadata": {
    "id": "zsGGw7ha1OhP"
   },
   "outputs": [
    {
     "name": "stdout",
     "output_type": "stream",
     "text": [
      "Размеры кластеров:\n",
      "2    995\n",
      "0      2\n",
      "3      1\n",
      "4      1\n",
      "1      1\n",
      "dtype: int64\n"
     ]
    }
   ],
   "source": [
    "cluster_sizes = pd.Series(labels).value_counts()\n",
    "\n",
    "print(\"Размеры кластеров:\")\n",
    "print(cluster_sizes)\n"
   ]
  },
  {
   "cell_type": "markdown",
   "id": "lCcSpb2o11nZ",
   "metadata": {
    "id": "lCcSpb2o11nZ"
   },
   "source": [
    "**Ответ:** Кластеризация почти все относит к одному кластеру, скорее всего, потому что данные слишком похожи, так как мы не нормализовали под конкретную группу(спойлер)"
   ]
  },
  {
   "cell_type": "markdown",
   "id": "HDLIxdWBAMql",
   "metadata": {
    "id": "HDLIxdWBAMql"
   },
   "source": [
    "## Задание 3 (0.5 балла) Объяснение результатов"
   ]
  },
  {
   "cell_type": "markdown",
   "id": "Z0LPwxlK6PX3",
   "metadata": {
    "id": "Z0LPwxlK6PX3"
   },
   "source": [
    "При кластеризации получилось $\\geq 1$ кластера размера 1. Выведите исполнителей, которые составляют такие кластеры. Среди них должна быть группа The Beatles."
   ]
  },
  {
   "cell_type": "code",
   "execution_count": 20,
   "id": "GpopP65iUXiJ",
   "metadata": {
    "id": "GpopP65iUXiJ"
   },
   "outputs": [
    {
     "name": "stdout",
     "output_type": "stream",
     "text": [
      "Кластер 3: Исполнитель - the beatles\n",
      "Кластер 4: Исполнитель - coldplay\n",
      "Кластер 1: Исполнитель - 보아\n"
     ]
    }
   ],
   "source": [
    "# кластеры размера 1\n",
    "single_element_clusters = cluster_sizes[cluster_sizes == 1].index\n",
    "\n",
    "for cluster_id in single_element_clusters:\n",
    "    performer = transposed_ratings.index[labels == cluster_id][0]\n",
    "    print(f\"Кластер {cluster_id}: Исполнитель - {performer}\")"
   ]
  },
  {
   "cell_type": "markdown",
   "id": "brfvihta6yyG",
   "metadata": {
    "id": "brfvihta6yyG"
   },
   "source": [
    "Изучите данные, почему именно The Beatles выделяется?\n",
    "\n",
    "Подсказка: посмотрите на долю пользователей, которые слушают каждого исполнителя, среднюю долю прослушивания."
   ]
  },
  {
   "cell_type": "code",
   "execution_count": 21,
   "id": "xnK6DL-aUdPi",
   "metadata": {
    "id": "xnK6DL-aUdPi"
   },
   "outputs": [
    {
     "name": "stdout",
     "output_type": "stream",
     "text": [
      "The Beatles statistics:\n",
      "proportion_users_listening      0.334200\n",
      "average_listening_proportion    0.018369\n",
      "Name: the beatles, dtype: float64\n"
     ]
    }
   ],
   "source": [
    "# рассчет доли пользователей, которые слушают каждого исполнителя\n",
    "user_counts = (transposed_ratings > 0).sum(axis=1)\n",
    "total_users = transposed_ratings.shape[1]\n",
    "proportion_users_listening = user_counts / total_users\n",
    "\n",
    "# считаем среднюю долю прослушивания для каждого исполнителя\n",
    "average_listening_proportion = transposed_ratings.mean(axis=1)\n",
    "\n",
    "artist_stats = pd.DataFrame({\n",
    "    'proportion_users_listening': proportion_users_listening,\n",
    "    'average_listening_proportion': average_listening_proportion\n",
    "})\n",
    "\n",
    "print(\"The Beatles statistics:\")\n",
    "print(artist_stats.loc['the beatles'])"
   ]
  },
  {
   "cell_type": "code",
   "execution_count": 22,
   "id": "d2e61f80-e09c-4eab-95db-5c3980bc1f01",
   "metadata": {},
   "outputs": [
    {
     "name": "stdout",
     "output_type": "stream",
     "text": [
      "Топ 10 исполнителей по доле пользователей:\n",
      "                       proportion_users_listening  \\\n",
      "the beatles                                0.3342   \n",
      "radiohead                                  0.2778   \n",
      "deathcab for cutie                         0.1862   \n",
      "coldplay                                   0.1682   \n",
      "modest mouse                               0.1628   \n",
      "sufjan stevens                             0.1292   \n",
      "dylan. bob                                 0.1262   \n",
      "red hot clili peppers                      0.1258   \n",
      "pink fluid                                 0.1256   \n",
      "kanye west                                 0.1250   \n",
      "\n",
      "                       average_listening_proportion  \n",
      "the beatles                                0.018369  \n",
      "radiohead                                  0.011851  \n",
      "deathcab for cutie                         0.006543  \n",
      "coldplay                                   0.006030  \n",
      "modest mouse                               0.005876  \n",
      "sufjan stevens                             0.004969  \n",
      "dylan. bob                                 0.004963  \n",
      "red hot clili peppers                      0.003994  \n",
      "pink fluid                                 0.004909  \n",
      "kanye west                                 0.004641  \n",
      "\n",
      "Топ 10 исполнителей по средней доле прослушивания:\n",
      "                    proportion_users_listening  average_listening_proportion\n",
      "the beatles                             0.3342                      0.018369\n",
      "radiohead                               0.2778                      0.011851\n",
      "deathcab for cutie                      0.1862                      0.006543\n",
      "niИ                                     0.1182                      0.006470\n",
      "coldplay                                0.1682                      0.006030\n",
      "modest mouse                            0.1628                      0.005876\n",
      "sufjan stevens                          0.1292                      0.004969\n",
      "dylan. bob                              0.1262                      0.004963\n",
      "pink fluid                              0.1256                      0.004909\n",
      "elliotte smith                          0.1166                      0.004842\n"
     ]
    }
   ],
   "source": [
    "top_artists_by_proportion = artist_stats.sort_values(by='proportion_users_listening', ascending=False).head(10)\n",
    "top_artists_by_average = artist_stats.sort_values(by='average_listening_proportion', ascending=False).head(10)\n",
    "\n",
    "print(\"Топ 10 исполнителей по доле пользователей:\")\n",
    "print(top_artists_by_proportion)\n",
    "\n",
    "print(\"\\nТоп 10 исполнителей по средней доле прослушивания:\")\n",
    "print(top_artists_by_average)"
   ]
  },
  {
   "cell_type": "markdown",
   "id": "QzYYFir870jG",
   "metadata": {
    "id": "QzYYFir870jG"
   },
   "source": [
    "**Ответ:** Получилось, что beatles популярны среди большинства пользователей(33%), при этом их слушают довольно интенсивно. Это сильно выделеят по сравнению с остальными"
   ]
  },
  {
   "cell_type": "markdown",
   "id": "faW2kZFjAS9X",
   "metadata": {
    "id": "faW2kZFjAS9X"
   },
   "source": [
    "## Задание 4 (0.5 балла) Улучшение кластеризации"
   ]
  },
  {
   "cell_type": "markdown",
   "id": "Yzz3BbBw9KKt",
   "metadata": {
    "id": "Yzz3BbBw9KKt"
   },
   "source": [
    "Попытаемся избавиться от этой проблемы: нормализуйте данные при помощи `normalize`."
   ]
  },
  {
   "cell_type": "code",
   "execution_count": 23,
   "id": "zg_crbGI9RNG",
   "metadata": {
    "id": "zg_crbGI9RNG"
   },
   "outputs": [],
   "source": [
    "from sklearn.preprocessing import normalize\n",
    "\n",
    "normalized_data = normalize(transposed_ratings, axis=1)"
   ]
  },
  {
   "cell_type": "markdown",
   "id": "vFlwI4ec-SuY",
   "metadata": {
    "id": "vFlwI4ec-SuY"
   },
   "source": [
    "Примените KMeans с 5ю кластерами на преобразованной матрице, посмотрите на их размеры. Стало ли лучше? Может ли кластеризация быть полезной теперь?"
   ]
  },
  {
   "cell_type": "code",
   "execution_count": 24,
   "id": "6ic3WvMdUfwb",
   "metadata": {
    "id": "6ic3WvMdUfwb"
   },
   "outputs": [
    {
     "name": "stdout",
     "output_type": "stream",
     "text": [
      "Размеры кластеров после нормализации:\n",
      "2    405\n",
      "0    237\n",
      "1    152\n",
      "3    139\n",
      "4     67\n",
      "dtype: int64\n"
     ]
    }
   ],
   "source": [
    "kmeans = KMeans(n_clusters=5, random_state=42)\n",
    "kmeans.fit(normalized_data)\n",
    "\n",
    "labels = kmeans.labels_\n",
    "\n",
    "cluster_sizes = pd.Series(labels).value_counts()\n",
    "\n",
    "print(\"Размеры кластеров после нормализации:\")\n",
    "print(cluster_sizes)\n"
   ]
  },
  {
   "cell_type": "markdown",
   "id": "Xj9fyDKd-bzk",
   "metadata": {
    "id": "Xj9fyDKd-bzk"
   },
   "source": [
    "**Ответ** Стало сильно лучше, теперь хотя бы есть несколько больших кластеров, можно с этим работать"
   ]
  },
  {
   "cell_type": "markdown",
   "id": "zFsXACPxAhyv",
   "metadata": {
    "id": "zFsXACPxAhyv"
   },
   "source": [
    "## Задание 5 (1 балл) Центроиды"
   ]
  },
  {
   "cell_type": "markdown",
   "id": "qG5cISdzu7Jh",
   "metadata": {
    "id": "qG5cISdzu7Jh"
   },
   "source": [
    "Выведите для каждого кластера названия топ-10 исполнителей, ближайших к центроиду по косинусной мере. Проинтерпретируйте результат. Что можно сказать о смысле кластеров?"
   ]
  },
  {
   "cell_type": "code",
   "execution_count": 25,
   "id": "Q3gI8OlKuCG6",
   "metadata": {
    "id": "Q3gI8OlKuCG6"
   },
   "outputs": [
    {
     "name": "stdout",
     "output_type": "stream",
     "text": [
      "Кластер 1:\n",
      "  radiohead\n",
      "  the arcade fire\n",
      "  broken social scene\n",
      "  animal collective\n",
      "  belle and sebastian\n",
      "  sufjan stevens\n",
      "  the shins\n",
      "  of montreal\n",
      "  the pixies\n",
      "  spoon\n",
      "\n",
      "\n",
      "Кластер 2:\n",
      "  kelly clarkson\n",
      "  rihanna & jay-z\n",
      "  maroon5\n",
      "  the pussycat dolls\n",
      "  john mayer\n",
      "  alicia keys\n",
      "  lady gaga\n",
      "  beyoncé\n",
      "  coldplay\n",
      "  nelly furtado\n",
      "\n",
      "\n",
      "Кластер 3:\n",
      "  the beatles\n",
      "  the rolling stones\n",
      "  led zeppelin.\n",
      "  pink fluid\n",
      "  acdc\n",
      "  metallica\n",
      "  red hot clili peppers\n",
      "  the clash\n",
      "  queen\n",
      "  niИ\n",
      "\n",
      "\n",
      "Кластер 4:\n",
      "  fall out boy\n",
      "  saosin\n",
      "  brand new\n",
      "  taking back sunday\n",
      "  blink-182\n",
      "  anberlin\n",
      "  the used\n",
      "  cartel\n",
      "  chiodos\n",
      "  new found glory\n",
      "\n",
      "\n",
      "Кластер 5:\n",
      "  nas\n",
      "  jay-z\n",
      "  a tribe called quest\n",
      "  kanye west\n",
      "  the roots featuring d'angelo\n",
      "  lupe the gorilla\n",
      "  gangstarr\n",
      "  murs and 9th wonder\n",
      "  little brother\n",
      "  mos def\n",
      "\n",
      "\n"
     ]
    }
   ],
   "source": [
    "from scipy.spatial.distance import cosine\n",
    "\n",
    "\n",
    "centroids = kmeans.cluster_centers_\n",
    "\n",
    "top_artists_per_cluster = {}\n",
    "\n",
    "for cluster in range(5):\n",
    "    cluster_indices = np.where(labels == cluster)[0]\n",
    "    cluster_artists = transposed_ratings.index[cluster_indices]\n",
    "    \n",
    "    distances = []\n",
    "    for index in cluster_indices:\n",
    "        distance = cosine(normalized_data[index], centroids[cluster])\n",
    "        distances.append((transposed_ratings.index[index], distance))\n",
    "    \n",
    "    # сортируем по расстоянию и берем топ-10\n",
    "    sorted_distances = sorted(distances, key=lambda x: x[1])\n",
    "    top_artists_per_cluster[cluster] = [artist for artist, distance in sorted_distances[:10]]\n",
    "\n",
    "for cluster, artists in top_artists_per_cluster.items():\n",
    "    print(f\"Кластер {cluster+1}:\")\n",
    "    for artist in artists:\n",
    "        print(f\"  {artist}\")\n",
    "    print(\"\\n\")"
   ]
  },
  {
   "cell_type": "markdown",
   "id": "GwioYtvAxqxT",
   "metadata": {
    "id": "GwioYtvAxqxT"
   },
   "source": [
    "**Ответ:** Кластеры как будто бы разделились по жанрам, в 5 кластер например попал рэп, в 3 что-то типа рока, довольно хорошее разделение"
   ]
  },
  {
   "cell_type": "markdown",
   "id": "TkBh9Dk2C_el",
   "metadata": {
    "id": "TkBh9Dk2C_el"
   },
   "source": [
    "## Задание 6 (1 балл) Визуализация"
   ]
  },
  {
   "cell_type": "markdown",
   "id": "GzP-OoAZDony",
   "metadata": {
    "id": "GzP-OoAZDony"
   },
   "source": [
    "Хотелось бы как-то визуализировать полученную кластеризацию. Постройте точечные графики `plt.scatter` для нескольких пар признаков исполнителей, покрасив точки в цвета кластеров. Почему визуализации получились такими? Хорошо ли они отражают разделение на кластеры? Почему?"
   ]
  },
  {
   "cell_type": "code",
   "execution_count": 26,
   "id": "HyVqnEQ3DWgm",
   "metadata": {
    "id": "HyVqnEQ3DWgm"
   },
   "outputs": [
    {
     "data": {
      "image/png": "[encoded data removed]",
      "text/plain": [
       "<Figure size 1800x600 with 3 Axes>"
      ]
     },
     "metadata": {},
     "output_type": "display_data"
    }
   ],
   "source": [
    "import matplotlib.pyplot as plt\n",
    "\n",
    "# наши пары для визуализации\n",
    "pairs_of_features = [(0, 1), (2, 3), (4, 5)]\n",
    "\n",
    "plt.figure(figsize=(18, 6))\n",
    "colors = ['red', 'blue', 'green', 'purple', 'orange']\n",
    "\n",
    "for i, (feature_x, feature_y) in enumerate(pairs_of_features):\n",
    "    plt.subplot(1, len(pairs_of_features), i + 1)\n",
    "    for cluster in range(5):\n",
    "        cluster_indices = np.where(labels == cluster)[0]\n",
    "        plt.scatter(\n",
    "            normalized_data[cluster_indices, feature_x], \n",
    "            normalized_data[cluster_indices, feature_y], \n",
    "            s=15, \n",
    "            c=colors[cluster], \n",
    "            label=f'Cluster {cluster}'\n",
    "        )\n",
    "    plt.xlabel(f'Feature {feature_x}')\n",
    "    plt.ylabel(f'Feature {feature_y}')\n",
    "    plt.legend()\n",
    "\n",
    "plt.suptitle('Scatter Plots for Different Pairs of Features Colored by Clusters')\n",
    "plt.show()"
   ]
  },
  {
   "cell_type": "markdown",
   "id": "O5t7YabAFPe4",
   "metadata": {
    "id": "O5t7YabAFPe4"
   },
   "source": [
    "**Ответ:** Показывает разделение плохо, потому что у нас разделение строится по всем признакам, а мы смотрим только на пары, нужно использовать методы понижения пространства для лучшего визуального разделения, например t-SNE или PCA"
   ]
  },
  {
   "cell_type": "markdown",
   "id": "ZuPjFHu4GuHK",
   "metadata": {
    "id": "ZuPjFHu4GuHK"
   },
   "source": [
    "Для визуализации данных высокой размерности существует метод t-SNE (стохастическое вложение соседей с t-распределением). Данный метод является нелинейным методом снижения размерности: каждый объект высокой размерности будет моделироваться объектов более низкой (например, 2) размерности таким образом, чтобы похожие объекты моделировались близкими, непохожие - далекими с большой вероятностью.\n",
    "\n",
    "Примените `TSNE` из библиотеки `sklearn` и визуализируйте полученные объекты, покрасив их в цвета их кластеров"
   ]
  },
  {
   "cell_type": "code",
   "execution_count": 27,
   "id": "CVNPXKvcH7uV",
   "metadata": {
    "id": "CVNPXKvcH7uV"
   },
   "outputs": [
    {
     "data": {
      "image/png": "[encoded data removed]",
      "text/plain": [
       "<Figure size 1000x700 with 1 Axes>"
      ]
     },
     "metadata": {},
     "output_type": "display_data"
    }
   ],
   "source": [
    "from sklearn.manifold import TSNE\n",
    "\n",
    "tsne = TSNE(n_components=2, random_state=42)\n",
    "tsne_results = tsne.fit_transform(normalized_data)\n",
    "\n",
    "plt.figure(figsize=(10, 7))\n",
    "\n",
    "for cluster in range(5):\n",
    "    cluster_indices = np.where(labels == cluster)[0]\n",
    "    plt.scatter(\n",
    "        tsne_results[cluster_indices, 0], \n",
    "        tsne_results[cluster_indices, 1], \n",
    "        s=15, \n",
    "        label=f'Cluster {cluster}'\n",
    "    )\n",
    "\n",
    "plt.title('visualization of clusters')\n",
    "plt.xlabel('component 1')\n",
    "plt.ylabel('component 2')\n",
    "plt.legend()\n",
    "plt.show()"
   ]
  },
  {
   "cell_type": "markdown",
   "id": "Mi1frYgFJCrT",
   "metadata": {
    "id": "Mi1frYgFJCrT"
   },
   "source": [
    "## Задание 7 (1 балл) Подбор гиперпараметров"
   ]
  },
  {
   "cell_type": "markdown",
   "id": "7UKDZt-bAokD",
   "metadata": {
    "id": "7UKDZt-bAokD"
   },
   "source": [
    "Подберите оптимальное количество кластеров (максимум 100 кластеров) с использованием индекса Силуэта. Зафиксируйте `random_state=42`"
   ]
  },
  {
   "cell_type": "code",
   "execution_count": 28,
   "id": "S4CxV_XJAy0A",
   "metadata": {
    "id": "S4CxV_XJAy0A"
   },
   "outputs": [
    {
     "name": "stdout",
     "output_type": "stream",
     "text": [
      "Number of clusters: 2, Silhouette Score: 0.004435467122570446\n",
      "Number of clusters: 3, Silhouette Score: 0.005315820445524468\n",
      "Number of clusters: 4, Silhouette Score: 0.006557296738510863\n",
      "Number of clusters: 5, Silhouette Score: 0.006837938191539541\n",
      "Number of clusters: 6, Silhouette Score: 0.007482359393187096\n",
      "Number of clusters: 7, Silhouette Score: 0.007912084817600716\n",
      "Number of clusters: 8, Silhouette Score: 0.00699610257418764\n",
      "Number of clusters: 9, Silhouette Score: 0.00692453596232229\n",
      "Optimal number of clusters: 7\n"
     ]
    },
    {
     "data": {
      "image/png": "[encoded data removed]",
      "text/plain": [
       "<Figure size 1000x600 with 1 Axes>"
      ]
     },
     "metadata": {},
     "output_type": "display_data"
    }
   ],
   "source": [
    "from sklearn.metrics import silhouette_score\n",
    "\n",
    "cluster_range = range(2, 10)\n",
    "silhouette_scores = []\n",
    "\n",
    "for n_clusters in cluster_range:\n",
    "    kmeans = KMeans(n_clusters=n_clusters, random_state=42)\n",
    "    cluster_labels = kmeans.fit_predict(normalized_data)\n",
    "    silhouette_avg = silhouette_score(normalized_data, cluster_labels)\n",
    "    silhouette_scores.append(silhouette_avg)\n",
    "    print(f\"Number of clusters: {n_clusters}, Silhouette Score: {silhouette_avg}\")\n",
    "\n",
    "optimal_clusters = cluster_range[np.argmax(silhouette_scores)]\n",
    "print(f\"Optimal number of clusters: {optimal_clusters}\")\n",
    "\n",
    "plt.figure(figsize=(10, 6))\n",
    "plt.plot(cluster_range, silhouette_scores, marker='o')\n",
    "plt.xlabel('Number of Clusters')\n",
    "plt.ylabel('Silhouette Score')\n",
    "plt.title('Silhouette Score for Different Number of Clusters')\n",
    "plt.axvline(optimal_clusters, color='red', linestyle='--')\n",
    "plt.show()"
   ]
  },
  {
   "cell_type": "markdown",
   "id": "J81KdOFtJORV",
   "metadata": {
    "id": "J81KdOFtJORV"
   },
   "source": [
    "Выведите исполнителей, ближайших с центроидам (аналогично заданию 5). Как соотносятся результаты? Остался ли смысл кластеров прежним? Расскажите про смысл 1-2 интересных кластеров, если он изменился и кластеров слишком много, чтобы рассказать про все."
   ]
  },
  {
   "cell_type": "code",
   "execution_count": 29,
   "id": "HMY-058kBqO0",
   "metadata": {
    "id": "HMY-058kBqO0"
   },
   "outputs": [],
   "source": [
    "kmeans = KMeans(n_clusters=optimal_clusters, random_state=42)\n",
    "kmeans.fit(normalized_data)\n",
    "labels = kmeans.labels_\n",
    "centroids = kmeans.cluster_centers_"
   ]
  },
  {
   "cell_type": "code",
   "execution_count": 30,
   "id": "e1cf6c0a-9607-47ca-b515-f536c94ca77b",
   "metadata": {},
   "outputs": [
    {
     "name": "stdout",
     "output_type": "stream",
     "text": [
      "Cluster 1:\n",
      " - nas\n",
      " - jay-z\n",
      " - kanye west\n",
      " - a tribe called quest\n",
      " - lupe the gorilla\n",
      " - the roots featuring d'angelo\n",
      " - mos def\n",
      " - little brother\n",
      " - gangstarr\n",
      " - talib kweli\n",
      "\n",
      "Cluster 2:\n",
      " - the killers\n",
      " - radiohead\n",
      " - coldplay\n",
      " - white stripes\n",
      " - deathcab for cutie\n",
      " - red hot clili peppers\n",
      " - foo fighters\n",
      " - beck\n",
      " - the arctic monkeys\n",
      " - franz ferdinand\n",
      "\n",
      "Cluster 3:\n",
      " - descendents\n",
      " - against me!\n",
      " - rancid\n",
      " - alkaline trio\n",
      " - the ramones\n",
      " - less than jake\n",
      " - the lawrence arms\n",
      " - jawbreaker\n",
      " - big d and the kids table\n",
      " - streetlight manifesto\n",
      "\n",
      "Cluster 4:\n",
      " - metallica\n",
      " - koЯn\n",
      " - iron maiden\n",
      " - system of a down\n",
      " - mudvayne\n",
      " - as i lay dying\n",
      " - slayer\n",
      " - megadeth\n",
      " - pantera\n",
      " - killswitch engage\n",
      "\n",
      "Cluster 5:\n",
      " - fall out boy\n",
      " - paramore\n",
      " - dashboard confesssional\n",
      " - cartel\n",
      " - the all-americian rejects\n",
      " - somethings corporate\n",
      " - the academy is...\n",
      " - the fray\n",
      " - anberlin\n",
      " - taking back sunday\n",
      "\n",
      "Cluster 6:\n",
      " - animal collective\n",
      " - broken social scene\n",
      " - radiohead\n",
      " - the arcade fire\n",
      " - sufjan stevens\n",
      " - belle and sebastian\n",
      " - beirut\n",
      " - of montreal\n",
      " - the shins\n",
      " - andrew bird\n",
      "\n",
      "Cluster 7:\n",
      " - the beatles\n",
      " - the rolling stones\n",
      " - dylan. bob\n",
      " - who\n",
      " - led zeppelin.\n",
      " - velvet underground\n",
      " - young, neil\n",
      " - simon and garfunkel\n",
      " - pink fluid\n",
      " - divid bowie\n",
      "\n"
     ]
    }
   ],
   "source": [
    "def find_closest_artists(centroids, data, n=10):\n",
    "    closest_artists = []\n",
    "    for centroid in centroids:\n",
    "        distances = []\n",
    "        for i in range(data.shape[0]):\n",
    "            distance = cosine(centroid, data[i])\n",
    "            distances.append((i, distance))\n",
    "        distances.sort(key=lambda x: x[1])\n",
    "        closest_artists.append(distances[:n])\n",
    "    return closest_artists\n",
    "\n",
    "closest_artists_indices = find_closest_artists(centroids, normalized_data)\n",
    "\n",
    "for cluster_idx, artists in enumerate(closest_artists_indices):\n",
    "    print(f\"Cluster {cluster_idx + 1}:\")\n",
    "    for artist_idx, _ in artists:\n",
    "        print(f\" - {transposed_ratings.index[artist_idx]}\")\n",
    "    print()"
   ]
  },
  {
   "cell_type": "markdown",
   "id": "LeWEK2QsJkiX",
   "metadata": {
    "id": "LeWEK2QsJkiX"
   },
   "source": [
    "**Ответ:** Как будто смысл кластеров остался прежний, но более узконаправленный, например, в кластере 7 более классический рок, а в кластере 4 больше металл, раньше они были вместе. "
   ]
  },
  {
   "cell_type": "markdown",
   "id": "YluT0kiGPe4j",
   "metadata": {
    "id": "YluT0kiGPe4j"
   },
   "source": [
    "Сделайте t-SNE визуализацию полученной кластеризации."
   ]
  },
  {
   "cell_type": "code",
   "execution_count": 31,
   "id": "00rY7Z6XPfPa",
   "metadata": {
    "id": "00rY7Z6XPfPa"
   },
   "outputs": [
    {
     "data": {
      "image/png": "[encoded data removed]",
      "text/plain": [
       "<Figure size 1200x800 with 2 Axes>"
      ]
     },
     "metadata": {},
     "output_type": "display_data"
    }
   ],
   "source": [
    "tsne = TSNE(n_components=2, random_state=42)\n",
    "tsne_results = tsne.fit_transform(normalized_data)\n",
    "\n",
    "plt.figure(figsize=(12, 8))\n",
    "plt.scatter(tsne_results[:, 0], tsne_results[:, 1], c=labels, cmap='viridis', s=15)\n",
    "plt.colorbar(label='Cluster')\n",
    "plt.xlabel('Component 1')\n",
    "plt.ylabel('Component 2')\n",
    "plt.title('Visualization of Clusters')\n",
    "plt.show()"
   ]
  },
  {
   "cell_type": "markdown",
   "id": "Eo8H1sNqQqiF",
   "metadata": {
    "id": "Eo8H1sNqQqiF"
   },
   "source": [
    "Если кластеров получилось слишком много и визуально цвета плохо отличаются, покрасьте только какой-нибудь интересный кластер из задания выше (`c = (labels == i)`). Хорошо ли этот кластер отражается в визуализации?"
   ]
  },
  {
   "cell_type": "markdown",
   "id": "SHxur6z7Q0fu",
   "metadata": {
    "id": "SHxur6z7Q0fu"
   },
   "source": [
    "**Ответ:** Можно снова посмотреть на 7, тут он 6, кластер, и на 4, здесь он 3, они находятся близко друг к другу, на первой визуализации t-SNE они были соединены вместе, так как это рок, однако здесь разбились на поджанры"
   ]
  }
 ],
 "metadata": {
  "colab": {
   "provenance": []
  },
  "kernelspec": {
   "display_name": "Python 3 (ipykernel)",
   "language": "python",
   "name": "python3"
  },
  "language_info": {
   "codemirror_mode": {
    "name": "ipython",
    "version": 3
   },
   "file_extension": ".py",
   "mimetype": "text/x-python",
   "name": "python",
   "nbconvert_exporter": "python",
   "pygments_lexer": "ipython3",
   "version": "3.11.7"
  }
 },
 "nbformat": 4,
 "nbformat_minor": 5
}
