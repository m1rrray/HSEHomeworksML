{
  "cells": [
    {
      "cell_type": "markdown",
      "metadata": {
        "id": "Ffq6A2-ifzAA"
      },
      "source": [
        "# Интеллектуальный анализ данных – весна 2024\n",
        "# Домашнее задание 6: классификация текстов"
      ]
    },
    {
      "cell_type": "markdown",
      "metadata": {
        "id": "EPcxtekTA1Sm"
      },
      "source": [
        "Правила:\n",
        "\n",
        "\n",
        "\n",
        "*   Домашнее задание оценивается в 10 баллов.\n",
        "*   Можно использовать без доказательства любые результаты, встречавшиеся на лекциях или семинарах по курсу, если получение этих результатов не является вопросом задания.\n",
        "*  Можно использовать любые свободные источники с *обязательным* указанием ссылки на них.\n",
        "*  Плагиат не допускается. При обнаружении случаев списывания, 0 за работу выставляется всем участникам нарушения, даже если можно установить, кто у кого списал.\n",
        "*  Старайтесь сделать код как можно более оптимальным. В частности, будет штрафоваться использование циклов в тех случаях, когда операцию можно совершить при помощи инструментов библиотек, о которых рассказывалось в курсе."
      ]
    },
    {
      "cell_type": "markdown",
      "metadata": {
        "id": "itRtFtrOf0_b"
      },
      "source": [
        "В этом домашнем задании вам предстоит построить классификатор текстов.\n",
        "\n",
        "Будем предсказывать эмоциональную окраску твиттов о коронавирусе.\n",
        "\n"
      ]
    },
    {
      "cell_type": "code",
      "execution_count": 10,
      "metadata": {
        "id": "tNGRVO7_g9mz"
      },
      "outputs": [],
      "source": [
        "import numpy as np\n",
        "import pandas as pd\n",
        "from typing import  List\n",
        "import matplotlib.pyplot as plt\n",
        "import seaborn as sns\n",
        "from string import punctuation"
      ]
    },
    {
      "cell_type": "code",
      "execution_count": 11,
      "metadata": {
        "id": "MauSUHAC8UNs"
      },
      "outputs": [],
      "source": [
        "import nltk\n",
        "nltk.download(\"stopwords\", quiet=True)\n",
        "nltk.download(\"wordnet\", quiet=True)\n",
        "\n",
        "from nltk.tokenize import TweetTokenizer\n",
        "from nltk.corpus import stopwords\n",
        "from nltk.stem import WordNetLemmatizer\n",
        "\n",
        "import warnings\n",
        "warnings.filterwarnings(\"ignore\")\n",
        "from sklearn.linear_model import LogisticRegression\n",
        "from sklearn.metrics import accuracy_score"
      ]
    },
    {
      "cell_type": "code",
      "execution_count": 12,
      "metadata": {
        "id": "qLiegP3LT6_w"
      },
      "outputs": [],
      "source": [
        "# !wget https://raw.githubusercontent.com/hse-ds/iad-intro-ds/master/2024/homeworks/hw06_texts/tweets_coronavirus.csv"
      ]
    },
    {
      "cell_type": "code",
      "execution_count": 13,
      "metadata": {
        "colab": {
          "base_uri": "https://localhost:8080/",
          "height": 175
        },
        "id": "zOy8iHJQg_Ss",
        "outputId": "6ce424bb-f7ec-4b2c-9068-2b76305eda24"
      },
      "outputs": [
        {
          "output_type": "execute_result",
          "data": {
            "text/plain": [
              "       UserName  ScreenName                     Location     TweetAt  \\\n",
              "21280     29755       74707                          NYC  01-04-2020   \n",
              "16990     24476       69428  North Richland Hills, Texas  25-03-2020   \n",
              "10072     16026       60978                          NaN  21-03-2020   \n",
              "26399     36141       81093            New Brunswick, NJ  07-04-2020   \n",
              "\n",
              "                                           OriginalTweet           Sentiment  \n",
              "21280  Brand response to #coronavirus pandemic vital ...  Extremely Positive  \n",
              "16990  With Americans urged to stay home to slow the ...            Positive  \n",
              "10072  New FTC has more tips on how to protect yourse...            Negative  \n",
              "26399  @francediplo_EN My post examines the impact of...            Positive  "
            ],
            "text/html": [
              "\n",
              "  <div id=\"df-ddeb6a09-404d-4c1e-9a79-32875301e904\" class=\"colab-df-container\">\n",
              "    <div>\n",
              "<style scoped>\n",
              "    .dataframe tbody tr th:only-of-type {\n",
              "        vertical-align: middle;\n",
              "    }\n",
              "\n",
              "    .dataframe tbody tr th {\n",
              "        vertical-align: top;\n",
              "    }\n",
              "\n",
              "    .dataframe thead th {\n",
              "        text-align: right;\n",
              "    }\n",
              "</style>\n",
              "<table border=\"1\" class=\"dataframe\">\n",
              "  <thead>\n",
              "    <tr style=\"text-align: right;\">\n",
              "      <th></th>\n",
              "      <th>UserName</th>\n",
              "      <th>ScreenName</th>\n",
              "      <th>Location</th>\n",
              "      <th>TweetAt</th>\n",
              "      <th>OriginalTweet</th>\n",
              "      <th>Sentiment</th>\n",
              "    </tr>\n",
              "  </thead>\n",
              "  <tbody>\n",
              "    <tr>\n",
              "      <th>21280</th>\n",
              "      <td>29755</td>\n",
              "      <td>74707</td>\n",
              "      <td>NYC</td>\n",
              "      <td>01-04-2020</td>\n",
              "      <td>Brand response to #coronavirus pandemic vital ...</td>\n",
              "      <td>Extremely Positive</td>\n",
              "    </tr>\n",
              "    <tr>\n",
              "      <th>16990</th>\n",
              "      <td>24476</td>\n",
              "      <td>69428</td>\n",
              "      <td>North Richland Hills, Texas</td>\n",
              "      <td>25-03-2020</td>\n",
              "      <td>With Americans urged to stay home to slow the ...</td>\n",
              "      <td>Positive</td>\n",
              "    </tr>\n",
              "    <tr>\n",
              "      <th>10072</th>\n",
              "      <td>16026</td>\n",
              "      <td>60978</td>\n",
              "      <td>NaN</td>\n",
              "      <td>21-03-2020</td>\n",
              "      <td>New FTC has more tips on how to protect yourse...</td>\n",
              "      <td>Negative</td>\n",
              "    </tr>\n",
              "    <tr>\n",
              "      <th>26399</th>\n",
              "      <td>36141</td>\n",
              "      <td>81093</td>\n",
              "      <td>New Brunswick, NJ</td>\n",
              "      <td>07-04-2020</td>\n",
              "      <td>@francediplo_EN My post examines the impact of...</td>\n",
              "      <td>Positive</td>\n",
              "    </tr>\n",
              "  </tbody>\n",
              "</table>\n",
              "</div>\n",
              "    <div class=\"colab-df-buttons\">\n",
              "\n",
              "  <div class=\"colab-df-container\">\n",
              "    <button class=\"colab-df-convert\" onclick=\"convertToInteractive('df-ddeb6a09-404d-4c1e-9a79-32875301e904')\"\n",
              "            title=\"Convert this dataframe to an interactive table.\"\n",
              "            style=\"display:none;\">\n",
              "\n",
              "  <svg xmlns=\"http://www.w3.org/2000/svg\" height=\"24px\" viewBox=\"0 -960 960 960\">\n",
              "    <path d=\"M120-120v-720h720v720H120Zm60-500h600v-160H180v160Zm220 220h160v-160H400v160Zm0 220h160v-160H400v160ZM180-400h160v-160H180v160Zm440 0h160v-160H620v160ZM180-180h160v-160H180v160Zm440 0h160v-160H620v160Z\"/>\n",
              "  </svg>\n",
              "    </button>\n",
              "\n",
              "  <style>\n",
              "    .colab-df-container {\n",
              "      display:flex;\n",
              "      gap: 12px;\n",
              "    }\n",
              "\n",
              "    .colab-df-convert {\n",
              "      background-color: #E8F0FE;\n",
              "      border: none;\n",
              "      border-radius: 50%;\n",
              "      cursor: pointer;\n",
              "      display: none;\n",
              "      fill: #1967D2;\n",
              "      height: 32px;\n",
              "      padding: 0 0 0 0;\n",
              "      width: 32px;\n",
              "    }\n",
              "\n",
              "    .colab-df-convert:hover {\n",
              "      background-color: #E2EBFA;\n",
              "      box-shadow: 0px 1px 2px rgba(60, 64, 67, 0.3), 0px 1px 3px 1px rgba(60, 64, 67, 0.15);\n",
              "      fill: #174EA6;\n",
              "    }\n",
              "\n",
              "    .colab-df-buttons div {\n",
              "      margin-bottom: 4px;\n",
              "    }\n",
              "\n",
              "    [theme=dark] .colab-df-convert {\n",
              "      background-color: #3B4455;\n",
              "      fill: #D2E3FC;\n",
              "    }\n",
              "\n",
              "    [theme=dark] .colab-df-convert:hover {\n",
              "      background-color: #434B5C;\n",
              "      box-shadow: 0px 1px 3px 1px rgba(0, 0, 0, 0.15);\n",
              "      filter: drop-shadow(0px 1px 2px rgba(0, 0, 0, 0.3));\n",
              "      fill: #FFFFFF;\n",
              "    }\n",
              "  </style>\n",
              "\n",
              "    <script>\n",
              "      const buttonEl =\n",
              "        document.querySelector('#df-ddeb6a09-404d-4c1e-9a79-32875301e904 button.colab-df-convert');\n",
              "      buttonEl.style.display =\n",
              "        google.colab.kernel.accessAllowed ? 'block' : 'none';\n",
              "\n",
              "      async function convertToInteractive(key) {\n",
              "        const element = document.querySelector('#df-ddeb6a09-404d-4c1e-9a79-32875301e904');\n",
              "        const dataTable =\n",
              "          await google.colab.kernel.invokeFunction('convertToInteractive',\n",
              "                                                    [key], {});\n",
              "        if (!dataTable) return;\n",
              "\n",
              "        const docLinkHtml = 'Like what you see? Visit the ' +\n",
              "          '<a target=\"_blank\" href=https://colab.research.google.com/notebooks/data_table.ipynb>data table notebook</a>'\n",
              "          + ' to learn more about interactive tables.';\n",
              "        element.innerHTML = '';\n",
              "        dataTable['output_type'] = 'display_data';\n",
              "        await google.colab.output.renderOutput(dataTable, element);\n",
              "        const docLink = document.createElement('div');\n",
              "        docLink.innerHTML = docLinkHtml;\n",
              "        element.appendChild(docLink);\n",
              "      }\n",
              "    </script>\n",
              "  </div>\n",
              "\n",
              "\n",
              "<div id=\"df-01391181-bfa3-40b9-bda2-06d02507753d\">\n",
              "  <button class=\"colab-df-quickchart\" onclick=\"quickchart('df-01391181-bfa3-40b9-bda2-06d02507753d')\"\n",
              "            title=\"Suggest charts\"\n",
              "            style=\"display:none;\">\n",
              "\n",
              "<svg xmlns=\"http://www.w3.org/2000/svg\" height=\"24px\"viewBox=\"0 0 24 24\"\n",
              "     width=\"24px\">\n",
              "    <g>\n",
              "        <path d=\"M19 3H5c-1.1 0-2 .9-2 2v14c0 1.1.9 2 2 2h14c1.1 0 2-.9 2-2V5c0-1.1-.9-2-2-2zM9 17H7v-7h2v7zm4 0h-2V7h2v10zm4 0h-2v-4h2v4z\"/>\n",
              "    </g>\n",
              "</svg>\n",
              "  </button>\n",
              "\n",
              "<style>\n",
              "  .colab-df-quickchart {\n",
              "      --bg-color: #E8F0FE;\n",
              "      --fill-color: #1967D2;\n",
              "      --hover-bg-color: #E2EBFA;\n",
              "      --hover-fill-color: #174EA6;\n",
              "      --disabled-fill-color: #AAA;\n",
              "      --disabled-bg-color: #DDD;\n",
              "  }\n",
              "\n",
              "  [theme=dark] .colab-df-quickchart {\n",
              "      --bg-color: #3B4455;\n",
              "      --fill-color: #D2E3FC;\n",
              "      --hover-bg-color: #434B5C;\n",
              "      --hover-fill-color: #FFFFFF;\n",
              "      --disabled-bg-color: #3B4455;\n",
              "      --disabled-fill-color: #666;\n",
              "  }\n",
              "\n",
              "  .colab-df-quickchart {\n",
              "    background-color: var(--bg-color);\n",
              "    border: none;\n",
              "    border-radius: 50%;\n",
              "    cursor: pointer;\n",
              "    display: none;\n",
              "    fill: var(--fill-color);\n",
              "    height: 32px;\n",
              "    padding: 0;\n",
              "    width: 32px;\n",
              "  }\n",
              "\n",
              "  .colab-df-quickchart:hover {\n",
              "    background-color: var(--hover-bg-color);\n",
              "    box-shadow: 0 1px 2px rgba(60, 64, 67, 0.3), 0 1px 3px 1px rgba(60, 64, 67, 0.15);\n",
              "    fill: var(--button-hover-fill-color);\n",
              "  }\n",
              "\n",
              "  .colab-df-quickchart-complete:disabled,\n",
              "  .colab-df-quickchart-complete:disabled:hover {\n",
              "    background-color: var(--disabled-bg-color);\n",
              "    fill: var(--disabled-fill-color);\n",
              "    box-shadow: none;\n",
              "  }\n",
              "\n",
              "  .colab-df-spinner {\n",
              "    border: 2px solid var(--fill-color);\n",
              "    border-color: transparent;\n",
              "    border-bottom-color: var(--fill-color);\n",
              "    animation:\n",
              "      spin 1s steps(1) infinite;\n",
              "  }\n",
              "\n",
              "  @keyframes spin {\n",
              "    0% {\n",
              "      border-color: transparent;\n",
              "      border-bottom-color: var(--fill-color);\n",
              "      border-left-color: var(--fill-color);\n",
              "    }\n",
              "    20% {\n",
              "      border-color: transparent;\n",
              "      border-left-color: var(--fill-color);\n",
              "      border-top-color: var(--fill-color);\n",
              "    }\n",
              "    30% {\n",
              "      border-color: transparent;\n",
              "      border-left-color: var(--fill-color);\n",
              "      border-top-color: var(--fill-color);\n",
              "      border-right-color: var(--fill-color);\n",
              "    }\n",
              "    40% {\n",
              "      border-color: transparent;\n",
              "      border-right-color: var(--fill-color);\n",
              "      border-top-color: var(--fill-color);\n",
              "    }\n",
              "    60% {\n",
              "      border-color: transparent;\n",
              "      border-right-color: var(--fill-color);\n",
              "    }\n",
              "    80% {\n",
              "      border-color: transparent;\n",
              "      border-right-color: var(--fill-color);\n",
              "      border-bottom-color: var(--fill-color);\n",
              "    }\n",
              "    90% {\n",
              "      border-color: transparent;\n",
              "      border-bottom-color: var(--fill-color);\n",
              "    }\n",
              "  }\n",
              "</style>\n",
              "\n",
              "  <script>\n",
              "    async function quickchart(key) {\n",
              "      const quickchartButtonEl =\n",
              "        document.querySelector('#' + key + ' button');\n",
              "      quickchartButtonEl.disabled = true;  // To prevent multiple clicks.\n",
              "      quickchartButtonEl.classList.add('colab-df-spinner');\n",
              "      try {\n",
              "        const charts = await google.colab.kernel.invokeFunction(\n",
              "            'suggestCharts', [key], {});\n",
              "      } catch (error) {\n",
              "        console.error('Error during call to suggestCharts:', error);\n",
              "      }\n",
              "      quickchartButtonEl.classList.remove('colab-df-spinner');\n",
              "      quickchartButtonEl.classList.add('colab-df-quickchart-complete');\n",
              "    }\n",
              "    (() => {\n",
              "      let quickchartButtonEl =\n",
              "        document.querySelector('#df-01391181-bfa3-40b9-bda2-06d02507753d button');\n",
              "      quickchartButtonEl.style.display =\n",
              "        google.colab.kernel.accessAllowed ? 'block' : 'none';\n",
              "    })();\n",
              "  </script>\n",
              "</div>\n",
              "    </div>\n",
              "  </div>\n"
            ],
            "application/vnd.google.colaboratory.intrinsic+json": {
              "type": "dataframe",
              "summary": "{\n  \"name\": \"df\",\n  \"rows\": 4,\n  \"fields\": [\n    {\n      \"column\": \"UserName\",\n      \"properties\": {\n        \"dtype\": \"number\",\n        \"std\": 8510,\n        \"min\": 16026,\n        \"max\": 36141,\n        \"num_unique_values\": 4,\n        \"samples\": [\n          24476,\n          36141,\n          29755\n        ],\n        \"semantic_type\": \"\",\n        \"description\": \"\"\n      }\n    },\n    {\n      \"column\": \"ScreenName\",\n      \"properties\": {\n        \"dtype\": \"number\",\n        \"std\": 8510,\n        \"min\": 60978,\n        \"max\": 81093,\n        \"num_unique_values\": 4,\n        \"samples\": [\n          69428,\n          81093,\n          74707\n        ],\n        \"semantic_type\": \"\",\n        \"description\": \"\"\n      }\n    },\n    {\n      \"column\": \"Location\",\n      \"properties\": {\n        \"dtype\": \"string\",\n        \"num_unique_values\": 3,\n        \"samples\": [\n          \"NYC\",\n          \"North Richland Hills, Texas\",\n          \"New Brunswick, NJ\"\n        ],\n        \"semantic_type\": \"\",\n        \"description\": \"\"\n      }\n    },\n    {\n      \"column\": \"TweetAt\",\n      \"properties\": {\n        \"dtype\": \"string\",\n        \"num_unique_values\": 4,\n        \"samples\": [\n          \"25-03-2020\",\n          \"07-04-2020\",\n          \"01-04-2020\"\n        ],\n        \"semantic_type\": \"\",\n        \"description\": \"\"\n      }\n    },\n    {\n      \"column\": \"OriginalTweet\",\n      \"properties\": {\n        \"dtype\": \"string\",\n        \"num_unique_values\": 4,\n        \"samples\": [\n          \"With Americans urged to stay home to slow the spread of COVID-19, \\\"we are seeing less traffic on the roadways, which will ultimately drive down demand, increase gasoline supply and push pump prices less expensive for the foreseeable future.\\u00c3\\u0082\\u00c2\\u0094\\r\\r\\nTAKE A LOOK: https://t.co/DAmbFrifFc\",\n          \"@francediplo_EN My post examines the impact of corrupt governance, Covid-19 pandemic &amp; collapse of global oil prices on Iraq &amp; the ability of Iran's proxy militias 2 suppress the powerful youth-led October Revolution for social democratic change i\",\n          \"Brand response to #coronavirus pandemic vital for consumer trust according to @EdelmanPR. Via @Adweek \\r\\r\\n\\r\\r\\n#marketing #brand https://t.co/jPtMW4UNeT\"\n        ],\n        \"semantic_type\": \"\",\n        \"description\": \"\"\n      }\n    },\n    {\n      \"column\": \"Sentiment\",\n      \"properties\": {\n        \"dtype\": \"string\",\n        \"num_unique_values\": 3,\n        \"samples\": [\n          \"Extremely Positive\",\n          \"Positive\",\n          \"Negative\"\n        ],\n        \"semantic_type\": \"\",\n        \"description\": \"\"\n      }\n    }\n  ]\n}"
            }
          },
          "metadata": {},
          "execution_count": 13
        }
      ],
      "source": [
        "df = pd.read_csv('/content/tweets_coronavirus.csv', encoding='latin-1')\n",
        "df.sample(4)"
      ]
    },
    {
      "cell_type": "markdown",
      "metadata": {
        "id": "m2OiDog9ZBlS"
      },
      "source": [
        "Для каждого твитта указано:\n",
        "\n",
        "\n",
        "*   UserName - имя пользователя, заменено на целое число для анонимности\n",
        "*   ScreenName - отображающееся имя пользователя, заменено на целое число для анонимности\n",
        "*   Location - местоположение\n",
        "*   TweetAt - дата создания твитта\n",
        "*   OriginalTweet - текст твитта\n",
        "*   Sentiment - эмоциональная окраска твитта (целевая переменная)\n",
        "\n"
      ]
    },
    {
      "cell_type": "markdown",
      "metadata": {
        "id": "pZTMseDkhTC7"
      },
      "source": [
        "## Задание 1 Подготовка (0.5 балла)"
      ]
    },
    {
      "cell_type": "markdown",
      "metadata": {
        "id": "Xx2-odn9hdAW"
      },
      "source": [
        "Целевая переменная находится в колонке `Sentiment`.  Преобразуйте ее таким образом, чтобы она стала бинарной: 1 - если у твитта положительная эмоциональная окраска и 0 - если отрицательная."
      ]
    },
    {
      "cell_type": "code",
      "execution_count": 14,
      "metadata": {
        "colab": {
          "base_uri": "https://localhost:8080/"
        },
        "id": "ZaQKQ1zEjP15",
        "outputId": "dea976ca-1f08-4e80-ac0a-e0b270e6c2dc"
      },
      "outputs": [
        {
          "output_type": "execute_result",
          "data": {
            "text/plain": [
              "0        1\n",
              "1        1\n",
              "2        1\n",
              "3        0\n",
              "4        1\n",
              "        ..\n",
              "33439    1\n",
              "33440    1\n",
              "33441    0\n",
              "33442    1\n",
              "33443    0\n",
              "Name: Sentiment, Length: 33444, dtype: int64"
            ]
          },
          "metadata": {},
          "execution_count": 14
        }
      ],
      "source": [
        "df[\"Sentiment\"] = df[\"Sentiment\"].isin(['Positive', 'Extremely Positive']).astype(int)\n",
        "df[\"Sentiment\"]"
      ]
    },
    {
      "cell_type": "markdown",
      "metadata": {
        "id": "pGq1FxJ-kBo5"
      },
      "source": [
        "Сбалансированы ли классы?"
      ]
    },
    {
      "cell_type": "code",
      "execution_count": 15,
      "metadata": {
        "colab": {
          "base_uri": "https://localhost:8080/"
        },
        "id": "a7gdNtxckK5V",
        "outputId": "a1b16c88-fac9-435e-dfe9-50f5902ba60d"
      },
      "outputs": [
        {
          "output_type": "execute_result",
          "data": {
            "text/plain": [
              "Sentiment\n",
              "1    18046\n",
              "0    15398\n",
              "Name: count, dtype: int64"
            ]
          },
          "metadata": {},
          "execution_count": 15
        }
      ],
      "source": [
        "df[\"Sentiment\"].value_counts()"
      ]
    },
    {
      "cell_type": "markdown",
      "metadata": {
        "id": "Ng8BCelMkWb0"
      },
      "source": [
        "**Ответ:** Можно сказать да, скорее всего все будет хорошо"
      ]
    },
    {
      "cell_type": "markdown",
      "metadata": {
        "id": "qmSIBSsLk5Zz"
      },
      "source": [
        "Выведете на экран информацию о пропусках в данных. Если пропуски присутствуют заполните их строкой 'Unknown'."
      ]
    },
    {
      "cell_type": "code",
      "execution_count": 16,
      "metadata": {
        "colab": {
          "base_uri": "https://localhost:8080/"
        },
        "id": "UhUVRkR5kxa7",
        "outputId": "761c31cf-7880-4cc5-c776-4ee9738f35d0"
      },
      "outputs": [
        {
          "output_type": "execute_result",
          "data": {
            "text/plain": [
              "UserName            0\n",
              "ScreenName          0\n",
              "Location         7049\n",
              "TweetAt             0\n",
              "OriginalTweet       0\n",
              "Sentiment           0\n",
              "dtype: int64"
            ]
          },
          "metadata": {},
          "execution_count": 16
        }
      ],
      "source": [
        "df.isna().sum()"
      ]
    },
    {
      "cell_type": "code",
      "execution_count": 17,
      "metadata": {
        "id": "Na3b_Y31cBDc"
      },
      "outputs": [],
      "source": [
        "df['Location'] = df['Location'].fillna(\"Unknown\")"
      ]
    },
    {
      "cell_type": "markdown",
      "metadata": {
        "id": "1tzt27tfjUpq"
      },
      "source": [
        "Разделите данные на обучающие и тестовые в соотношении 7 : 3 и `random_state=0`"
      ]
    },
    {
      "cell_type": "code",
      "execution_count": 18,
      "metadata": {
        "id": "xSLOA9tIj9Z6"
      },
      "outputs": [],
      "source": [
        "from sklearn.model_selection import train_test_split\n",
        "\n",
        "train, test = train_test_split(df, test_size=0.3, random_state=0)"
      ]
    },
    {
      "cell_type": "markdown",
      "metadata": {
        "id": "J9RrPUsJlL60"
      },
      "source": [
        "## Задание 2 Токенизация (3 балла)"
      ]
    },
    {
      "cell_type": "markdown",
      "metadata": {
        "id": "2Dz_b7Xopc_R"
      },
      "source": [
        "Постройте словарь на основе обучающей выборки и посчитайте количество встреч каждого токена с использованием самой простой токенизации - деления текстов по пробельным символам и приведение токенов в нижний регистр"
      ]
    },
    {
      "cell_type": "code",
      "execution_count": 19,
      "metadata": {
        "id": "SFr67WOJphny"
      },
      "outputs": [],
      "source": [
        "from collections import Counter\n",
        "naive_token_cnt = Counter()\n",
        "\n",
        "for text in train[\"OriginalTweet\"]:\n",
        "  tokens = text.lower().split()\n",
        "  naive_token_cnt.update(tokens)\n",
        "\n",
        "token_dict = sorted(naive_token_cnt.items(), reverse=True, key=lambda x: x[1])"
      ]
    },
    {
      "cell_type": "markdown",
      "metadata": {
        "id": "Pe0h2Jqkpnao"
      },
      "source": [
        "Какой размер словаря получился?"
      ]
    },
    {
      "cell_type": "code",
      "execution_count": 20,
      "metadata": {
        "colab": {
          "base_uri": "https://localhost:8080/"
        },
        "id": "umyENA7EpokD",
        "outputId": "a8ad705f-6e2c-47d0-e777-5e3f10b8550e"
      },
      "outputs": [
        {
          "output_type": "execute_result",
          "data": {
            "text/plain": [
              "79755"
            ]
          },
          "metadata": {},
          "execution_count": 20
        }
      ],
      "source": [
        "len(token_dict)"
      ]
    },
    {
      "cell_type": "markdown",
      "metadata": {
        "id": "0d2G1Z-Qpqkd"
      },
      "source": [
        "Выведите 10 самых популярных токенов с количеством встреч каждого из них. Объясните, почему именно эти токены в топе"
      ]
    },
    {
      "cell_type": "code",
      "execution_count": 21,
      "metadata": {
        "colab": {
          "base_uri": "https://localhost:8080/"
        },
        "id": "Impi32a_pssg",
        "outputId": "fc04e8b5-2a58-4686-f68d-165ad270c628"
      },
      "outputs": [
        {
          "output_type": "execute_result",
          "data": {
            "text/plain": [
              "[('the', 26815),\n",
              " ('to', 23373),\n",
              " ('and', 14684),\n",
              " ('of', 13012),\n",
              " ('a', 11737),\n",
              " ('in', 11198),\n",
              " ('for', 8566),\n",
              " ('#coronavirus', 8223),\n",
              " ('is', 7383),\n",
              " ('are', 7050)]"
            ]
          },
          "metadata": {},
          "execution_count": 21
        }
      ],
      "source": [
        "token_dict[:10]"
      ]
    },
    {
      "cell_type": "markdown",
      "metadata": {
        "id": "ZtuJCD0ApuFd"
      },
      "source": [
        "**Ответ:** В основном просто слова связки, которые есть в каждом предложении, из имеющих смысл слов только хэштег coronavirus"
      ]
    },
    {
      "cell_type": "markdown",
      "metadata": {
        "id": "T7DTQDkWsVYp"
      },
      "source": [
        "Удалите стоп-слова из словаря и выведите новый топ-10 токенов (и количество встреч) по популярности.  Что можно сказать  о нем?"
      ]
    },
    {
      "cell_type": "code",
      "execution_count": 22,
      "metadata": {
        "colab": {
          "base_uri": "https://localhost:8080/"
        },
        "id": "8csSAdgTsnFx",
        "outputId": "ec2b6194-7db8-4478-b5cb-cfaace25f66f"
      },
      "outputs": [
        {
          "output_type": "execute_result",
          "data": {
            "text/plain": [
              "[('#coronavirus', 8223),\n",
              " ('prices', 3891),\n",
              " ('food', 3820),\n",
              " ('grocery', 3469),\n",
              " ('supermarket', 3288),\n",
              " ('people', 3175),\n",
              " ('covid-19', 3173),\n",
              " ('store', 3155),\n",
              " ('#covid19', 2471),\n",
              " ('&amp;', 2314)]"
            ]
          },
          "metadata": {},
          "execution_count": 22
        }
      ],
      "source": [
        "import nltk\n",
        "nltk.download(\"stopwords\", quiet=True)\n",
        "from nltk.corpus import stopwords\n",
        "\n",
        "\n",
        "token_dict = [(token, count) for token, count in token_dict if token not in stopwords.words(\"english\")]\n",
        "\n",
        "token_dict[:10]"
      ]
    },
    {
      "cell_type": "markdown",
      "metadata": {
        "id": "LZH0x2Lzs-Dh"
      },
      "source": [
        "**Ответ:**  Теперь видно, что слова несут смысл(кроме &amp). В топе были твиты о коронавирусе, о магазинах и ценах в них."
      ]
    },
    {
      "cell_type": "markdown",
      "metadata": {
        "id": "TKSGRyI-uor0"
      },
      "source": [
        "Также выведите 20 самых непопулярных слов (если самых непопулярных слов больше выведите любые 20 из них) Почему эти токены непопулярны, требуется ли как-то дополнительно работать с ними?"
      ]
    },
    {
      "cell_type": "code",
      "execution_count": 23,
      "metadata": {
        "colab": {
          "base_uri": "https://localhost:8080/"
        },
        "id": "moArbwfvun9t",
        "outputId": "fe7c338f-071c-48a9-cffe-db6bc72d47da"
      },
      "outputs": [
        {
          "output_type": "execute_result",
          "data": {
            "text/plain": [
              "[('non-playing', 1),\n",
              " ('subsidise', 1),\n",
              " ('playersã\\x82â\\x92', 1),\n",
              " ('renewing', 1),\n",
              " ('wage!', 1),\n",
              " ('flew', 1),\n",
              " ('nothing...', 1),\n",
              " ('@torontopearson', 1),\n",
              " ('@680news', 1),\n",
              " ('https://t.co/7j2y3rsld9', 1)]"
            ]
          },
          "metadata": {},
          "execution_count": 23
        }
      ],
      "source": [
        "token_dict[-10:]"
      ]
    },
    {
      "cell_type": "markdown",
      "metadata": {
        "id": "uRp3J1gQunlR"
      },
      "source": [
        "**Ответ:** Да, требуется, так как они не отформатированы, есть знаки препинания, другие необычные символы(ã\\x82â\\x92), ссылки\n",
        "\n"
      ]
    },
    {
      "cell_type": "markdown",
      "metadata": {
        "id": "wx9LQOSPzvjV"
      },
      "source": [
        "Теперь воспользуемся токенайзером получше - TweetTokenizer из библиотеки nltk. Примените его и посмотрите на топ-10 популярных слов. Чем он отличается от топа, который получался раньше? Почему?"
      ]
    },
    {
      "cell_type": "code",
      "execution_count": 24,
      "metadata": {
        "id": "2G1UkyVxzvFY"
      },
      "outputs": [],
      "source": [
        "from nltk.tokenize import TweetTokenizer\n",
        "\n",
        "tw = TweetTokenizer()\n",
        "token_counter = Counter()\n",
        "\n",
        "for text in train[\"OriginalTweet\"]:\n",
        "  tokens = tw.tokenize(text.lower())\n",
        "  token_counter.update(tokens)\n",
        "\n",
        "token_dict = sorted(token_counter.items(), reverse=True, key=lambda x: x[1])"
      ]
    },
    {
      "cell_type": "code",
      "execution_count": 25,
      "metadata": {
        "colab": {
          "base_uri": "https://localhost:8080/"
        },
        "id": "vbNJiolEn88J",
        "outputId": "aac2c1c7-1ef3-4c55-a742-e0d254a04063"
      },
      "outputs": [
        {
          "output_type": "execute_result",
          "data": {
            "text/plain": [
              "[('the', 26993),\n",
              " ('.', 24118),\n",
              " ('to', 23478),\n",
              " (',', 17571),\n",
              " ('and', 14825),\n",
              " ('of', 13044),\n",
              " ('a', 11891),\n",
              " ('in', 11348),\n",
              " ('?', 9524),\n",
              " ('#coronavirus', 8808)]"
            ]
          },
          "metadata": {},
          "execution_count": 25
        }
      ],
      "source": [
        "token_dict[:10]"
      ]
    },
    {
      "cell_type": "markdown",
      "metadata": {
        "id": "50eVUnJN1Zxl"
      },
      "source": [
        "**Ответ:** TweetTokenizer лучше выделяет знаки пунктуации, раньше они относились к слову, так как они не были отделены пробелом."
      ]
    },
    {
      "cell_type": "markdown",
      "metadata": {
        "id": "1gqQgiMs11bs"
      },
      "source": [
        "Удалите из словаря стоп-слова и пунктуацию, посмотрите на новый топ-10 слов с количеством встреч, есть ли теперь в нем что-то не похожее на слова?"
      ]
    },
    {
      "cell_type": "code",
      "execution_count": 26,
      "metadata": {
        "colab": {
          "base_uri": "https://localhost:8080/"
        },
        "id": "0yHWdFrp0Mup",
        "outputId": "6bb4eb96-e14c-496f-c0d6-a2fe55782957"
      },
      "outputs": [
        {
          "output_type": "execute_result",
          "data": {
            "text/plain": [
              "[('#coronavirus', 8808),\n",
              " ('â', 7415),\n",
              " ('\\x82', 7311),\n",
              " ('19', 7167),\n",
              " ('covid', 6253),\n",
              " ('prices', 4601),\n",
              " ('\\x92', 4372),\n",
              " ('food', 4367),\n",
              " ('store', 3877),\n",
              " ('supermarket', 3805)]"
            ]
          },
          "metadata": {},
          "execution_count": 26
        }
      ],
      "source": [
        "from string import punctuation\n",
        "\n",
        "noise = stopwords.words(\"english\") + list(punctuation)\n",
        "token_dict = [(token, count) for token, count in token_dict if token not in noise]\n",
        "\n",
        "token_dict[:10]"
      ]
    },
    {
      "cell_type": "markdown",
      "metadata": {
        "id": "8ZJqXELP_Yxy"
      },
      "source": [
        "**Ответ:** парочку странных символов есть"
      ]
    },
    {
      "cell_type": "markdown",
      "metadata": {
        "id": "rzXjMsSB_kXB"
      },
      "source": [
        "Удалите из словаря токены из одного символа, с позицией в таблице Unicode 128 и более (`ord(x) >= 128`)\n",
        "\n",
        "Выведите топ-10 самых популярных и топ-20 непопулярных слов. Чем полученные топы отличаются от итоговых топов, полученных при использовании токенизации по пробелам? Что теперь лучше, а что хуже?"
      ]
    },
    {
      "cell_type": "code",
      "execution_count": 27,
      "metadata": {
        "colab": {
          "base_uri": "https://localhost:8080/"
        },
        "id": "1695hlkS_1-J",
        "outputId": "91b89fbf-cd09-40a6-e206-23b3aed6f406"
      },
      "outputs": [
        {
          "output_type": "execute_result",
          "data": {
            "text/plain": [
              "[('#coronavirus', 8808),\n",
              " ('19', 7167),\n",
              " ('covid', 6253),\n",
              " ('prices', 4601),\n",
              " ('food', 4367),\n",
              " ('store', 3877),\n",
              " ('supermarket', 3805),\n",
              " ('grocery', 3523),\n",
              " ('people', 3463),\n",
              " ('#covid19', 2589)]"
            ]
          },
          "metadata": {},
          "execution_count": 27
        }
      ],
      "source": [
        "token_dict = [(token, count) for token, count in token_dict if len(token) > 1 or ord(token) < 128]\n",
        "# топ 10 популярных\n",
        "token_dict[:10]"
      ]
    },
    {
      "cell_type": "code",
      "execution_count": 28,
      "metadata": {
        "colab": {
          "base_uri": "https://localhost:8080/"
        },
        "id": "DGHDV-4ssDuh",
        "outputId": "c1be8670-6da9-4c88-9c9d-5b576d2cedf9"
      },
      "outputs": [
        {
          "output_type": "execute_result",
          "data": {
            "text/plain": [
              "[('https://t.co/lw1r0rm7xs', 1),\n",
              " ('https://t.co/5cbliqzx7l', 1),\n",
              " ('now.when', 1),\n",
              " ('milion', 1),\n",
              " ('skellig', 1),\n",
              " ('@skelligsix18', 1),\n",
              " ('#skelligcoast2kms', 1),\n",
              " ('#southkerry', 1),\n",
              " ('https://t.co/zjcl195vqs', 1),\n",
              " ('@srinivasiyc', 1),\n",
              " ('https://t.co/iaek4fwsgz', 1),\n",
              " ('premiership', 1),\n",
              " ('non-playing', 1),\n",
              " ('subsidise', 1),\n",
              " ('playersã', 1),\n",
              " ('renewing', 1),\n",
              " ('flew', 1),\n",
              " ('@torontopearson', 1),\n",
              " ('@680news', 1),\n",
              " ('https://t.co/7j2y3rsld9', 1)]"
            ]
          },
          "metadata": {},
          "execution_count": 28
        }
      ],
      "source": [
        "# топ 20 непопулярных слов\n",
        "token_dict[-20:]"
      ]
    },
    {
      "cell_type": "markdown",
      "metadata": {
        "id": "KzjHAKIlDvc6"
      },
      "source": [
        "**Ответ:** В топ 10 теперь есть отдельно covid и 19, в прошлом топе они были одним словом covid-19. Также исчез &amp. В топ 20 больше ссылок и хештегов."
      ]
    },
    {
      "cell_type": "markdown",
      "metadata": {
        "id": "EcDf9_6HB2zm"
      },
      "source": [
        "Выведите топ-10 популярных хештегов с количеством встреч. Что можно сказать о них?"
      ]
    },
    {
      "cell_type": "code",
      "execution_count": 29,
      "metadata": {
        "colab": {
          "base_uri": "https://localhost:8080/"
        },
        "id": "zk4fygCUBw3l",
        "outputId": "92e6baee-476f-4c45-f808-29a2e3dd879a"
      },
      "outputs": [
        {
          "output_type": "execute_result",
          "data": {
            "text/plain": [
              "[('#coronavirus', 8808),\n",
              " ('#covid19', 2589),\n",
              " ('#covid_19', 1734),\n",
              " ('#covid2019', 946),\n",
              " ('#toiletpaper', 744),\n",
              " ('#covid', 641),\n",
              " ('#socialdistancing', 465),\n",
              " ('#coronacrisis', 448),\n",
              " ('#pandemic', 257),\n",
              " ('#coronaviruspandemic', 249)]"
            ]
          },
          "metadata": {},
          "execution_count": 29
        }
      ],
      "source": [
        "hashtags = [(word, count) for word, count in token_dict if word[0] == '#']\n",
        "hashtags[:10]"
      ]
    },
    {
      "cell_type": "markdown",
      "metadata": {
        "id": "-6NeNWBkDxM7"
      },
      "source": [
        "**Ответ:** они почти все примерно об одном - короновирусе"
      ]
    },
    {
      "cell_type": "markdown",
      "metadata": {
        "id": "LLYBg7caD5GA"
      },
      "source": [
        "То же самое проделайте для ссылок на сайт https://t.co Сравнима ли популярность ссылок с популярностью хештегов? Будет ли информация о ссылке на конкретную страницу полезна?"
      ]
    },
    {
      "cell_type": "code",
      "execution_count": 30,
      "metadata": {
        "colab": {
          "base_uri": "https://localhost:8080/"
        },
        "id": "MXbm1oeaCK9S",
        "outputId": "5129d801-1c3b-4152-dde1-9b3905928320"
      },
      "outputs": [
        {
          "output_type": "execute_result",
          "data": {
            "text/plain": [
              "[('https://t.co/oxa7swtond', 5),\n",
              " ('https://t.co/gp3eusapl8', 4),\n",
              " ('https://t.co/deftrui1pfã\\x82â', 3),\n",
              " ('https://t.co/wrlhyzizaa', 3),\n",
              " ('https://t.co/kuwipf1kqw', 3),\n",
              " ('https://t.co/zjnrx6dkkn', 3),\n",
              " ('https://t.co/3gbbdpdjat', 3),\n",
              " ('https://t.co/e2znxajpre', 3),\n",
              " ('https://t.co/catkegayoy', 3),\n",
              " ('https://t.co/g63rp042ho', 3)]"
            ]
          },
          "metadata": {},
          "execution_count": 30
        }
      ],
      "source": [
        "urls = [(word, count) for word, count in token_dict if word.startswith('https://t.co')]\n",
        "urls[:10]"
      ]
    },
    {
      "cell_type": "markdown",
      "metadata": {
        "id": "at6lRYZ8A07N"
      },
      "source": [
        "**Ответ:** Популярность несравнима, хэштегов сильно больше. Ссылки можно удалить, эта информация бесполезна."
      ]
    },
    {
      "cell_type": "markdown",
      "metadata": {
        "id": "IOGdUU1kBU1D"
      },
      "source": [
        "Используем опыт предыдущих экспериментов и напишем собственный токенайзер, улучшив TweetTokenizer. Функция tokenize должна:\n",
        "\n",
        "\n",
        "\n",
        "*   Привести текст в нижний регистр\n",
        "*   Применить TweetTokenizer для изначального выделения токенов\n",
        "*   Удалить стоп-слова, пунктуацию, токены из одного символа, с позицией в таблице Unicode 128 и более и ссылки на t.co\n",
        "\n"
      ]
    },
    {
      "cell_type": "code",
      "execution_count": 31,
      "metadata": {
        "id": "ctEsB6xkFrrK"
      },
      "outputs": [],
      "source": [
        "def custom_tokenizer(text):\n",
        "  tw = TweetTokenizer()\n",
        "  tokens = tw.tokenize(text.lower())\n",
        "\n",
        "  noise = stopwords.words(\"english\") + list(punctuation)\n",
        "\n",
        "  fin_tokens = []\n",
        "  for token in tokens:\n",
        "    if token not in noise and not token.startswith('https://t.co'):\n",
        "      if len(token) == 1:\n",
        "        if ord(token) >= 128:\n",
        "          continue\n",
        "        else:\n",
        "          fin_tokens.append(token)\n",
        "      else:\n",
        "        fin_tokens.append(token)\n",
        "\n",
        "  return fin_tokens\n"
      ]
    },
    {
      "cell_type": "code",
      "execution_count": 32,
      "metadata": {
        "colab": {
          "base_uri": "https://localhost:8080/"
        },
        "id": "XwbgtYkJGYym",
        "outputId": "71b7cdaa-e2fc-402d-bbef-4e8b735a7d5c"
      },
      "outputs": [
        {
          "output_type": "execute_result",
          "data": {
            "text/plain": [
              "['sample', 'text', '@sample_text', '#sampletext']"
            ]
          },
          "metadata": {},
          "execution_count": 32
        }
      ],
      "source": [
        "custom_tokenizer('This is sample text!!!! @Sample_text I, \\x92\\x92 https://t.co/sample  #sampletext')"
      ]
    },
    {
      "cell_type": "markdown",
      "metadata": {
        "id": "wURVABmXHk97"
      },
      "source": [
        "## Задание 3 Векторизация текстов (2 балла)"
      ]
    },
    {
      "cell_type": "markdown",
      "metadata": {
        "id": "H44iXkoHIQfN"
      },
      "source": [
        "Обучите CountVectorizer с использованием custom_tokenizer в качестве токенайзера. Как размер полученного словаря соотносится с размером изначального словаря из начала задания 2?"
      ]
    },
    {
      "cell_type": "code",
      "execution_count": 33,
      "metadata": {
        "id": "76lux23Hl1ww"
      },
      "outputs": [],
      "source": [
        "train_texts = [text for text in train[\"OriginalTweet\"]]\n",
        "test_texts = [text for text in test[\"OriginalTweet\"]]"
      ]
    },
    {
      "cell_type": "code",
      "execution_count": 34,
      "metadata": {
        "colab": {
          "base_uri": "https://localhost:8080/"
        },
        "id": "gHn_limQl3BI",
        "outputId": "678c82d6-2e8c-4422-a7c1-2becf615bb0e"
      },
      "outputs": [
        {
          "output_type": "stream",
          "name": "stdout",
          "text": [
            "45308\n"
          ]
        }
      ],
      "source": [
        "from sklearn.feature_extraction.text import CountVectorizer\n",
        "\n",
        "cv = CountVectorizer(tokenizer=custom_tokenizer)\n",
        "\n",
        "X_train = cv.fit_transform(train_texts)\n",
        "\n",
        "print(len(cv.vocabulary_))"
      ]
    },
    {
      "cell_type": "markdown",
      "metadata": {
        "id": "gsfmaSGoItUm"
      },
      "source": [
        "**Ответ:** Получилось в 2 раза меньше, чем в том словаре. Я не знаю. почему у меня на 2 слова меньше, чем должно быть, я вроде бы все учитываю верно"
      ]
    },
    {
      "cell_type": "markdown",
      "metadata": {
        "id": "lm6UHNmqKZT0"
      },
      "source": [
        "Посмотрим на какой-нибудь конкретный твитт:"
      ]
    },
    {
      "cell_type": "code",
      "execution_count": 35,
      "metadata": {
        "colab": {
          "base_uri": "https://localhost:8080/"
        },
        "id": "aJVjjfqOJh8m",
        "outputId": "702f756d-a2e2-4c8e-a532-b0aefa5bcbf2"
      },
      "outputs": [
        {
          "output_type": "execute_result",
          "data": {
            "text/plain": [
              "('Nice one @SkyNews lets not panic but show ppl in france queueing for food!!! #CoronavirusOutbreak #COVID2019 brainless!! Ffs',\n",
              " 0)"
            ]
          },
          "metadata": {},
          "execution_count": 35
        }
      ],
      "source": [
        "ind = 9023\n",
        "train.iloc[ind]['OriginalTweet'], train.iloc[ind]['Sentiment']"
      ]
    },
    {
      "cell_type": "markdown",
      "metadata": {
        "id": "PBMIHBI5KdaS"
      },
      "source": [
        "Автор твитта не доволен ситуацией с едой во Франции и текст имеет резко негативную окраску.\n",
        "\n",
        "Примените обученный CountVectorizer для векторизации данного текста, и попытайтесь определить самый важный токен и самый неважный токен (токен, компонента которого в векторе максимальна/минимальна, без учета 0). Хорошо ли они определились, почему?"
      ]
    },
    {
      "cell_type": "code",
      "execution_count": 36,
      "metadata": {
        "id": "6WA2Pfw7-lew"
      },
      "outputs": [],
      "source": [
        "# показывает веса не нулевых токенов\n",
        "def show_weigts(vectorized_tweet, vectorizer):\n",
        "  k = pd.DataFrame(vectorized_tweet.toarray(), columns=vectorizer.get_feature_names_out())\n",
        "  for i in k.columns:\n",
        "    if k[i][0]>0:\n",
        "      print(f\"{i}, {k[i][0]}\")"
      ]
    },
    {
      "cell_type": "code",
      "execution_count": 37,
      "metadata": {
        "colab": {
          "base_uri": "https://localhost:8080/"
        },
        "id": "7NcAllaEKsJj",
        "outputId": "472d2c2c-1394-47a2-b95e-8a26f982c963"
      },
      "outputs": [
        {
          "output_type": "stream",
          "name": "stdout",
          "text": [
            "#coronavirusoutbreak, 1\n",
            "#covid2019, 1\n",
            "@skynews, 1\n",
            "brainless, 1\n",
            "ffs, 1\n",
            "food, 1\n",
            "france, 1\n",
            "lets, 1\n",
            "nice, 1\n",
            "one, 1\n",
            "panic, 1\n",
            "ppl, 1\n",
            "queueing, 1\n",
            "show, 1\n"
          ]
        }
      ],
      "source": [
        "tweet = [\" \".join(custom_tokenizer(train.iloc[ind]['OriginalTweet']))]\n",
        "vectorized_tweet = cv.transform(tweet)\n",
        "\n",
        "show_weigts(vectorized_tweet, cv)"
      ]
    },
    {
      "cell_type": "markdown",
      "metadata": {
        "id": "TpEsl1k_NF4T"
      },
      "source": [
        "**Ответ:** Определелиссь веса не очень, так как обычный векторайзер не учитывает важность слова внутри твита"
      ]
    },
    {
      "cell_type": "markdown",
      "metadata": {
        "id": "w4DsEQpLO3J6"
      },
      "source": [
        "Теперь примените TfidfVectorizer и  определите самый важный/неважный токены. Хорошо ли определились, почему?"
      ]
    },
    {
      "cell_type": "code",
      "execution_count": 38,
      "metadata": {
        "colab": {
          "base_uri": "https://localhost:8080/"
        },
        "id": "uSNzdK3ENGB3",
        "outputId": "f66c4f31-d5c1-4ee5-facb-ce68f9575fa4"
      },
      "outputs": [
        {
          "output_type": "stream",
          "name": "stdout",
          "text": [
            "#coronavirusoutbreak, 0.22584265007428544\n",
            "#covid2019, 0.16825192939361902\n",
            "@skynews, 0.31042634466284263\n",
            "brainless, 0.3867641170466375\n",
            "ffs, 0.3244741764513268\n",
            "food, 0.11328893069250721\n",
            "france, 0.32047314046539654\n",
            "lets, 0.30121070136861045\n",
            "nice, 0.2542729176022132\n",
            "one, 0.16306722855395073\n",
            "panic, 0.14759470306326164\n",
            "ppl, 0.2550064610386691\n",
            "queueing, 0.35434556333216544\n",
            "show, 0.24406492401820118\n"
          ]
        }
      ],
      "source": [
        "from sklearn.feature_extraction.text import TfidfVectorizer\n",
        "\n",
        "tfidf_vec = TfidfVectorizer(tokenizer=custom_tokenizer)\n",
        "\n",
        "X_train_idf = tfidf_vec.fit_transform(train_texts)\n",
        "vectorized_tweet_idf = tfidf_vec.transform(tweet)\n",
        "\n",
        "show_weigts(vectorized_tweet_idf, tfidf_vec)\n"
      ]
    },
    {
      "cell_type": "markdown",
      "metadata": {
        "id": "NYao_UhqQADm"
      },
      "source": [
        "**Ответ:** Веса теперь не одинаковые, видно какие слова имеют больший вес, это происходит из-за того, что tf-idf учмиывает важность слова для конкретного текста."
      ]
    },
    {
      "cell_type": "markdown",
      "metadata": {
        "id": "LGRJPqfWSesQ"
      },
      "source": [
        "Найдите какой-нибудь положительно окрашенный твитт, где TfidfVectorizer хорошо (полезно для определения окраски) выделяет важный токен, поясните пример.\n",
        "\n",
        "*Подсказка:* явно положительные твитты можно искать при помощи положительных слов (good, great, amazing и т. д.)"
      ]
    },
    {
      "cell_type": "code",
      "execution_count": 39,
      "metadata": {
        "colab": {
          "base_uri": "https://localhost:8080/",
          "height": 394
        },
        "id": "bRbQ2CHiSuJI",
        "outputId": "9fcf7b7e-a773-48ca-a30a-01a2cd15453b"
      },
      "outputs": [
        {
          "output_type": "execute_result",
          "data": {
            "text/plain": [
              "       UserName  ScreenName              Location     TweetAt  \\\n",
              "192        4035       48987         San Diego, CA  16-03-2020   \n",
              "13018     19596       64548    Northwich, England  22-03-2020   \n",
              "18698     26561       71513       Washtington, DC  25-03-2020   \n",
              "33346     44826       89778  Toronto, ONT, Canada  14-04-2020   \n",
              "942        4935       49887            London, UK  17-03-2020   \n",
              "2875       7276       52228     Sydney, Australia  18-03-2020   \n",
              "10776     16878       61830             Ohio, USA  21-03-2020   \n",
              "19045     26981       71933            Pownal, VT  25-03-2020   \n",
              "13059     19645       64597        Fort Worth, TX  22-03-2020   \n",
              "10091     16048       61000        United Kingdom  21-03-2020   \n",
              "6234      11361       56313             St. Louis  19-03-2020   \n",
              "\n",
              "                                           OriginalTweet  Sentiment  \n",
              "192    What's a good way to support grocery store, me...          1  \n",
              "13018  Time for a sleep before I go back on nights as...          1  \n",
              "18698  The fact that mainstream Republicans, includin...          1  \n",
              "33346  this deck by .@lukew in insanely good - great ...          1  \n",
              "942    Anyone under 70 and in good health who has boo...          1  \n",
              "2875   Thank goodness someone is recognizing the grea...          1  \n",
              "10776  If anyone can't find hand sanitizer, I just or...          1  \n",
              "19045  Healthcare workers: going to work and risking ...          1  \n",
              "13059  Just wanted to share gratitude to all the nurs...          1  \n",
              "10091  I always thought I'd be great in an end of the...          1  \n",
              "6234   @BradPaisley doing even more great things duri...          1  "
            ],
            "text/html": [
              "\n",
              "  <div id=\"df-54105554-90ad-41c6-b671-9457eab616dc\" class=\"colab-df-container\">\n",
              "    <div>\n",
              "<style scoped>\n",
              "    .dataframe tbody tr th:only-of-type {\n",
              "        vertical-align: middle;\n",
              "    }\n",
              "\n",
              "    .dataframe tbody tr th {\n",
              "        vertical-align: top;\n",
              "    }\n",
              "\n",
              "    .dataframe thead th {\n",
              "        text-align: right;\n",
              "    }\n",
              "</style>\n",
              "<table border=\"1\" class=\"dataframe\">\n",
              "  <thead>\n",
              "    <tr style=\"text-align: right;\">\n",
              "      <th></th>\n",
              "      <th>UserName</th>\n",
              "      <th>ScreenName</th>\n",
              "      <th>Location</th>\n",
              "      <th>TweetAt</th>\n",
              "      <th>OriginalTweet</th>\n",
              "      <th>Sentiment</th>\n",
              "    </tr>\n",
              "  </thead>\n",
              "  <tbody>\n",
              "    <tr>\n",
              "      <th>192</th>\n",
              "      <td>4035</td>\n",
              "      <td>48987</td>\n",
              "      <td>San Diego, CA</td>\n",
              "      <td>16-03-2020</td>\n",
              "      <td>What's a good way to support grocery store, me...</td>\n",
              "      <td>1</td>\n",
              "    </tr>\n",
              "    <tr>\n",
              "      <th>13018</th>\n",
              "      <td>19596</td>\n",
              "      <td>64548</td>\n",
              "      <td>Northwich, England</td>\n",
              "      <td>22-03-2020</td>\n",
              "      <td>Time for a sleep before I go back on nights as...</td>\n",
              "      <td>1</td>\n",
              "    </tr>\n",
              "    <tr>\n",
              "      <th>18698</th>\n",
              "      <td>26561</td>\n",
              "      <td>71513</td>\n",
              "      <td>Washtington, DC</td>\n",
              "      <td>25-03-2020</td>\n",
              "      <td>The fact that mainstream Republicans, includin...</td>\n",
              "      <td>1</td>\n",
              "    </tr>\n",
              "    <tr>\n",
              "      <th>33346</th>\n",
              "      <td>44826</td>\n",
              "      <td>89778</td>\n",
              "      <td>Toronto, ONT, Canada</td>\n",
              "      <td>14-04-2020</td>\n",
              "      <td>this deck by .@lukew in insanely good - great ...</td>\n",
              "      <td>1</td>\n",
              "    </tr>\n",
              "    <tr>\n",
              "      <th>942</th>\n",
              "      <td>4935</td>\n",
              "      <td>49887</td>\n",
              "      <td>London, UK</td>\n",
              "      <td>17-03-2020</td>\n",
              "      <td>Anyone under 70 and in good health who has boo...</td>\n",
              "      <td>1</td>\n",
              "    </tr>\n",
              "    <tr>\n",
              "      <th>2875</th>\n",
              "      <td>7276</td>\n",
              "      <td>52228</td>\n",
              "      <td>Sydney, Australia</td>\n",
              "      <td>18-03-2020</td>\n",
              "      <td>Thank goodness someone is recognizing the grea...</td>\n",
              "      <td>1</td>\n",
              "    </tr>\n",
              "    <tr>\n",
              "      <th>10776</th>\n",
              "      <td>16878</td>\n",
              "      <td>61830</td>\n",
              "      <td>Ohio, USA</td>\n",
              "      <td>21-03-2020</td>\n",
              "      <td>If anyone can't find hand sanitizer, I just or...</td>\n",
              "      <td>1</td>\n",
              "    </tr>\n",
              "    <tr>\n",
              "      <th>19045</th>\n",
              "      <td>26981</td>\n",
              "      <td>71933</td>\n",
              "      <td>Pownal, VT</td>\n",
              "      <td>25-03-2020</td>\n",
              "      <td>Healthcare workers: going to work and risking ...</td>\n",
              "      <td>1</td>\n",
              "    </tr>\n",
              "    <tr>\n",
              "      <th>13059</th>\n",
              "      <td>19645</td>\n",
              "      <td>64597</td>\n",
              "      <td>Fort Worth, TX</td>\n",
              "      <td>22-03-2020</td>\n",
              "      <td>Just wanted to share gratitude to all the nurs...</td>\n",
              "      <td>1</td>\n",
              "    </tr>\n",
              "    <tr>\n",
              "      <th>10091</th>\n",
              "      <td>16048</td>\n",
              "      <td>61000</td>\n",
              "      <td>United Kingdom</td>\n",
              "      <td>21-03-2020</td>\n",
              "      <td>I always thought I'd be great in an end of the...</td>\n",
              "      <td>1</td>\n",
              "    </tr>\n",
              "    <tr>\n",
              "      <th>6234</th>\n",
              "      <td>11361</td>\n",
              "      <td>56313</td>\n",
              "      <td>St. Louis</td>\n",
              "      <td>19-03-2020</td>\n",
              "      <td>@BradPaisley doing even more great things duri...</td>\n",
              "      <td>1</td>\n",
              "    </tr>\n",
              "  </tbody>\n",
              "</table>\n",
              "</div>\n",
              "    <div class=\"colab-df-buttons\">\n",
              "\n",
              "  <div class=\"colab-df-container\">\n",
              "    <button class=\"colab-df-convert\" onclick=\"convertToInteractive('df-54105554-90ad-41c6-b671-9457eab616dc')\"\n",
              "            title=\"Convert this dataframe to an interactive table.\"\n",
              "            style=\"display:none;\">\n",
              "\n",
              "  <svg xmlns=\"http://www.w3.org/2000/svg\" height=\"24px\" viewBox=\"0 -960 960 960\">\n",
              "    <path d=\"M120-120v-720h720v720H120Zm60-500h600v-160H180v160Zm220 220h160v-160H400v160Zm0 220h160v-160H400v160ZM180-400h160v-160H180v160Zm440 0h160v-160H620v160ZM180-180h160v-160H180v160Zm440 0h160v-160H620v160Z\"/>\n",
              "  </svg>\n",
              "    </button>\n",
              "\n",
              "  <style>\n",
              "    .colab-df-container {\n",
              "      display:flex;\n",
              "      gap: 12px;\n",
              "    }\n",
              "\n",
              "    .colab-df-convert {\n",
              "      background-color: #E8F0FE;\n",
              "      border: none;\n",
              "      border-radius: 50%;\n",
              "      cursor: pointer;\n",
              "      display: none;\n",
              "      fill: #1967D2;\n",
              "      height: 32px;\n",
              "      padding: 0 0 0 0;\n",
              "      width: 32px;\n",
              "    }\n",
              "\n",
              "    .colab-df-convert:hover {\n",
              "      background-color: #E2EBFA;\n",
              "      box-shadow: 0px 1px 2px rgba(60, 64, 67, 0.3), 0px 1px 3px 1px rgba(60, 64, 67, 0.15);\n",
              "      fill: #174EA6;\n",
              "    }\n",
              "\n",
              "    .colab-df-buttons div {\n",
              "      margin-bottom: 4px;\n",
              "    }\n",
              "\n",
              "    [theme=dark] .colab-df-convert {\n",
              "      background-color: #3B4455;\n",
              "      fill: #D2E3FC;\n",
              "    }\n",
              "\n",
              "    [theme=dark] .colab-df-convert:hover {\n",
              "      background-color: #434B5C;\n",
              "      box-shadow: 0px 1px 3px 1px rgba(0, 0, 0, 0.15);\n",
              "      filter: drop-shadow(0px 1px 2px rgba(0, 0, 0, 0.3));\n",
              "      fill: #FFFFFF;\n",
              "    }\n",
              "  </style>\n",
              "\n",
              "    <script>\n",
              "      const buttonEl =\n",
              "        document.querySelector('#df-54105554-90ad-41c6-b671-9457eab616dc button.colab-df-convert');\n",
              "      buttonEl.style.display =\n",
              "        google.colab.kernel.accessAllowed ? 'block' : 'none';\n",
              "\n",
              "      async function convertToInteractive(key) {\n",
              "        const element = document.querySelector('#df-54105554-90ad-41c6-b671-9457eab616dc');\n",
              "        const dataTable =\n",
              "          await google.colab.kernel.invokeFunction('convertToInteractive',\n",
              "                                                    [key], {});\n",
              "        if (!dataTable) return;\n",
              "\n",
              "        const docLinkHtml = 'Like what you see? Visit the ' +\n",
              "          '<a target=\"_blank\" href=https://colab.research.google.com/notebooks/data_table.ipynb>data table notebook</a>'\n",
              "          + ' to learn more about interactive tables.';\n",
              "        element.innerHTML = '';\n",
              "        dataTable['output_type'] = 'display_data';\n",
              "        await google.colab.output.renderOutput(dataTable, element);\n",
              "        const docLink = document.createElement('div');\n",
              "        docLink.innerHTML = docLinkHtml;\n",
              "        element.appendChild(docLink);\n",
              "      }\n",
              "    </script>\n",
              "  </div>\n",
              "\n",
              "\n",
              "<div id=\"df-fd5746fd-99e4-47fd-964b-59e1a0764db0\">\n",
              "  <button class=\"colab-df-quickchart\" onclick=\"quickchart('df-fd5746fd-99e4-47fd-964b-59e1a0764db0')\"\n",
              "            title=\"Suggest charts\"\n",
              "            style=\"display:none;\">\n",
              "\n",
              "<svg xmlns=\"http://www.w3.org/2000/svg\" height=\"24px\"viewBox=\"0 0 24 24\"\n",
              "     width=\"24px\">\n",
              "    <g>\n",
              "        <path d=\"M19 3H5c-1.1 0-2 .9-2 2v14c0 1.1.9 2 2 2h14c1.1 0 2-.9 2-2V5c0-1.1-.9-2-2-2zM9 17H7v-7h2v7zm4 0h-2V7h2v10zm4 0h-2v-4h2v4z\"/>\n",
              "    </g>\n",
              "</svg>\n",
              "  </button>\n",
              "\n",
              "<style>\n",
              "  .colab-df-quickchart {\n",
              "      --bg-color: #E8F0FE;\n",
              "      --fill-color: #1967D2;\n",
              "      --hover-bg-color: #E2EBFA;\n",
              "      --hover-fill-color: #174EA6;\n",
              "      --disabled-fill-color: #AAA;\n",
              "      --disabled-bg-color: #DDD;\n",
              "  }\n",
              "\n",
              "  [theme=dark] .colab-df-quickchart {\n",
              "      --bg-color: #3B4455;\n",
              "      --fill-color: #D2E3FC;\n",
              "      --hover-bg-color: #434B5C;\n",
              "      --hover-fill-color: #FFFFFF;\n",
              "      --disabled-bg-color: #3B4455;\n",
              "      --disabled-fill-color: #666;\n",
              "  }\n",
              "\n",
              "  .colab-df-quickchart {\n",
              "    background-color: var(--bg-color);\n",
              "    border: none;\n",
              "    border-radius: 50%;\n",
              "    cursor: pointer;\n",
              "    display: none;\n",
              "    fill: var(--fill-color);\n",
              "    height: 32px;\n",
              "    padding: 0;\n",
              "    width: 32px;\n",
              "  }\n",
              "\n",
              "  .colab-df-quickchart:hover {\n",
              "    background-color: var(--hover-bg-color);\n",
              "    box-shadow: 0 1px 2px rgba(60, 64, 67, 0.3), 0 1px 3px 1px rgba(60, 64, 67, 0.15);\n",
              "    fill: var(--button-hover-fill-color);\n",
              "  }\n",
              "\n",
              "  .colab-df-quickchart-complete:disabled,\n",
              "  .colab-df-quickchart-complete:disabled:hover {\n",
              "    background-color: var(--disabled-bg-color);\n",
              "    fill: var(--disabled-fill-color);\n",
              "    box-shadow: none;\n",
              "  }\n",
              "\n",
              "  .colab-df-spinner {\n",
              "    border: 2px solid var(--fill-color);\n",
              "    border-color: transparent;\n",
              "    border-bottom-color: var(--fill-color);\n",
              "    animation:\n",
              "      spin 1s steps(1) infinite;\n",
              "  }\n",
              "\n",
              "  @keyframes spin {\n",
              "    0% {\n",
              "      border-color: transparent;\n",
              "      border-bottom-color: var(--fill-color);\n",
              "      border-left-color: var(--fill-color);\n",
              "    }\n",
              "    20% {\n",
              "      border-color: transparent;\n",
              "      border-left-color: var(--fill-color);\n",
              "      border-top-color: var(--fill-color);\n",
              "    }\n",
              "    30% {\n",
              "      border-color: transparent;\n",
              "      border-left-color: var(--fill-color);\n",
              "      border-top-color: var(--fill-color);\n",
              "      border-right-color: var(--fill-color);\n",
              "    }\n",
              "    40% {\n",
              "      border-color: transparent;\n",
              "      border-right-color: var(--fill-color);\n",
              "      border-top-color: var(--fill-color);\n",
              "    }\n",
              "    60% {\n",
              "      border-color: transparent;\n",
              "      border-right-color: var(--fill-color);\n",
              "    }\n",
              "    80% {\n",
              "      border-color: transparent;\n",
              "      border-right-color: var(--fill-color);\n",
              "      border-bottom-color: var(--fill-color);\n",
              "    }\n",
              "    90% {\n",
              "      border-color: transparent;\n",
              "      border-bottom-color: var(--fill-color);\n",
              "    }\n",
              "  }\n",
              "</style>\n",
              "\n",
              "  <script>\n",
              "    async function quickchart(key) {\n",
              "      const quickchartButtonEl =\n",
              "        document.querySelector('#' + key + ' button');\n",
              "      quickchartButtonEl.disabled = true;  // To prevent multiple clicks.\n",
              "      quickchartButtonEl.classList.add('colab-df-spinner');\n",
              "      try {\n",
              "        const charts = await google.colab.kernel.invokeFunction(\n",
              "            'suggestCharts', [key], {});\n",
              "      } catch (error) {\n",
              "        console.error('Error during call to suggestCharts:', error);\n",
              "      }\n",
              "      quickchartButtonEl.classList.remove('colab-df-spinner');\n",
              "      quickchartButtonEl.classList.add('colab-df-quickchart-complete');\n",
              "    }\n",
              "    (() => {\n",
              "      let quickchartButtonEl =\n",
              "        document.querySelector('#df-fd5746fd-99e4-47fd-964b-59e1a0764db0 button');\n",
              "      quickchartButtonEl.style.display =\n",
              "        google.colab.kernel.accessAllowed ? 'block' : 'none';\n",
              "    })();\n",
              "  </script>\n",
              "</div>\n",
              "    </div>\n",
              "  </div>\n"
            ],
            "application/vnd.google.colaboratory.intrinsic+json": {
              "type": "dataframe",
              "repr_error": "0"
            }
          },
          "metadata": {},
          "execution_count": 39
        }
      ],
      "source": [
        "train[train['OriginalTweet'].apply(lambda x: 'good' in x and 'great' in x) & (train['Sentiment'] == 1)]"
      ]
    },
    {
      "cell_type": "code",
      "execution_count": 40,
      "metadata": {
        "colab": {
          "base_uri": "https://localhost:8080/",
          "height": 35
        },
        "id": "K83DqEwPXN0w",
        "outputId": "baca1d9b-2324-4450-f459-b6bf0226ddd0"
      },
      "outputs": [
        {
          "output_type": "execute_result",
          "data": {
            "text/plain": [
              "'Thank goodness someone is recognizing the great work our teachers are doing at this challenging time. Thank-you @SBS https://t.co/v1MWH5xa8t'"
            ],
            "application/vnd.google.colaboratory.intrinsic+json": {
              "type": "string"
            }
          },
          "metadata": {},
          "execution_count": 40
        }
      ],
      "source": [
        "positive_tweet = train.loc[2875]['OriginalTweet']\n",
        "positive_tweet"
      ]
    },
    {
      "cell_type": "code",
      "execution_count": 41,
      "metadata": {
        "colab": {
          "base_uri": "https://localhost:8080/"
        },
        "id": "jSjbKPCWk87K",
        "outputId": "b98c1a8d-5fed-4287-c0cc-1c3adbd6973c"
      },
      "outputs": [
        {
          "output_type": "stream",
          "name": "stdout",
          "text": [
            "@sbs, 0.4325707864576196\n",
            "challenging, 0.3036048682160198\n",
            "goodness, 0.3614444896164748\n",
            "great, 0.20927805952252762\n",
            "recognizing, 0.3747311650571646\n",
            "someone, 0.2346005100340175\n",
            "teachers, 0.28544232414421816\n",
            "thank, 0.19702881185687396\n",
            "thank-you, 0.41565378167003203\n",
            "time, 0.16079181505042567\n",
            "work, 0.17856814087520398\n"
          ]
        }
      ],
      "source": [
        "positive_tweet_idf = tfidf_vec.transform([positive_tweet])\n",
        "\n",
        "show_weigts(positive_tweet_idf, tfidf_vec)\n"
      ]
    },
    {
      "cell_type": "markdown",
      "metadata": {
        "id": "JTv9ST2_U6NA"
      },
      "source": [
        "**Ответ:** Большой вес имеет @sbs это происходит скорее всего из-за того, что это редкое слово. Также большой вес имеют слова благодарности и просто положительные слова. Пример, возможно, не самый лучший из-за @sbs, но все равно он будет больше положительный, чем отрцательный."
      ]
    },
    {
      "cell_type": "markdown",
      "metadata": {
        "id": "JVEuZm8BHms6"
      },
      "source": [
        "## Задание 4 Обучение первых моделей (1 балл)"
      ]
    },
    {
      "cell_type": "markdown",
      "metadata": {
        "id": "JADkO3sfXdOG"
      },
      "source": [
        "Примените оба векторайзера для получения матриц с признаками текстов.  Выделите целевую переменную."
      ]
    },
    {
      "cell_type": "code",
      "execution_count": 42,
      "metadata": {
        "id": "DguoiXhCX2oN"
      },
      "outputs": [],
      "source": [
        "X_train = train.drop(\"Sentiment\", axis=1)\n",
        "y_train = train['Sentiment']\n",
        "\n",
        "X_test = test.drop(\"Sentiment\", axis=1)\n",
        "y_test = test['Sentiment']\n",
        "\n",
        "\n",
        "# обычный векторайзер cv\n",
        "cv = CountVectorizer(tokenizer=custom_tokenizer)\n",
        "X_train_cv = cv.fit_transform(train_texts)\n",
        "X_test_cv = cv.transform(test_texts)\n",
        "\n",
        "# tfid векторайзер\n",
        "tfidf_vec = TfidfVectorizer(tokenizer=custom_tokenizer)\n",
        "X_train_tf = tfidf_vec.fit_transform(train_texts)\n",
        "X_test_tf = tfidf_vec.transform(test_texts)"
      ]
    },
    {
      "cell_type": "markdown",
      "metadata": {
        "id": "_FX1KSOfYSx4"
      },
      "source": [
        "Обучите логистическую регрессию на векторах из обоих векторайзеров. Посчитайте долю правильных ответов на обучающих и тестовых данных. Какой векторайзер показал лучший результат? Что можно сказать о моделях?"
      ]
    },
    {
      "cell_type": "code",
      "execution_count": 43,
      "metadata": {
        "colab": {
          "base_uri": "https://localhost:8080/",
          "height": 75
        },
        "id": "-Tb3eh8UXJ6v",
        "outputId": "502dc1ee-1685-4ffc-eb21-363dd62b03b1"
      },
      "outputs": [
        {
          "output_type": "execute_result",
          "data": {
            "text/plain": [
              "LogisticRegression()"
            ],
            "text/html": [
              "<style>#sk-container-id-1 {color: black;background-color: white;}#sk-container-id-1 pre{padding: 0;}#sk-container-id-1 div.sk-toggleable {background-color: white;}#sk-container-id-1 label.sk-toggleable__label {cursor: pointer;display: block;width: 100%;margin-bottom: 0;padding: 0.3em;box-sizing: border-box;text-align: center;}#sk-container-id-1 label.sk-toggleable__label-arrow:before {content: \"▸\";float: left;margin-right: 0.25em;color: #696969;}#sk-container-id-1 label.sk-toggleable__label-arrow:hover:before {color: black;}#sk-container-id-1 div.sk-estimator:hover label.sk-toggleable__label-arrow:before {color: black;}#sk-container-id-1 div.sk-toggleable__content {max-height: 0;max-width: 0;overflow: hidden;text-align: left;background-color: #f0f8ff;}#sk-container-id-1 div.sk-toggleable__content pre {margin: 0.2em;color: black;border-radius: 0.25em;background-color: #f0f8ff;}#sk-container-id-1 input.sk-toggleable__control:checked~div.sk-toggleable__content {max-height: 200px;max-width: 100%;overflow: auto;}#sk-container-id-1 input.sk-toggleable__control:checked~label.sk-toggleable__label-arrow:before {content: \"▾\";}#sk-container-id-1 div.sk-estimator input.sk-toggleable__control:checked~label.sk-toggleable__label {background-color: #d4ebff;}#sk-container-id-1 div.sk-label input.sk-toggleable__control:checked~label.sk-toggleable__label {background-color: #d4ebff;}#sk-container-id-1 input.sk-hidden--visually {border: 0;clip: rect(1px 1px 1px 1px);clip: rect(1px, 1px, 1px, 1px);height: 1px;margin: -1px;overflow: hidden;padding: 0;position: absolute;width: 1px;}#sk-container-id-1 div.sk-estimator {font-family: monospace;background-color: #f0f8ff;border: 1px dotted black;border-radius: 0.25em;box-sizing: border-box;margin-bottom: 0.5em;}#sk-container-id-1 div.sk-estimator:hover {background-color: #d4ebff;}#sk-container-id-1 div.sk-parallel-item::after {content: \"\";width: 100%;border-bottom: 1px solid gray;flex-grow: 1;}#sk-container-id-1 div.sk-label:hover label.sk-toggleable__label {background-color: #d4ebff;}#sk-container-id-1 div.sk-serial::before {content: \"\";position: absolute;border-left: 1px solid gray;box-sizing: border-box;top: 0;bottom: 0;left: 50%;z-index: 0;}#sk-container-id-1 div.sk-serial {display: flex;flex-direction: column;align-items: center;background-color: white;padding-right: 0.2em;padding-left: 0.2em;position: relative;}#sk-container-id-1 div.sk-item {position: relative;z-index: 1;}#sk-container-id-1 div.sk-parallel {display: flex;align-items: stretch;justify-content: center;background-color: white;position: relative;}#sk-container-id-1 div.sk-item::before, #sk-container-id-1 div.sk-parallel-item::before {content: \"\";position: absolute;border-left: 1px solid gray;box-sizing: border-box;top: 0;bottom: 0;left: 50%;z-index: -1;}#sk-container-id-1 div.sk-parallel-item {display: flex;flex-direction: column;z-index: 1;position: relative;background-color: white;}#sk-container-id-1 div.sk-parallel-item:first-child::after {align-self: flex-end;width: 50%;}#sk-container-id-1 div.sk-parallel-item:last-child::after {align-self: flex-start;width: 50%;}#sk-container-id-1 div.sk-parallel-item:only-child::after {width: 0;}#sk-container-id-1 div.sk-dashed-wrapped {border: 1px dashed gray;margin: 0 0.4em 0.5em 0.4em;box-sizing: border-box;padding-bottom: 0.4em;background-color: white;}#sk-container-id-1 div.sk-label label {font-family: monospace;font-weight: bold;display: inline-block;line-height: 1.2em;}#sk-container-id-1 div.sk-label-container {text-align: center;}#sk-container-id-1 div.sk-container {/* jupyter's `normalize.less` sets `[hidden] { display: none; }` but bootstrap.min.css set `[hidden] { display: none !important; }` so we also need the `!important` here to be able to override the default hidden behavior on the sphinx rendered scikit-learn.org. See: https://github.com/scikit-learn/scikit-learn/issues/21755 */display: inline-block !important;position: relative;}#sk-container-id-1 div.sk-text-repr-fallback {display: none;}</style><div id=\"sk-container-id-1\" class=\"sk-top-container\"><div class=\"sk-text-repr-fallback\"><pre>LogisticRegression()</pre><b>In a Jupyter environment, please rerun this cell to show the HTML representation or trust the notebook. <br />On GitHub, the HTML representation is unable to render, please try loading this page with nbviewer.org.</b></div><div class=\"sk-container\" hidden><div class=\"sk-item\"><div class=\"sk-estimator sk-toggleable\"><input class=\"sk-toggleable__control sk-hidden--visually\" id=\"sk-estimator-id-1\" type=\"checkbox\" checked><label for=\"sk-estimator-id-1\" class=\"sk-toggleable__label sk-toggleable__label-arrow\">LogisticRegression</label><div class=\"sk-toggleable__content\"><pre>LogisticRegression()</pre></div></div></div></div></div>"
            ]
          },
          "metadata": {},
          "execution_count": 43
        }
      ],
      "source": [
        "import warnings\n",
        "warnings.filterwarnings(\"ignore\")\n",
        "from sklearn.linear_model import LogisticRegression\n",
        "from sklearn.metrics import accuracy_score\n",
        "\n",
        "# обучаем регрессию на cv\n",
        "log_reg_cv = LogisticRegression()\n",
        "log_reg_cv.fit(X_train_cv, y_train)\n",
        "\n",
        "# обучаем регрессию на tf\n",
        "log_reg_tf = LogisticRegression()\n",
        "log_reg_tf.fit(X_train_tf, y_train)\n"
      ]
    },
    {
      "cell_type": "code",
      "execution_count": 44,
      "metadata": {
        "colab": {
          "base_uri": "https://localhost:8080/"
        },
        "id": "uG5G-DLZxPpI",
        "outputId": "7b354800-d759-4647-a2e6-17b3fa1a35c7"
      },
      "outputs": [
        {
          "output_type": "stream",
          "name": "stdout",
          "text": [
            "CV train 0.9844510892780863\n",
            "CV test 0.8674506677297189\n"
          ]
        }
      ],
      "source": [
        "# делаем предикт cv\n",
        "pred_train_cv = log_reg_cv.predict(X_train_cv)\n",
        "pred_test_cv = log_reg_cv.predict(X_test_cv)\n",
        "print(f'CV train {accuracy_score(y_train, pred_train_cv)}')\n",
        "print(f'CV test {accuracy_score(y_test, pred_test_cv)}')"
      ]
    },
    {
      "cell_type": "code",
      "execution_count": 45,
      "metadata": {
        "colab": {
          "base_uri": "https://localhost:8080/"
        },
        "id": "Q2XwC5hfxp5y",
        "outputId": "5ee54245-8858-47cd-9434-aeb2f8f446fd"
      },
      "outputs": [
        {
          "output_type": "stream",
          "name": "stdout",
          "text": [
            "TF train 0.9254592054677488\n",
            "TF test 0.8533984452860275\n"
          ]
        }
      ],
      "source": [
        "# делаем предикт idf\n",
        "pred_train_tf = log_reg_tf.predict(X_train_tf)\n",
        "pred_test_tf = log_reg_tf.predict(X_test_tf)\n",
        "print(f'TF train {accuracy_score(y_train, pred_train_tf)}')\n",
        "print(f'TF test {accuracy_score(y_test, pred_test_tf)}')"
      ]
    },
    {
      "cell_type": "markdown",
      "metadata": {
        "id": "8y_wO7rCmv7K"
      },
      "source": [
        "**Ответ:** Обычный векторайзер переобученный, но все равно дает хорошее качество на тесте, tf-idf векторайзер, чуть хуже на тесте, но зато не переобученный на трейне."
      ]
    },
    {
      "cell_type": "markdown",
      "metadata": {
        "id": "rSOR1i3mjrys"
      },
      "source": [
        "## Задание 5 Стемминг (0.5 балла)"
      ]
    },
    {
      "cell_type": "markdown",
      "metadata": {
        "id": "i6ONBWNPjuq-"
      },
      "source": [
        "Для уменьшения словаря можно использовать стемминг.\n",
        "\n",
        "Модифицируйте написанный токенайзер, добавив в него стемминг с использованием SnowballStemmer. Обучите Count- и Tfidf- векторайзеры. Как изменился размер словаря?"
      ]
    },
    {
      "cell_type": "code",
      "execution_count": 46,
      "metadata": {
        "id": "oVfA2-iMkQBb"
      },
      "outputs": [],
      "source": [
        "from nltk.stem.snowball import SnowballStemmer\n",
        "\n",
        "def custom_stem_tokenizer(text):\n",
        "  tw = TweetTokenizer()\n",
        "  tokens = tw.tokenize(text.lower())\n",
        "\n",
        "  noise = stopwords.words(\"english\") + list(punctuation)\n",
        "\n",
        "  fin_tokens = []\n",
        "  for token in tokens:\n",
        "    if token not in noise and not token.startswith('https://t.co'):\n",
        "      if len(token) == 1:\n",
        "        if ord(token) < 128:\n",
        "          fin_tokens.append(token)\n",
        "      else:\n",
        "        fin_tokens.append(token)\n",
        "\n",
        "  stemmer = SnowballStemmer(\"english\")\n",
        "  stemmed_tokens = [stemmer.stem(w) for w in fin_tokens]\n",
        "\n",
        "  return stemmed_tokens"
      ]
    },
    {
      "cell_type": "code",
      "execution_count": 47,
      "metadata": {
        "colab": {
          "base_uri": "https://localhost:8080/"
        },
        "id": "9QmrjYtqnlPd",
        "outputId": "fcf8f3e8-315d-420a-f36c-b1b3d225421b"
      },
      "outputs": [
        {
          "output_type": "execute_result",
          "data": {
            "text/plain": [
              "['sampl', 'text', '@sample_text', '#sampletext', 'ad', 'word', 'check', 'stem']"
            ]
          },
          "metadata": {},
          "execution_count": 47
        }
      ],
      "source": [
        "custom_stem_tokenizer('This is sample text!!!! @Sample_text I, \\x92\\x92 https://t.co/sample  #sampletext adding more words to check stemming')"
      ]
    },
    {
      "cell_type": "code",
      "execution_count": 48,
      "metadata": {
        "colab": {
          "base_uri": "https://localhost:8080/"
        },
        "id": "zAvUTmaplzOS",
        "outputId": "5fb1a016-30d1-47ec-c061-518770e9ec06"
      },
      "outputs": [
        {
          "output_type": "stream",
          "name": "stdout",
          "text": [
            "36652\n"
          ]
        }
      ],
      "source": [
        "\n",
        "cv = CountVectorizer(tokenizer=custom_stem_tokenizer)\n",
        "\n",
        "X_train_cv = cv.fit_transform(train_texts)\n",
        "X_test_cv = cv.transform(test_texts)\n",
        "\n",
        "print(len(cv.vocabulary_))\n",
        "\n",
        "tfidf_vec_x = TfidfVectorizer(tokenizer=custom_stem_tokenizer)\n",
        "\n",
        "X_train_tf = tfidf_vec_x.fit_transform(train_texts)\n",
        "X_test_tf = tfidf_vec_x.transform(test_texts)"
      ]
    },
    {
      "cell_type": "markdown",
      "metadata": {
        "id": "Oyzs5TaAoHP6"
      },
      "source": [
        "**Ответ** Размер словаря уменьшился, то есть у нас стало меньше признаков, это должно помочь."
      ]
    },
    {
      "cell_type": "markdown",
      "metadata": {
        "id": "1OkncHI8oRmd"
      },
      "source": [
        "Обучите логистическую регрессию с использованием обоих векторайзеров. Изменилось ли качество? Есть ли смысл применять стемминг?"
      ]
    },
    {
      "cell_type": "code",
      "execution_count": 49,
      "metadata": {
        "colab": {
          "base_uri": "https://localhost:8080/"
        },
        "id": "ykZJPphEoZ5W",
        "outputId": "92e210f1-414e-4250-a5d8-f009a7790bea"
      },
      "outputs": [
        {
          "output_type": "stream",
          "name": "stdout",
          "text": [
            "CV train 0.9717642033319095\n",
            "CV test 0.8674506677297189\n",
            "TF train 0.9158906450234943\n",
            "TF test 0.8560892963922663\n"
          ]
        }
      ],
      "source": [
        "log_reg_cv = LogisticRegression()\n",
        "log_reg_cv.fit(X_train_cv, y_train)\n",
        "\n",
        "log_reg_tf = LogisticRegression()\n",
        "log_reg_tf.fit(X_train_tf, y_train)\n",
        "\n",
        "pred_train_cv = log_reg_cv.predict(X_train_cv)\n",
        "pred_test_cv = log_reg_cv.predict(X_test_cv)\n",
        "\n",
        "print(f'CV train {accuracy_score(y_train, pred_train_cv)}')\n",
        "print(f'CV test {accuracy_score(y_test, pred_test_cv)}')\n",
        "\n",
        "pred_train_tf = log_reg_tf.predict(X_train_tf)\n",
        "pred_test_tf = log_reg_tf.predict(X_test_tf)\n",
        "\n",
        "print(f'TF train {accuracy_score(y_train, pred_train_tf)}')\n",
        "print(f'TF test {accuracy_score(y_test, pred_test_tf)}')"
      ]
    },
    {
      "cell_type": "markdown",
      "metadata": {
        "id": "bCRlrODro0h8"
      },
      "source": [
        "**Ответ:** Качество чуть-чуть упало на обеих моделях, стемминг не помог."
      ]
    },
    {
      "cell_type": "markdown",
      "metadata": {
        "id": "hYWGQNEDqLC-"
      },
      "source": [
        "## Задание  6 Работа с частотами (1.5 балла)"
      ]
    },
    {
      "cell_type": "markdown",
      "metadata": {
        "id": "8Hq-tl5mqUSn"
      },
      "source": [
        "Еще один способ уменьшить количество признаков - это использовать параметры min_df и max_df при построении векторайзера  эти параметры помогают ограничить требуемую частоту встречаемости токена в документах.\n",
        "\n",
        "По умолчанию берутся все токены, которые встретились хотя бы один раз.\n",
        "\n"
      ]
    },
    {
      "cell_type": "markdown",
      "metadata": {
        "id": "m1SiD4DE3WZ2"
      },
      "source": [
        "Подберите max_df такой, что размер словаря будет 36651 (на 1 меньше, чем было). Почему параметр получился такой большой/маленький?"
      ]
    },
    {
      "cell_type": "code",
      "execution_count": 50,
      "metadata": {
        "colab": {
          "base_uri": "https://localhost:8080/"
        },
        "id": "o3YLb8PViExb",
        "outputId": "5e6c1243-a3e0-430b-9d9d-3b27dab471de"
      },
      "outputs": [
        {
          "output_type": "stream",
          "name": "stdout",
          "text": [
            "36651\n"
          ]
        }
      ],
      "source": [
        "cv_df = CountVectorizer(tokenizer=custom_stem_tokenizer,\n",
        "                        max_df=0.3\n",
        "                        ).fit(\n",
        "                            train_texts\n",
        "                            )\n",
        "print(len(cv_df.vocabulary_))"
      ]
    },
    {
      "cell_type": "markdown",
      "metadata": {
        "id": "UdZYoGZR4UsA"
      },
      "source": [
        "**Ответ:** Параметр получился довольно маленький, так как у нас мало очень часто встречающихся слов."
      ]
    },
    {
      "cell_type": "markdown",
      "metadata": {
        "id": "_gRIUaB1u32f"
      },
      "source": [
        "Подберите min_df (используйте дефолтное значение max_df) в CountVectorizer таким образом, чтобы размер словаря был 3700 токенов (при использовании токенайзера со стеммингом), а качество осталось таким же, как и было. Что можно сказать о результатах?"
      ]
    },
    {
      "cell_type": "code",
      "execution_count": 51,
      "metadata": {
        "colab": {
          "base_uri": "https://localhost:8080/"
        },
        "id": "kSnMJkn9XmsT",
        "outputId": "15cb3e79-20b0-443c-cb27-ad0ebbc0ef43"
      },
      "outputs": [
        {
          "output_type": "stream",
          "name": "stdout",
          "text": [
            "3700\n"
          ]
        }
      ],
      "source": [
        "cv_df = CountVectorizer(tokenizer=custom_stem_tokenizer,\n",
        "                        min_df=0.00045\n",
        "                        ).fit(\n",
        "                            train_texts\n",
        "                            )\n",
        "print(len(cv_df.vocabulary_))"
      ]
    },
    {
      "cell_type": "markdown",
      "metadata": {
        "id": "3fGYpUIZx0fk"
      },
      "source": [
        "**Ответ:** min_df очень маленький, то есть большинство слов встречаются редко"
      ]
    },
    {
      "cell_type": "markdown",
      "metadata": {
        "id": "Gx_h_-inKbBl"
      },
      "source": [
        "В предыдущих заданиях признаки не скалировались. Отскалируйте данные (при словаре размера 3.7 тысяч, векторизованные CountVectorizer), обучите логистическую регрессию, посмотрите качество и выведите `berplot` содержащий по 10 токенов, с наибольшим по модулю положительными/отрицательными весами. Что можно сказать об этих токенах?"
      ]
    },
    {
      "cell_type": "code",
      "execution_count": 52,
      "metadata": {
        "colab": {
          "base_uri": "https://localhost:8080/"
        },
        "id": "KBATXJX6LG9q",
        "outputId": "6e32e942-c96a-4f05-84d9-13c4a29fecb2"
      },
      "outputs": [
        {
          "output_type": "stream",
          "name": "stdout",
          "text": [
            "Train accuracy: 0.9416915847928236\n",
            "Test accuracy: 0.8446282639027307\n"
          ]
        }
      ],
      "source": [
        "from sklearn.preprocessing import StandardScaler\n",
        "\n",
        "X_train_transformed = cv_df.transform(train_texts)\n",
        "X_test_transformed = cv_df.transform(test_texts)\n",
        "\n",
        "scaler = StandardScaler()\n",
        "X_train_scaled = scaler.fit_transform(X_train_transformed.toarray())\n",
        "X_test_scaled = scaler.transform(X_test_transformed.toarray())\n",
        "\n",
        "model = LogisticRegression()\n",
        "model.fit(X_train_scaled, y_train)\n",
        "\n",
        "accuracy_train = model.score(X_train_scaled, y_train)\n",
        "accuracy_test = accuracy_score(y_test, model.predict(X_test_scaled))\n",
        "print(f\"Train accuracy: {accuracy_train}\")\n",
        "print(f\"Test accuracy: {accuracy_test}\")"
      ]
    },
    {
      "cell_type": "code",
      "execution_count": 53,
      "metadata": {
        "colab": {
          "base_uri": "https://localhost:8080/",
          "height": 718
        },
        "id": "lw28f4d4ApHS",
        "outputId": "38c9ed84-3566-472a-9146-b9ad4abaa146"
      },
      "outputs": [
        {
          "output_type": "display_data",
          "data": {
            "text/plain": [
              "<Figure size 1000x800 with 1 Axes>"
            ],
            "image/png": "[encoded data removed]"
          },
          "metadata": {}
        }
      ],
      "source": [
        "# вытаскиваем имена признаков\n",
        "feature_names = cv_df.get_feature_names_out()\n",
        "# сортируем их по коэффициентам\n",
        "coefs_with_fns = sorted(zip(model.coef_[0], feature_names))\n",
        "\n",
        "top_negative_tokens = coefs_with_fns[:10]\n",
        "top_positive_tokens = coefs_with_fns[-10:]\n",
        "\n",
        "# Построение barplot для токенов\n",
        "top_tokens = top_negative_tokens + top_positive_tokens\n",
        "values, names = zip(*top_tokens)\n",
        "\n",
        "plt.figure(figsize=(10, 8))\n",
        "plt.barh(names, values)\n",
        "plt.xlabel(\"Coefficient Value\")\n",
        "plt.ylabel(\"Token\")\n",
        "plt.title(\"Top 10 tokens with the most positive/negative weights\")\n",
        "plt.show()"
      ]
    },
    {
      "cell_type": "markdown",
      "metadata": {
        "id": "ThcEfzY1LHET"
      },
      "source": [
        "**Ответ:** Качество упало, хотя веса токен определены достаточно хорошо, возможно проблемы возникают из-за нейтральных токенов."
      ]
    },
    {
      "cell_type": "markdown",
      "metadata": {
        "id": "ktJVOdrIHq7B"
      },
      "source": [
        "## Задание 7 Другие признаки (1.5 балла)"
      ]
    },
    {
      "cell_type": "markdown",
      "metadata": {
        "id": "Yt3jRCZ2H0Og"
      },
      "source": [
        "Мы были сконцентрированы на работе с текстами твиттов и не использовали другие признаки - имена пользователя, дату и местоположение"
      ]
    },
    {
      "cell_type": "markdown",
      "metadata": {
        "id": "52wjewCCo_di"
      },
      "source": [
        "Изучите признаки UserName и ScreenName. полезны ли они? Если полезны, то закодируйте их, добавьте к матрице с отскалированными признаками, обучите логистическую регрессию, замерьте качество."
      ]
    },
    {
      "cell_type": "markdown",
      "metadata": {
        "id": "r8_qR-gnpT3a"
      },
      "source": [
        "**Ответ:** Как будто кажется, что эти признаки не будут влиять, потому что это просто числа, в них даже нет смысла имени пользователя."
      ]
    },
    {
      "cell_type": "markdown",
      "metadata": {
        "id": "ythEcFSkt7y3"
      },
      "source": [
        "Изучите признак TweetAt в обучающей выборке: преобразуйте его к типу datetime и нарисуйте его гистограмму с разделением по цвету на оспнове целевой переменной. Полезен ли он? Если полезен, то закодируйте его, добавьте к матрице с отскалированными признаками, обучите логистическую регрессию, замерьте качество."
      ]
    },
    {
      "cell_type": "code",
      "execution_count": 54,
      "metadata": {
        "colab": {
          "base_uri": "https://localhost:8080/",
          "height": 564
        },
        "id": "8-xssglZH221",
        "outputId": "f8aff4dc-e912-4a96-e7ff-9535e1a5f596"
      },
      "outputs": [
        {
          "output_type": "display_data",
          "data": {
            "text/plain": [
              "<Figure size 1000x600 with 1 Axes>"
            ],
            "image/png": "[encoded data removed]"
          },
          "metadata": {}
        }
      ],
      "source": [
        "date_tweet = pd.to_datetime(train['TweetAt'], format='mixed')\n",
        "\n",
        "grouped = train.groupby([date_tweet.dt.date, 'Sentiment']).size().reset_index(name='counts')\n",
        "\n",
        "plt.figure(figsize=(10, 6))\n",
        "\n",
        "for sentiment in range(1, -1, -1):\n",
        "    dates = grouped[grouped['Sentiment'] == sentiment]['TweetAt']\n",
        "    counts = grouped[grouped['Sentiment'] == sentiment]['counts']\n",
        "    plt.bar(dates, counts, label=f'Sentiment {sentiment}', alpha=1 if sentiment == 1 else 1.0)\n",
        "\n",
        "plt.xlabel('Date')\n",
        "plt.ylabel('Number of Tweets')\n",
        "plt.title('Distribution of Tweets Over Time by Sentiment')\n",
        "plt.legend()\n",
        "plt.show()"
      ]
    },
    {
      "cell_type": "markdown",
      "metadata": {
        "id": "4IdLBdpQxM-G"
      },
      "source": [
        "**Ответ:** У нас нет возможности как-то разделить классы, у нас одинаковое распределение по датам у классов.\n",
        "\n"
      ]
    },
    {
      "cell_type": "markdown",
      "metadata": {
        "id": "r2JtRPhNP6qx"
      },
      "source": [
        "Поработайте с признаком Location в обучающей выборке. Сколько уникальных значений?"
      ]
    },
    {
      "cell_type": "code",
      "execution_count": 55,
      "metadata": {
        "colab": {
          "base_uri": "https://localhost:8080/"
        },
        "id": "xYQZQ1FRNpoe",
        "outputId": "f4700c27-14e0-4c58-846e-307482e5a636"
      },
      "outputs": [
        {
          "output_type": "execute_result",
          "data": {
            "text/plain": [
              "Location\n",
              "Unknown                           4944\n",
              "London                             301\n",
              "United States                      295\n",
              "London, England                    274\n",
              "New York, NY                       223\n",
              "                                  ... \n",
              "Work: Kent and Live: Sussex          1\n",
              "Somewhere on TradingView             1\n",
              "Honolulu, Hawai?i                    1\n",
              "SFO                                  1\n",
              "Waterville, Ireland Austin, TX       1\n",
              "Name: count, Length: 7949, dtype: int64"
            ]
          },
          "metadata": {},
          "execution_count": 55
        }
      ],
      "source": [
        "train['Location'].value_counts()"
      ]
    },
    {
      "cell_type": "markdown",
      "metadata": {
        "id": "6k4JwpRTQISa"
      },
      "source": [
        "Постройте гистограмму топ-10 по популярности местоположений (исключая Unknown)"
      ]
    },
    {
      "cell_type": "code",
      "execution_count": 56,
      "metadata": {
        "colab": {
          "base_uri": "https://localhost:8080/",
          "height": 607
        },
        "id": "LVxoQMWkTrko",
        "outputId": "e23eea93-7fbb-4086-ce27-249991b752af"
      },
      "outputs": [
        {
          "output_type": "display_data",
          "data": {
            "text/plain": [
              "<Figure size 1000x600 with 1 Axes>"
            ],
            "image/png": "[encoded data removed]"
          },
          "metadata": {}
        }
      ],
      "source": [
        "top_locations = train['Location'].value_counts().drop(\"Unknown\")[:10]\n",
        "columns = top_locations.index\n",
        "\n",
        "plt.figure(figsize=(10, 6))\n",
        "plt.bar(columns, top_locations)\n",
        "plt.xticks(rotation=45, ha='right')\n",
        "plt.ylabel('Frequency')\n",
        "plt.title('Top 10 Most Popular Locations')\n",
        "plt.tight_layout()\n",
        "plt.show()"
      ]
    },
    {
      "cell_type": "markdown",
      "metadata": {
        "id": "ZOsv3lODTfYB"
      },
      "source": [
        "Видно, что многие местоположения включают в себя более точное название места, чем другие (Например, у некоторых стоит London, UK; а у некоторых просто UK или United Kingdom).\n",
        "\n",
        "Создайте новый признак WiderLocation, который содержит самое широкое местоположение (например, из London, UK должно получиться UK). Сколько уникальных категорий теперь? Постройте аналогичную гистограмму."
      ]
    },
    {
      "cell_type": "code",
      "execution_count": 57,
      "metadata": {
        "colab": {
          "base_uri": "https://localhost:8080/",
          "height": 833
        },
        "id": "rha2KnZoXl9o",
        "outputId": "bdc3c30e-80b7-47b4-aed0-eac56894b9db"
      },
      "outputs": [
        {
          "output_type": "display_data",
          "data": {
            "text/plain": [
              "<Figure size 1000x600 with 1 Axes>"
            ],
            "image/png": "[encoded data removed]"
          },
          "metadata": {}
        },
        {
          "output_type": "execute_result",
          "data": {
            "text/plain": [
              "WiderLocation\n",
              "USA               6372\n",
              "Unknown           4944\n",
              "UK                2444\n",
              "India              547\n",
              "Canada             294\n",
              "                  ... \n",
              "& Australia          1\n",
              "-122.289805          1\n",
              "Karad Maharash       1\n",
              "HCMC Vietnam         1\n",
              "hyderabad            1\n",
              "Name: count, Length: 3668, dtype: int64"
            ]
          },
          "metadata": {},
          "execution_count": 57
        }
      ],
      "source": [
        "# тяжело...\n",
        "# я взял с интернета abbreviations, это американские штаты\n",
        "abbreviations = [\n",
        "    \"AK\", \"AL\", \"AR\", \"AZ\", \"CA\", \"CO\", \"CT\", \"DE\", \"FL\", \"GA\", \"HI\", \"IA\",\n",
        "    \"ID\", \"IL\", \"IN\", \"KS\", \"KY\", \"LA\", \"MA\", \"MD\", \"ME\", \"MI\", \"MN\", \"MO\",\n",
        "    \"MS\", \"MT\", \"NC\", \"ND\", \"NE\", \"NH\", \"NJ\", \"NM\", \"NV\", \"NY\", \"OH\", \"OK\",\n",
        "    \"OR\", \"PA\", \"RI\", \"SC\", \"SD\", \"TN\", \"TX\", \"UT\", \"VA\", \"VT\", \"WA\", \"WI\",\n",
        "    \"WV\", \"WY\",\"DC\",\"AS\", \"GU\", \"MP\", \"PR\", \"VI\",\n",
        "]\n",
        "\n",
        "contr = {\"UK\": [\"UK\", \"London\", \"England\", \"United Kingdom\", \"Scotland\"],\n",
        "         \"USA\": [\"USA\", \"United States\", \"New York\",\n",
        "                 \"Los Angeleles\", \"Washington\", \"Chicago\", \"Ontario\",\n",
        "                 \"Texas\",\"California\"] + abbreviations}\n",
        "\n",
        "# функция, которая проверяет находится ли местоположениние в словаре contr\n",
        "def assign_wider_location(location, contr):\n",
        "    for wider_location, locations in contr.items():\n",
        "        if any(loc in location for loc in locations):\n",
        "            return wider_location\n",
        "    return location\n",
        "\n",
        "# берем последнее название из строки(London, UK -> UK) и применяем функцию выше\n",
        "train['WiderLocation'] = train['Location'].str.split(',').str[-1].str.strip().apply(lambda x: assign_wider_location(x, contr))\n",
        "test['WiderLocation'] = test['Location'].apply(lambda x: assign_wider_location(x, contr) if pd.notnull(x) else x)\n",
        "\n",
        "# берем топ 10 лучших локация\n",
        "top_wider_locations = train['WiderLocation'].value_counts().drop(\"Unknown\")[:10]\n",
        "\n",
        "\n",
        "plt.figure(figsize=(10, 6))\n",
        "plt.bar(top_wider_locations.index, top_wider_locations.values)\n",
        "plt.xticks(rotation=45, ha='right')\n",
        "plt.ylabel('Frequency')\n",
        "plt.title('Top Wider Locations based on Dictionary Mapping')\n",
        "plt.tight_layout()\n",
        "plt.show()\n",
        "\n",
        "train['WiderLocation'].value_counts()"
      ]
    },
    {
      "cell_type": "markdown",
      "metadata": {
        "id": "cgyWrD2eVfff"
      },
      "source": [
        "Закодируйте признак WiderLocation с помощью OHE таким образом, чтобы создались только столбцы для местоположений, которые встречаются более одного раза. Сколько таких значений?\n"
      ]
    },
    {
      "cell_type": "code",
      "execution_count": 58,
      "metadata": {
        "colab": {
          "base_uri": "https://localhost:8080/"
        },
        "id": "SeJBfBWgPvg_",
        "outputId": "25fbdf4d-30de-49ea-f03f-9b885e59bf0a"
      },
      "outputs": [
        {
          "output_type": "stream",
          "name": "stdout",
          "text": [
            "Количество локаций, которые встречаются больше одного раза: 800\n"
          ]
        }
      ],
      "source": [
        "from sklearn.preprocessing import OneHotEncoder\n",
        "\n",
        "location_counts = train['WiderLocation'].value_counts()\n",
        "\n",
        "locations_to_encode = location_counts[location_counts > 1].index\n",
        "\n",
        "# создаем экземпляр OneHotEncoder, указываем категории, и устанавливаем drop='if_binary' для уменьшения количественности признаков\n",
        "encoder = OneHotEncoder(categories=[locations_to_encode], drop='if_binary', sparse=False, handle_unknown=\"ignore\")\n",
        "\n",
        "# обучаем энкодер и преобразуем 'WiderLocation'\n",
        "train_ohe = encoder.fit_transform(train[['WiderLocation']])\n",
        "test_ohe = encoder.transform(test[['WiderLocation']])\n",
        "\n",
        "num_ohe_features = train_ohe.shape[1]\n",
        "\n",
        "print(f\"Количество локаций, которые встречаются больше одного раза: {num_ohe_features}\")"
      ]
    },
    {
      "cell_type": "markdown",
      "metadata": {
        "id": "ZyMX5kZuimPK"
      },
      "source": [
        "Добавьте этот признак к матрице отскалированных текстовых признаков, обучите логистическую регрессию, замерьте качество. Как оно изменилось? Оказался ли признак полезным?\n",
        "\n",
        "\n",
        "*Подсказка:* используйте параметр `categories` в энкодере."
      ]
    },
    {
      "cell_type": "code",
      "execution_count": 59,
      "metadata": {
        "colab": {
          "base_uri": "https://localhost:8080/"
        },
        "id": "EO1jNPeeim7A",
        "outputId": "a193e96e-723e-402f-b61a-2d65de6d5d3e"
      },
      "outputs": [
        {
          "output_type": "stream",
          "name": "stdout",
          "text": [
            "Accuracy train: 0.944596326356258\n",
            "Accuracy test: 0.8444289415985649\n"
          ]
        }
      ],
      "source": [
        "X_train_combined = np.hstack((X_train_scaled, train_ohe))\n",
        "X_test_combined = np.hstack((X_test_scaled, test_ohe))\n",
        "\n",
        "model = LogisticRegression()\n",
        "model.fit(X_train_combined, train['Sentiment'])\n",
        "\n",
        "predictions_train = model.predict(X_train_combined)\n",
        "predictions_test = model.predict(X_test_combined)\n",
        "\n",
        "accuracy_train = accuracy_score(train['Sentiment'], predictions_train)\n",
        "accuracy_test = accuracy_score(test['Sentiment'], predictions_test)\n",
        "\n",
        "print(f'Accuracy train: {accuracy_train}')\n",
        "print(f'Accuracy test: {accuracy_test}')"
      ]
    },
    {
      "cell_type": "markdown",
      "metadata": {
        "id": "7dHsGlDRYUQt"
      },
      "source": [
        "**Ответ:** Качество на тесте упало, признак бесполезен."
      ]
    },
    {
      "cell_type": "markdown",
      "metadata": {
        "id": "o3se5bEiy_jf"
      },
      "source": [
        "## Задание 8 Хорошее качество (Бонус 1 балл)"
      ]
    },
    {
      "cell_type": "markdown",
      "source": [
        "Сделаем предобработку данных"
      ],
      "metadata": {
        "id": "DmSniimpHqwy"
      }
    },
    {
      "cell_type": "code",
      "execution_count": 68,
      "metadata": {
        "id": "OAOa2o_g7qPG"
      },
      "outputs": [],
      "source": [
        "stop_word = stopwords.words('english')"
      ]
    },
    {
      "cell_type": "code",
      "execution_count": 69,
      "metadata": {
        "id": "ph3wygIx7xgC"
      },
      "outputs": [],
      "source": [
        "import re\n",
        "def clean(text):\n",
        "\n",
        "    text = re.sub(r'http\\S+', \" \", text)\n",
        "\n",
        "    text = re.sub(r'@\\w+',' ',text)\n",
        "\n",
        "    text = re.sub(r'#\\w+', ' ', text)\n",
        "\n",
        "    text = re.sub(r'\\d+', ' ', text)\n",
        "\n",
        "    text = re.sub('r<.*?>',' ', text)\n",
        "\n",
        "    text = text.split()\n",
        "    text = \" \".join([word for word in text if not word in stop_word])\n",
        "\n",
        "\n",
        "    return text"
      ]
    },
    {
      "cell_type": "code",
      "execution_count": 70,
      "metadata": {
        "id": "d_h1xNghJOOU"
      },
      "outputs": [],
      "source": [
        "train['OriginalTweet'] = train['OriginalTweet'].apply(lambda x: clean(x))\n",
        "test['OriginalTweet'] = test['OriginalTweet'].apply(lambda x: clean(x))"
      ]
    },
    {
      "cell_type": "code",
      "execution_count": 71,
      "metadata": {
        "id": "ErrgJWvDI1Ad"
      },
      "outputs": [],
      "source": [
        "import string\n",
        "\n",
        "def strip_all_entities(text):\n",
        "    text = text.replace('\\r', '').replace('\\n', ' ').replace('\\n', ' ').lower()\n",
        "    text = re.sub(r\"(?:\\@|https?\\://)\\S+\", \"\", text)\n",
        "    text = re.sub(r'[^\\x00-\\x7f]',r'', text)\n",
        "    banned_list= string.punctuation + 'Ã'+'±'+'ã'+'¼'+'â'+'»'+'§'\n",
        "    table = str.maketrans('', '', banned_list)\n",
        "    text = text.translate(table)\n",
        "    return text\n",
        "\n",
        "\n",
        "def clean_hashtags(tweet):\n",
        "    new_tweet = \" \".join(word.strip() for word in re.split('#(?!(?:hashtag)\\b)[\\w-]+(?=(?:\\s+#[\\w-]+)*\\s*$)', tweet))\n",
        "    new_tweet2 = \" \".join(word.strip() for word in re.split('#|_', new_tweet))\n",
        "    return new_tweet2\n",
        "\n",
        "def filter_chars(a):\n",
        "    sent = []\n",
        "    for word in a.split(' '):\n",
        "        if ('$' in word) | ('&' in word):\n",
        "            sent.append('')\n",
        "        else:\n",
        "            sent.append(word)\n",
        "    return ' '.join(sent)\n",
        "\n",
        "def remove_mult_spaces(text):\n",
        "    return re.sub(\"\\s\\s+\" , \" \", text)"
      ]
    },
    {
      "cell_type": "code",
      "execution_count": 72,
      "metadata": {
        "id": "dTKO08sXI5zA"
      },
      "outputs": [],
      "source": [
        "texts_new = []\n",
        "for t in train['OriginalTweet']:\n",
        "    texts_new.append(remove_mult_spaces(filter_chars(clean_hashtags(strip_all_entities(t)))))"
      ]
    },
    {
      "cell_type": "code",
      "execution_count": 73,
      "metadata": {
        "id": "ll4__vC6I8dD"
      },
      "outputs": [],
      "source": [
        "texts_new_test = []\n",
        "for t in test['OriginalTweet']:\n",
        "    texts_new_test.append(remove_mult_spaces(filter_chars(clean_hashtags(strip_all_entities(t)))))"
      ]
    },
    {
      "cell_type": "markdown",
      "source": [
        "Теперь у нас есть трейн и тест, они почищенные"
      ],
      "metadata": {
        "id": "eoRg15O4Hwn5"
      }
    },
    {
      "cell_type": "code",
      "execution_count": 299,
      "metadata": {
        "colab": {
          "base_uri": "https://localhost:8080/"
        },
        "id": "jzhQD3xP8BHD",
        "outputId": "6d229b5d-0154-4bab-ad8d-6619b069f828"
      },
      "outputs": [
        {
          "output_type": "execute_result",
          "data": {
            "text/plain": [
              "['why still want buy much stuff quarantine',\n",
              " 'with driving even usage strong strategy critical ever luckily april webinar dive growing app awareness targeting high lifetime value users',\n",
              " 'i happy great job',\n",
              " 'the us national debt likely exceed trillion unprecedented borrowing trump administration mnuchins treasury crisis the federal reserve could much cushion blow us consumer led economy brink',\n",
              " 'finally got grocery store honestly people toilet paper',\n",
              " 'friends catholic universitys food service workers laid without pay by contrast georgetown set example consistent catholic social teaching please sign rt',\n",
              " 'its times like understand value bidet',\n",
              " 'regulatory litigation risks consumer financial services providers highlighted ballard spahr webinar covid crisis fallout via',\n",
              " 'please panic buying ive struggled get basics people emptying shelves please sensible food shortage shop workers time restock shelves if were sensible life slightly easiertake care',\n",
              " 'at least essential services allowed go grocery store bank its ridiculous i actually act like going types places necessary i get stopped police']"
            ]
          },
          "metadata": {},
          "execution_count": 299
        }
      ],
      "source": [
        "texts_new[:10]"
      ]
    },
    {
      "cell_type": "code",
      "execution_count": 289,
      "metadata": {
        "id": "qhUhPqkbFtZ1"
      },
      "outputs": [],
      "source": [
        "from nltk.stem.snowball import SnowballStemmer, PorterStemmer\n",
        "from nltk.tokenize import TweetTokenizer, NLTKWordTokenizer, MWETokenizer, WhitespaceTokenizer\n",
        "\n",
        "def custom_stem_tokenizer(text):\n",
        "  tw = WhitespaceTokenizer()\n",
        "  tokens = tw.tokenize(text.lower())\n",
        "\n",
        "  tw_1 = MWETokenizer()\n",
        "  tokens = tw_1.tokenize(tokens)\n",
        "\n",
        "\n",
        "  noise = stopwords.words(\"english\") + list(punctuation)\n",
        "\n",
        "  fin_tokens = []\n",
        "  for token in tokens:\n",
        "\n",
        "    if token not in noise and 'https' not in token:\n",
        "      if len(token) == 1:\n",
        "        if ord(token) < 128:\n",
        "          fin_tokens.append(token)\n",
        "      else:\n",
        "        fin_tokens.append(token)\n",
        "\n",
        "  stemmer = SnowballStemmer('english')\n",
        "  # stemmer = PorterStemmer()\n",
        "  stemmed_tokens = [stemmer.stem(w) for w in fin_tokens]\n",
        "\n",
        "  return fin_tokens"
      ]
    },
    {
      "cell_type": "code",
      "source": [
        "cv = CountVectorizer(tokenizer=custom_stem_tokenizer,\n",
        "                              )\n",
        "X_train_cv = cv.fit_transform(texts_new)\n",
        "X_test_cv = cv.transform(texts_new_test)\n",
        "\n",
        "print(len(cv.vocabulary_))"
      ],
      "metadata": {
        "colab": {
          "base_uri": "https://localhost:8080/"
        },
        "id": "0gIRGpGl_bjo",
        "outputId": "3eab58d0-d06c-4467-bca0-41d8f56e0c6e"
      },
      "execution_count": 296,
      "outputs": [
        {
          "output_type": "stream",
          "name": "stdout",
          "text": [
            "27775\n"
          ]
        }
      ]
    },
    {
      "cell_type": "code",
      "execution_count": 297,
      "metadata": {
        "id": "0C83NaSZ_S67"
      },
      "outputs": [],
      "source": [
        "scaler_cv = StandardScaler(with_mean=False)\n",
        "X_train_scaled_tf = scaler_cv.fit_transform(X_train_cv)\n",
        "X_test_scaled_tf = scaler_cv.transform(X_test_cv)"
      ]
    },
    {
      "cell_type": "code",
      "execution_count": 79,
      "metadata": {
        "id": "EcLfTBRbQ-1O"
      },
      "outputs": [],
      "source": [
        "# !pip install optuna"
      ]
    },
    {
      "cell_type": "code",
      "execution_count": 300,
      "metadata": {
        "colab": {
          "base_uri": "https://localhost:8080/"
        },
        "id": "xNryh9h1_H1z",
        "outputId": "8da892b5-7871-4413-d006-c7bf92fccf82"
      },
      "outputs": [
        {
          "output_type": "stream",
          "name": "stderr",
          "text": [
            "[I 2024-05-12 23:25:29,209] A new study created in memory with name: no-name-2ebfc7d6-c6c6-4bee-9189-caac2e5aa3bb\n",
            "[I 2024-05-12 23:25:29,281] Trial 0 finished with value: 0.8526011560693642 and parameters: {'C': 0.0067066121198834225, 'penalty': 'l1', 'class_weight': None}. Best is trial 0 with value: 0.8526011560693642.\n",
            "[I 2024-05-12 23:25:29,590] Trial 1 finished with value: 0.8214072154674108 and parameters: {'C': 0.0021680639082475276, 'penalty': 'l2', 'class_weight': 'balanced'}. Best is trial 0 with value: 0.8526011560693642.\n",
            "[I 2024-05-12 23:25:30,782] Trial 2 finished with value: 0.8042654973091489 and parameters: {'C': 0.4672102213153434, 'penalty': 'l2', 'class_weight': None}. Best is trial 0 with value: 0.8526011560693642.\n",
            "[I 2024-05-12 23:25:31,558] Trial 3 finished with value: 0.8209089097069963 and parameters: {'C': 0.0023650097579581836, 'penalty': 'l2', 'class_weight': 'balanced'}. Best is trial 0 with value: 0.8526011560693642.\n",
            "[I 2024-05-12 23:25:31,980] Trial 4 finished with value: 0.8532987841339446 and parameters: {'C': 1.9282208361447823, 'penalty': 'l1', 'class_weight': None}. Best is trial 4 with value: 0.8532987841339446.\n",
            "[I 2024-05-12 23:25:34,985] Trial 5 finished with value: 0.7972892166633446 and parameters: {'C': 3.3470914413256247, 'penalty': 'l2', 'class_weight': None}. Best is trial 4 with value: 0.8532987841339446.\n",
            "[I 2024-05-12 23:25:35,680] Trial 6 finished with value: 0.8115407614112019 and parameters: {'C': 0.05608408820753912, 'penalty': 'l2', 'class_weight': 'balanced'}. Best is trial 4 with value: 0.8532987841339446.\n",
            "[I 2024-05-12 23:25:35,761] Trial 7 finished with value: 0.7958939605341838 and parameters: {'C': 1.6135159551666174e-05, 'penalty': 'l2', 'class_weight': 'balanced'}. Best is trial 4 with value: 0.8532987841339446.\n",
            "[I 2024-05-12 23:25:37,152] Trial 8 finished with value: 0.7952959936216862 and parameters: {'C': 8.265074946105786, 'penalty': 'l2', 'class_weight': None}. Best is trial 4 with value: 0.8532987841339446.\n",
            "[I 2024-05-12 23:25:37,248] Trial 9 finished with value: 0.8556906517839347 and parameters: {'C': 0.006988374983078553, 'penalty': 'l1', 'class_weight': None}. Best is trial 9 with value: 0.8556906517839347.\n",
            "[I 2024-05-12 23:25:37,292] Trial 10 finished with value: 0.4536575642814431 and parameters: {'C': 9.839983633485458e-05, 'penalty': 'l1', 'class_weight': None}. Best is trial 9 with value: 0.8556906517839347.\n",
            "[I 2024-05-12 23:25:37,466] Trial 11 finished with value: 0.8828981463025712 and parameters: {'C': 0.08515706396126148, 'penalty': 'l1', 'class_weight': None}. Best is trial 11 with value: 0.8828981463025712.\n",
            "[I 2024-05-12 23:25:37,645] Trial 12 finished with value: 0.8823001793900738 and parameters: {'C': 0.09114721863646001, 'penalty': 'l1', 'class_weight': None}. Best is trial 11 with value: 0.8828981463025712.\n",
            "[I 2024-05-12 23:25:37,831] Trial 13 finished with value: 0.8826988239984054 and parameters: {'C': 0.09007359457056201, 'penalty': 'l1', 'class_weight': None}. Best is trial 11 with value: 0.8828981463025712.\n",
            "[I 2024-05-12 23:25:38,048] Trial 14 finished with value: 0.8777157663942595 and parameters: {'C': 0.13918119054005057, 'penalty': 'l1', 'class_weight': None}. Best is trial 11 with value: 0.8828981463025712.\n",
            "[I 2024-05-12 23:25:38,174] Trial 15 finished with value: 0.8933625672712776 and parameters: {'C': 0.02949218186698712, 'penalty': 'l1', 'class_weight': None}. Best is trial 15 with value: 0.8933625672712776.\n",
            "[I 2024-05-12 23:25:38,229] Trial 16 finished with value: 0.64719952162647 and parameters: {'C': 0.0009167392600226399, 'penalty': 'l1', 'class_weight': None}. Best is trial 15 with value: 0.8933625672712776.\n",
            "[I 2024-05-12 23:25:38,341] Trial 17 finished with value: 0.8928642615108631 and parameters: {'C': 0.020623187971076127, 'penalty': 'l1', 'class_weight': None}. Best is trial 15 with value: 0.8933625672712776.\n",
            "[I 2024-05-12 23:25:38,377] Trial 18 finished with value: 0.4536575642814431 and parameters: {'C': 0.0003219581264606197, 'penalty': 'l1', 'class_weight': 'balanced'}. Best is trial 15 with value: 0.8933625672712776.\n",
            "[I 2024-05-12 23:25:38,494] Trial 19 finished with value: 0.8909706996212876 and parameters: {'C': 0.018905328530217806, 'penalty': 'l1', 'class_weight': None}. Best is trial 15 with value: 0.8933625672712776.\n",
            "[I 2024-05-12 23:25:38,756] Trial 20 finished with value: 0.8603747259318317 and parameters: {'C': 0.6908573033173957, 'penalty': 'l1', 'class_weight': None}. Best is trial 15 with value: 0.8933625672712776.\n",
            "[I 2024-05-12 23:25:38,877] Trial 21 finished with value: 0.8925652780546143 and parameters: {'C': 0.021164397666445293, 'penalty': 'l1', 'class_weight': None}. Best is trial 15 with value: 0.8933625672712776.\n",
            "[I 2024-05-12 23:25:38,990] Trial 22 finished with value: 0.8910703607733705 and parameters: {'C': 0.01837830049699526, 'penalty': 'l1', 'class_weight': None}. Best is trial 15 with value: 0.8933625672712776.\n",
            "[I 2024-05-12 23:25:39,116] Trial 23 finished with value: 0.8934622284233605 and parameters: {'C': 0.024449026968847064, 'penalty': 'l1', 'class_weight': None}. Best is trial 23 with value: 0.8934622284233605.\n",
            "[I 2024-05-12 23:25:39,348] Trial 24 finished with value: 0.8707394857484553 and parameters: {'C': 0.2971384075704888, 'penalty': 'l1', 'class_weight': None}. Best is trial 23 with value: 0.8934622284233605.\n",
            "[I 2024-05-12 23:25:39,418] Trial 25 finished with value: 0.7735698624676102 and parameters: {'C': 0.003025615147218428, 'penalty': 'l1', 'class_weight': None}. Best is trial 23 with value: 0.8934622284233605.\n",
            "[I 2024-05-12 23:25:39,456] Trial 26 finished with value: 0.4536575642814431 and parameters: {'C': 0.0004100121695914193, 'penalty': 'l1', 'class_weight': 'balanced'}. Best is trial 23 with value: 0.8934622284233605.\n",
            "[I 2024-05-12 23:25:39,587] Trial 27 finished with value: 0.8921666334462827 and parameters: {'C': 0.03173544813080788, 'penalty': 'l1', 'class_weight': None}. Best is trial 23 with value: 0.8934622284233605.\n",
            "[I 2024-05-12 23:25:39,665] Trial 28 finished with value: 0.8638628662547339 and parameters: {'C': 0.008158377753134395, 'penalty': 'l1', 'class_weight': None}. Best is trial 23 with value: 0.8934622284233605.\n",
            "[I 2024-05-12 23:25:39,898] Trial 29 finished with value: 0.8714371138130357 and parameters: {'C': 0.2645504709665341, 'penalty': 'l1', 'class_weight': None}. Best is trial 23 with value: 0.8934622284233605.\n",
            "[I 2024-05-12 23:25:39,963] Trial 30 finished with value: 0.8068566872633047 and parameters: {'C': 0.004040447376033483, 'penalty': 'l1', 'class_weight': None}. Best is trial 23 with value: 0.8934622284233605.\n",
            "[I 2024-05-12 23:25:40,094] Trial 31 finished with value: 0.8931632449671119 and parameters: {'C': 0.02154733733313404, 'penalty': 'l1', 'class_weight': None}. Best is trial 23 with value: 0.8934622284233605.\n",
            "[I 2024-05-12 23:25:40,230] Trial 32 finished with value: 0.8904723938608731 and parameters: {'C': 0.040625500411641625, 'penalty': 'l1', 'class_weight': None}. Best is trial 23 with value: 0.8934622284233605.\n",
            "[I 2024-05-12 23:25:40,329] Trial 33 finished with value: 0.8835957743671516 and parameters: {'C': 0.012619722175247428, 'penalty': 'l1', 'class_weight': None}. Best is trial 23 with value: 0.8934622284233605.\n",
            "[I 2024-05-12 23:25:40,399] Trial 34 finished with value: 0.7076938409408012 and parameters: {'C': 0.0018876073139221683, 'penalty': 'l1', 'class_weight': 'balanced'}. Best is trial 23 with value: 0.8934622284233605.\n",
            "[I 2024-05-12 23:25:40,675] Trial 35 finished with value: 0.858879808650588 and parameters: {'C': 0.7623318755749211, 'penalty': 'l1', 'class_weight': None}. Best is trial 23 with value: 0.8934622284233605.\n",
            "[I 2024-05-12 23:25:41,539] Trial 36 finished with value: 0.8075543153278852 and parameters: {'C': 0.1884396959800359, 'penalty': 'l2', 'class_weight': None}. Best is trial 23 with value: 0.8934622284233605.\n",
            "[I 2024-05-12 23:25:41,650] Trial 37 finished with value: 0.8633645604943193 and parameters: {'C': 0.008067769000163032, 'penalty': 'l1', 'class_weight': None}. Best is trial 23 with value: 0.8934622284233605.\n",
            "[I 2024-05-12 23:25:42,309] Trial 38 finished with value: 0.8125373729320311 and parameters: {'C': 0.03974457620014937, 'penalty': 'l2', 'class_weight': 'balanced'}. Best is trial 23 with value: 0.8934622284233605.\n",
            "[I 2024-05-12 23:25:42,647] Trial 39 finished with value: 0.8205102650986645 and parameters: {'C': 0.003771346383516746, 'penalty': 'l2', 'class_weight': None}. Best is trial 23 with value: 0.8934622284233605.\n",
            "[I 2024-05-12 23:25:42,725] Trial 40 finished with value: 0.637532389874427 and parameters: {'C': 0.0009769044968754958, 'penalty': 'l1', 'class_weight': 'balanced'}. Best is trial 23 with value: 0.8934622284233605.\n",
            "[I 2024-05-12 23:25:42,850] Trial 41 finished with value: 0.8934622284233605 and parameters: {'C': 0.0239881285719657, 'penalty': 'l1', 'class_weight': None}. Best is trial 23 with value: 0.8934622284233605.\n",
            "[I 2024-05-12 23:25:42,944] Trial 42 finished with value: 0.884393063583815 and parameters: {'C': 0.013034067066925992, 'penalty': 'l1', 'class_weight': None}. Best is trial 23 with value: 0.8934622284233605.\n",
            "[I 2024-05-12 23:25:43,107] Trial 43 finished with value: 0.8854893362567271 and parameters: {'C': 0.06799914565644623, 'penalty': 'l1', 'class_weight': None}. Best is trial 23 with value: 0.8934622284233605.\n",
            "[I 2024-05-12 23:25:43,248] Trial 44 finished with value: 0.8918676499900339 and parameters: {'C': 0.0339550201127462, 'penalty': 'l1', 'class_weight': None}. Best is trial 23 with value: 0.8934622284233605.\n",
            "[I 2024-05-12 23:25:43,333] Trial 45 finished with value: 0.8351604544548535 and parameters: {'C': 0.005546340344780272, 'penalty': 'l1', 'class_weight': None}. Best is trial 23 with value: 0.8934622284233605.\n",
            "[I 2024-05-12 23:25:43,878] Trial 46 finished with value: 0.8144309348216066 and parameters: {'C': 0.02299904274113239, 'penalty': 'l2', 'class_weight': None}. Best is trial 23 with value: 0.8934622284233605.\n",
            "[I 2024-05-12 23:25:44,095] Trial 47 finished with value: 0.8812039067171616 and parameters: {'C': 0.106497384740692, 'penalty': 'l1', 'class_weight': None}. Best is trial 23 with value: 0.8934622284233605.\n",
            "[I 2024-05-12 23:25:44,177] Trial 48 finished with value: 0.7101853697428743 and parameters: {'C': 0.0017568733723762316, 'penalty': 'l1', 'class_weight': None}. Best is trial 23 with value: 0.8934622284233605.\n",
            "[I 2024-05-12 23:25:44,332] Trial 49 finished with value: 0.888080526210883 and parameters: {'C': 0.05519032199319917, 'penalty': 'l1', 'class_weight': None}. Best is trial 23 with value: 0.8934622284233605.\n",
            "[I 2024-05-12 23:25:44,614] Trial 50 finished with value: 0.8524018337651983 and parameters: {'C': 2.2290546360251455, 'penalty': 'l1', 'class_weight': None}. Best is trial 23 with value: 0.8934622284233605.\n",
            "[I 2024-05-12 23:25:44,722] Trial 51 finished with value: 0.8862866254733904 and parameters: {'C': 0.01353801605247347, 'penalty': 'l1', 'class_weight': None}. Best is trial 23 with value: 0.8934622284233605.\n",
            "[I 2024-05-12 23:25:44,841] Trial 52 finished with value: 0.8934622284233605 and parameters: {'C': 0.023944102252228167, 'penalty': 'l1', 'class_weight': None}. Best is trial 23 with value: 0.8934622284233605.\n",
            "[I 2024-05-12 23:25:44,920] Trial 53 finished with value: 0.8598764201714172 and parameters: {'C': 0.007614488772621813, 'penalty': 'l1', 'class_weight': None}. Best is trial 23 with value: 0.8934622284233605.\n",
            "[I 2024-05-12 23:25:45,139] Trial 54 finished with value: 0.8885788319712976 and parameters: {'C': 0.0489843000921914, 'penalty': 'l1', 'class_weight': None}. Best is trial 23 with value: 0.8934622284233605.\n",
            "[I 2024-05-12 23:25:45,320] Trial 55 finished with value: 0.8946581622483556 and parameters: {'C': 0.026930654464301956, 'penalty': 'l1', 'class_weight': None}. Best is trial 55 with value: 0.8946581622483556.\n",
            "[I 2024-05-12 23:25:47,504] Trial 56 finished with value: 0.8063583815028902 and parameters: {'C': 0.21161287442859988, 'penalty': 'l2', 'class_weight': None}. Best is trial 55 with value: 0.8946581622483556.\n",
            "[I 2024-05-12 23:25:47,793] Trial 57 finished with value: 0.8827984851504883 and parameters: {'C': 0.09879143603210262, 'penalty': 'l1', 'class_weight': 'balanced'}. Best is trial 55 with value: 0.8946581622483556.\n",
            "[I 2024-05-12 23:25:48,160] Trial 58 finished with value: 0.8640621885588997 and parameters: {'C': 0.4636062156907019, 'penalty': 'l1', 'class_weight': None}. Best is trial 55 with value: 0.8946581622483556.\n",
            "[I 2024-05-12 23:25:48,337] Trial 59 finished with value: 0.8938608730316923 and parameters: {'C': 0.02589258178222352, 'penalty': 'l1', 'class_weight': None}. Best is trial 55 with value: 0.8946581622483556.\n",
            "[I 2024-05-12 23:25:48,543] Trial 60 finished with value: 0.8928642615108631 and parameters: {'C': 0.030007304701161763, 'penalty': 'l1', 'class_weight': None}. Best is trial 55 with value: 0.8946581622483556.\n",
            "[I 2024-05-12 23:25:48,704] Trial 61 finished with value: 0.8859876420171418 and parameters: {'C': 0.013319886208130691, 'penalty': 'l1', 'class_weight': None}. Best is trial 55 with value: 0.8946581622483556.\n",
            "[I 2024-05-12 23:25:48,748] Trial 62 finished with value: 0.4536575642814431 and parameters: {'C': 1.3703842258263126e-05, 'penalty': 'l1', 'class_weight': None}. Best is trial 55 with value: 0.8946581622483556.\n",
            "[I 2024-05-12 23:25:48,825] Trial 63 finished with value: 0.8302770580027905 and parameters: {'C': 0.005199282309068439, 'penalty': 'l1', 'class_weight': None}. Best is trial 55 with value: 0.8946581622483556.\n",
            "[I 2024-05-12 23:25:49,030] Trial 64 finished with value: 0.8758222045046841 and parameters: {'C': 0.14605591734691079, 'penalty': 'l1', 'class_weight': None}. Best is trial 55 with value: 0.8946581622483556.\n",
            "[I 2024-05-12 23:25:49,203] Trial 65 finished with value: 0.88558899740881 and parameters: {'C': 0.0652425164216445, 'penalty': 'l1', 'class_weight': None}. Best is trial 55 with value: 0.8946581622483556.\n",
            "[I 2024-05-12 23:25:49,321] Trial 66 finished with value: 0.8926649392066972 and parameters: {'C': 0.020019641404603113, 'penalty': 'l1', 'class_weight': None}. Best is trial 55 with value: 0.8946581622483556.\n",
            "[I 2024-05-12 23:25:49,464] Trial 67 finished with value: 0.8939605341837752 and parameters: {'C': 0.027659614520712684, 'penalty': 'l1', 'class_weight': None}. Best is trial 55 with value: 0.8946581622483556.\n",
            "[I 2024-05-12 23:25:49,560] Trial 68 finished with value: 0.8701415188359577 and parameters: {'C': 0.009401278203442524, 'penalty': 'l1', 'class_weight': 'balanced'}. Best is trial 55 with value: 0.8946581622483556.\n",
            "[I 2024-05-12 23:25:49,596] Trial 69 finished with value: 0.4536575642814431 and parameters: {'C': 2.4197632903285152e-05, 'penalty': 'l1', 'class_weight': None}. Best is trial 55 with value: 0.8946581622483556.\n",
            "[I 2024-05-12 23:25:49,743] Trial 70 finished with value: 0.8927646003587801 and parameters: {'C': 0.033460671460797946, 'penalty': 'l1', 'class_weight': None}. Best is trial 55 with value: 0.8946581622483556.\n",
            "[I 2024-05-12 23:25:49,871] Trial 71 finished with value: 0.8938608730316923 and parameters: {'C': 0.02754514136056797, 'penalty': 'l1', 'class_weight': None}. Best is trial 55 with value: 0.8946581622483556.\n",
            "[I 2024-05-12 23:25:50,028] Trial 72 finished with value: 0.8870839146900538 and parameters: {'C': 0.05986277232798612, 'penalty': 'l1', 'class_weight': None}. Best is trial 55 with value: 0.8946581622483556.\n",
            "[I 2024-05-12 23:25:50,154] Trial 73 finished with value: 0.8939605341837752 and parameters: {'C': 0.02787366205698905, 'penalty': 'l1', 'class_weight': None}. Best is trial 55 with value: 0.8946581622483556.\n",
            "[I 2024-05-12 23:25:50,358] Trial 74 finished with value: 0.8788120390671716 and parameters: {'C': 0.1256775379666542, 'penalty': 'l1', 'class_weight': None}. Best is trial 55 with value: 0.8946581622483556.\n",
            "[I 2024-05-12 23:25:50,479] Trial 75 finished with value: 0.8885788319712976 and parameters: {'C': 0.016264078345221065, 'penalty': 'l1', 'class_weight': None}. Best is trial 55 with value: 0.8946581622483556.\n",
            "[I 2024-05-12 23:25:50,601] Trial 76 finished with value: 0.8943591787921068 and parameters: {'C': 0.02678064646850713, 'penalty': 'l1', 'class_weight': None}. Best is trial 55 with value: 0.8946581622483556.\n",
            "[I 2024-05-12 23:25:51,329] Trial 77 finished with value: 0.8106438110424556 and parameters: {'C': 0.07950894835220736, 'penalty': 'l2', 'class_weight': None}. Best is trial 55 with value: 0.8946581622483556.\n",
            "[I 2024-05-12 23:25:51,454] Trial 78 finished with value: 0.8779150886984254 and parameters: {'C': 0.01071341599615057, 'penalty': 'l1', 'class_weight': None}. Best is trial 55 with value: 0.8946581622483556.\n",
            "[I 2024-05-12 23:25:51,608] Trial 79 finished with value: 0.8890771377317122 and parameters: {'C': 0.04575263133038878, 'penalty': 'l1', 'class_weight': None}. Best is trial 55 with value: 0.8946581622483556.\n",
            "[I 2024-05-12 23:25:51,677] Trial 80 finished with value: 0.7597169623280845 and parameters: {'C': 0.0028531674497866075, 'penalty': 'l1', 'class_weight': 'balanced'}. Best is trial 55 with value: 0.8946581622483556.\n",
            "[I 2024-05-12 23:25:51,803] Trial 81 finished with value: 0.8930635838150289 and parameters: {'C': 0.023938191060935983, 'penalty': 'l1', 'class_weight': None}. Best is trial 55 with value: 0.8946581622483556.\n",
            "[I 2024-05-12 23:25:51,928] Trial 82 finished with value: 0.8935618895754435 and parameters: {'C': 0.028525707634033573, 'penalty': 'l1', 'class_weight': None}. Best is trial 55 with value: 0.8946581622483556.\n",
            "[I 2024-05-12 23:25:52,063] Trial 83 finished with value: 0.8901734104046243 and parameters: {'C': 0.0403126110152299, 'penalty': 'l1', 'class_weight': None}. Best is trial 55 with value: 0.8946581622483556.\n",
            "[I 2024-05-12 23:25:52,133] Trial 84 finished with value: 0.8341638429340243 and parameters: {'C': 0.005443856762355528, 'penalty': 'l1', 'class_weight': None}. Best is trial 55 with value: 0.8946581622483556.\n",
            "[I 2024-05-12 23:25:52,236] Trial 85 finished with value: 0.8879808650588 and parameters: {'C': 0.015415837566763606, 'penalty': 'l1', 'class_weight': None}. Best is trial 55 with value: 0.8946581622483556.\n",
            "[I 2024-05-12 23:25:52,322] Trial 86 finished with value: 0.8748255929838549 and parameters: {'C': 0.009923922594726596, 'penalty': 'l1', 'class_weight': None}. Best is trial 55 with value: 0.8946581622483556.\n",
            "[I 2024-05-12 23:25:52,450] Trial 87 finished with value: 0.892963922662946 and parameters: {'C': 0.0296037843656187, 'penalty': 'l1', 'class_weight': None}. Best is trial 55 with value: 0.8946581622483556.\n",
            "[I 2024-05-12 23:25:53,122] Trial 88 finished with value: 0.8121387283236994 and parameters: {'C': 0.04974866967337818, 'penalty': 'l2', 'class_weight': None}. Best is trial 55 with value: 0.8946581622483556.\n",
            "[I 2024-05-12 23:25:53,321] Trial 89 finished with value: 0.8835957743671516 and parameters: {'C': 0.07912109035906034, 'penalty': 'l1', 'class_weight': None}. Best is trial 55 with value: 0.8946581622483556.\n",
            "[I 2024-05-12 23:25:53,431] Trial 90 finished with value: 0.8913693442296193 and parameters: {'C': 0.01823364351209219, 'penalty': 'l1', 'class_weight': None}. Best is trial 55 with value: 0.8946581622483556.\n",
            "[I 2024-05-12 23:25:53,563] Trial 91 finished with value: 0.8940601953358581 and parameters: {'C': 0.024950142118303494, 'penalty': 'l1', 'class_weight': None}. Best is trial 55 with value: 0.8946581622483556.\n",
            "[I 2024-05-12 23:25:53,697] Trial 92 finished with value: 0.8931632449671119 and parameters: {'C': 0.029677660758707397, 'penalty': 'l1', 'class_weight': None}. Best is trial 55 with value: 0.8946581622483556.\n",
            "[I 2024-05-12 23:25:54,010] Trial 93 finished with value: 0.847817420769384 and parameters: {'C': 9.407361246609561, 'penalty': 'l1', 'class_weight': None}. Best is trial 55 with value: 0.8946581622483556.\n",
            "[I 2024-05-12 23:25:54,088] Trial 94 finished with value: 0.8535977675901933 and parameters: {'C': 0.006846962290267423, 'penalty': 'l1', 'class_weight': None}. Best is trial 55 with value: 0.8946581622483556.\n",
            "[I 2024-05-12 23:25:54,181] Trial 95 finished with value: 0.8821008570859079 and parameters: {'C': 0.012150981877645694, 'penalty': 'l1', 'class_weight': None}. Best is trial 55 with value: 0.8946581622483556.\n",
            "[I 2024-05-12 23:25:54,321] Trial 96 finished with value: 0.8909706996212876 and parameters: {'C': 0.03938086572737976, 'penalty': 'l1', 'class_weight': None}. Best is trial 55 with value: 0.8946581622483556.\n",
            "[I 2024-05-12 23:25:54,523] Trial 97 finished with value: 0.8756228822005182 and parameters: {'C': 0.16318390071664032, 'penalty': 'l1', 'class_weight': None}. Best is trial 55 with value: 0.8946581622483556.\n",
            "[I 2024-05-12 23:25:54,665] Trial 98 finished with value: 0.8927646003587801 and parameters: {'C': 0.024942650859928597, 'penalty': 'l1', 'class_weight': 'balanced'}. Best is trial 55 with value: 0.8946581622483556.\n",
            "[I 2024-05-12 23:25:54,770] Trial 99 finished with value: 0.8883795096671318 and parameters: {'C': 0.01603902862420007, 'penalty': 'l1', 'class_weight': None}. Best is trial 55 with value: 0.8946581622483556.\n",
            "[I 2024-05-12 23:25:54,956] Trial 100 finished with value: 0.8812039067171616 and parameters: {'C': 0.10687409608906877, 'penalty': 'l1', 'class_weight': None}. Best is trial 55 with value: 0.8946581622483556.\n",
            "[I 2024-05-12 23:25:55,074] Trial 101 finished with value: 0.8930635838150289 and parameters: {'C': 0.021763120787457246, 'penalty': 'l1', 'class_weight': None}. Best is trial 55 with value: 0.8946581622483556.\n",
            "[I 2024-05-12 23:25:55,227] Trial 102 finished with value: 0.8874825592983855 and parameters: {'C': 0.05680762731450859, 'penalty': 'l1', 'class_weight': None}. Best is trial 55 with value: 0.8946581622483556.\n",
            "[I 2024-05-12 23:25:55,351] Trial 103 finished with value: 0.8940601953358581 and parameters: {'C': 0.026111207173751337, 'penalty': 'l1', 'class_weight': None}. Best is trial 55 with value: 0.8946581622483556.\n",
            "[I 2024-05-12 23:25:55,450] Trial 104 finished with value: 0.8744269483755233 and parameters: {'C': 0.009864297280198654, 'penalty': 'l1', 'class_weight': None}. Best is trial 55 with value: 0.8946581622483556.\n",
            "[I 2024-05-12 23:25:55,612] Trial 105 finished with value: 0.8906717161650388 and parameters: {'C': 0.03737959623622543, 'penalty': 'l1', 'class_weight': None}. Best is trial 55 with value: 0.8946581622483556.\n",
            "[I 2024-05-12 23:25:56,315] Trial 106 finished with value: 0.8103448275862069 and parameters: {'C': 0.06963809786152757, 'penalty': 'l2', 'class_weight': None}. Best is trial 55 with value: 0.8946581622483556.\n",
            "[I 2024-05-12 23:25:56,469] Trial 107 finished with value: 0.8938608730316923 and parameters: {'C': 0.025984666342751244, 'penalty': 'l1', 'class_weight': None}. Best is trial 55 with value: 0.8946581622483556.\n",
            "[I 2024-05-12 23:25:56,573] Trial 108 finished with value: 0.8904723938608731 and parameters: {'C': 0.017339757588436124, 'penalty': 'l1', 'class_weight': None}. Best is trial 55 with value: 0.8946581622483556.\n",
            "[I 2024-05-12 23:25:56,663] Trial 109 finished with value: 0.8133346621486944 and parameters: {'C': 0.004346400616146726, 'penalty': 'l1', 'class_weight': None}. Best is trial 55 with value: 0.8946581622483556.\n",
            "[I 2024-05-12 23:25:56,940] Trial 110 finished with value: 0.8489136934422962 and parameters: {'C': 5.860198108863988, 'penalty': 'l1', 'class_weight': None}. Best is trial 55 with value: 0.8946581622483556.\n",
            "[I 2024-05-12 23:25:57,064] Trial 111 finished with value: 0.8935618895754435 and parameters: {'C': 0.027825066297755836, 'penalty': 'l1', 'class_weight': None}. Best is trial 55 with value: 0.8946581622483556.\n",
            "[I 2024-05-12 23:25:57,193] Trial 112 finished with value: 0.8923659557504485 and parameters: {'C': 0.030719605721604107, 'penalty': 'l1', 'class_weight': None}. Best is trial 55 with value: 0.8946581622483556.\n",
            "[I 2024-05-12 23:25:57,340] Trial 113 finished with value: 0.8891767988837951 and parameters: {'C': 0.047815152981148544, 'penalty': 'l1', 'class_weight': None}. Best is trial 55 with value: 0.8946581622483556.\n",
            "[I 2024-05-12 23:25:57,444] Trial 114 finished with value: 0.885688658560893 and parameters: {'C': 0.0131331008919889, 'penalty': 'l1', 'class_weight': None}. Best is trial 55 with value: 0.8946581622483556.\n",
            "[I 2024-05-12 23:25:57,573] Trial 115 finished with value: 0.8939605341837752 and parameters: {'C': 0.025923315367994398, 'penalty': 'l1', 'class_weight': None}. Best is trial 55 with value: 0.8946581622483556.\n",
            "[I 2024-05-12 23:25:57,713] Trial 116 finished with value: 0.8940601953358581 and parameters: {'C': 0.02645205401168434, 'penalty': 'l1', 'class_weight': None}. Best is trial 55 with value: 0.8946581622483556.\n",
            "[I 2024-05-12 23:25:57,801] Trial 117 finished with value: 0.861271676300578 and parameters: {'C': 0.007712419756196913, 'penalty': 'l1', 'class_weight': None}. Best is trial 55 with value: 0.8946581622483556.\n",
            "[I 2024-05-12 23:25:57,920] Trial 118 finished with value: 0.8924656169025313 and parameters: {'C': 0.02011924847435263, 'penalty': 'l1', 'class_weight': 'balanced'}. Best is trial 55 with value: 0.8946581622483556.\n",
            "[I 2024-05-12 23:25:58,058] Trial 119 finished with value: 0.8909706996212876 and parameters: {'C': 0.03813695860325751, 'penalty': 'l1', 'class_weight': None}. Best is trial 55 with value: 0.8946581622483556.\n",
            "[I 2024-05-12 23:25:58,213] Trial 120 finished with value: 0.8870839146900538 and parameters: {'C': 0.06013172109657092, 'penalty': 'l1', 'class_weight': None}. Best is trial 55 with value: 0.8946581622483556.\n",
            "[I 2024-05-12 23:25:58,333] Trial 121 finished with value: 0.8934622284233605 and parameters: {'C': 0.026269241655891427, 'penalty': 'l1', 'class_weight': None}. Best is trial 55 with value: 0.8946581622483556.\n",
            "[I 2024-05-12 23:25:58,440] Trial 122 finished with value: 0.8884791708192147 and parameters: {'C': 0.015780380645097944, 'penalty': 'l1', 'class_weight': None}. Best is trial 55 with value: 0.8946581622483556.\n",
            "[I 2024-05-12 23:25:58,610] Trial 123 finished with value: 0.8825991628463224 and parameters: {'C': 0.08493638657912163, 'penalty': 'l1', 'class_weight': None}. Best is trial 55 with value: 0.8946581622483556.\n",
            "[I 2024-05-12 23:25:58,773] Trial 124 finished with value: 0.892963922662946 and parameters: {'C': 0.029618760626996497, 'penalty': 'l1', 'class_weight': None}. Best is trial 55 with value: 0.8946581622483556.\n",
            "[I 2024-05-12 23:25:59,002] Trial 125 finished with value: 0.889276460035878 and parameters: {'C': 0.04877122907405137, 'penalty': 'l1', 'class_weight': None}. Best is trial 55 with value: 0.8946581622483556.\n",
            "[I 2024-05-12 23:25:59,152] Trial 126 finished with value: 0.8805062786525812 and parameters: {'C': 0.011597165286742808, 'penalty': 'l1', 'class_weight': None}. Best is trial 55 with value: 0.8946581622483556.\n",
            "[I 2024-05-12 23:26:00,363] Trial 127 finished with value: 0.8152282240382699 and parameters: {'C': 0.02005593870261043, 'penalty': 'l2', 'class_weight': None}. Best is trial 55 with value: 0.8946581622483556.\n",
            "[I 2024-05-12 23:26:00,624] Trial 128 finished with value: 0.8912696830775364 and parameters: {'C': 0.034359006342195464, 'penalty': 'l1', 'class_weight': None}. Best is trial 55 with value: 0.8946581622483556.\n",
            "[I 2024-05-12 23:26:00,823] Trial 129 finished with value: 0.8936615507275264 and parameters: {'C': 0.024661012743546984, 'penalty': 'l1', 'class_weight': None}. Best is trial 55 with value: 0.8946581622483556.\n",
            "[I 2024-05-12 23:26:00,957] Trial 130 finished with value: 0.8692445684672114 and parameters: {'C': 0.008866975872218276, 'penalty': 'l1', 'class_weight': None}. Best is trial 55 with value: 0.8946581622483556.\n",
            "[I 2024-05-12 23:26:01,137] Trial 131 finished with value: 0.8940601953358581 and parameters: {'C': 0.025797368645349983, 'penalty': 'l1', 'class_weight': None}. Best is trial 55 with value: 0.8946581622483556.\n",
            "[I 2024-05-12 23:26:01,341] Trial 132 finished with value: 0.8900737492525413 and parameters: {'C': 0.04015705206583881, 'penalty': 'l1', 'class_weight': None}. Best is trial 55 with value: 0.8946581622483556.\n",
            "[I 2024-05-12 23:26:01,496] Trial 133 finished with value: 0.8878812039067172 and parameters: {'C': 0.015289103230238025, 'penalty': 'l1', 'class_weight': None}. Best is trial 55 with value: 0.8946581622483556.\n",
            "[I 2024-05-12 23:26:01,674] Trial 134 finished with value: 0.8935618895754435 and parameters: {'C': 0.023312253790977153, 'penalty': 'l1', 'class_weight': None}. Best is trial 55 with value: 0.8946581622483556.\n",
            "[I 2024-05-12 23:26:01,919] Trial 135 finished with value: 0.8875822204504684 and parameters: {'C': 0.053425035924906904, 'penalty': 'l1', 'class_weight': None}. Best is trial 55 with value: 0.8946581622483556.\n",
            "[I 2024-05-12 23:26:02,103] Trial 136 finished with value: 0.8918676499900339 and parameters: {'C': 0.01934640478972116, 'penalty': 'l1', 'class_weight': None}. Best is trial 55 with value: 0.8946581622483556.\n",
            "[I 2024-05-12 23:26:02,261] Trial 137 finished with value: 0.8828981463025712 and parameters: {'C': 0.012430925402859687, 'penalty': 'l1', 'class_weight': None}. Best is trial 55 with value: 0.8946581622483556.\n",
            "[I 2024-05-12 23:26:02,432] Trial 138 finished with value: 0.8909706996212876 and parameters: {'C': 0.037712917448651864, 'penalty': 'l1', 'class_weight': None}. Best is trial 55 with value: 0.8946581622483556.\n",
            "[I 2024-05-12 23:26:02,561] Trial 139 finished with value: 0.8935618895754435 and parameters: {'C': 0.02567774338063952, 'penalty': 'l1', 'class_weight': 'balanced'}. Best is trial 55 with value: 0.8946581622483556.\n",
            "[I 2024-05-12 23:26:02,673] Trial 140 finished with value: 0.8885788319712976 and parameters: {'C': 0.016036217036429747, 'penalty': 'l1', 'class_weight': None}. Best is trial 55 with value: 0.8946581622483556.\n",
            "[I 2024-05-12 23:26:02,801] Trial 141 finished with value: 0.8937612118796093 and parameters: {'C': 0.02789513554225724, 'penalty': 'l1', 'class_weight': None}. Best is trial 55 with value: 0.8946581622483556.\n",
            "[I 2024-05-12 23:26:02,988] Trial 142 finished with value: 0.8840940801275663 and parameters: {'C': 0.0771372210146749, 'penalty': 'l1', 'class_weight': None}. Best is trial 55 with value: 0.8946581622483556.\n",
            "[I 2024-05-12 23:26:03,120] Trial 143 finished with value: 0.8925652780546143 and parameters: {'C': 0.03193696493897259, 'penalty': 'l1', 'class_weight': None}. Best is trial 55 with value: 0.8946581622483556.\n",
            "[I 2024-05-12 23:26:03,236] Trial 144 finished with value: 0.8930635838150289 and parameters: {'C': 0.0217104123480911, 'penalty': 'l1', 'class_weight': None}. Best is trial 55 with value: 0.8946581622483556.\n",
            "[I 2024-05-12 23:26:03,383] Trial 145 finished with value: 0.8899740881004584 and parameters: {'C': 0.044704942147480595, 'penalty': 'l1', 'class_weight': None}. Best is trial 55 with value: 0.8946581622483556.\n",
            "[I 2024-05-12 23:26:03,476] Trial 146 finished with value: 0.8790113613713375 and parameters: {'C': 0.01105327565586521, 'penalty': 'l1', 'class_weight': None}. Best is trial 55 with value: 0.8946581622483556.\n",
            "[I 2024-05-12 23:26:03,652] Trial 147 finished with value: 0.8866852700817222 and parameters: {'C': 0.06278922180950759, 'penalty': 'l1', 'class_weight': None}. Best is trial 55 with value: 0.8946581622483556.\n",
            "[I 2024-05-12 23:26:03,784] Trial 148 finished with value: 0.8931632449671119 and parameters: {'C': 0.028370293702060605, 'penalty': 'l1', 'class_weight': None}. Best is trial 55 with value: 0.8946581622483556.\n",
            "[I 2024-05-12 23:26:04,570] Trial 149 finished with value: 0.8100458441299582 and parameters: {'C': 0.1058019731637375, 'penalty': 'l2', 'class_weight': None}. Best is trial 55 with value: 0.8946581622483556.\n"
          ]
        },
        {
          "output_type": "stream",
          "name": "stdout",
          "text": [
            "Лучшие параметры: {'C': 0.026930654464301956, 'penalty': 'l1', 'class_weight': None}\n"
          ]
        }
      ],
      "source": [
        "### LOG LOSS\n",
        "\n",
        "import optuna\n",
        "def objective(trial):\n",
        "\n",
        "    params = {\n",
        "        'C': trial.suggest_loguniform('C', 1e-5, 10),\n",
        "        'penalty': trial.suggest_categorical('penalty', ['l1', 'l2']),\n",
        "        'class_weight': trial.suggest_categorical('class_weight', [None, 'balanced']),\n",
        "        'solver': 'liblinear' ,\n",
        "        'random_state': 21\n",
        "    }\n",
        "\n",
        "    # Поскольку liblinear не поддерживает l1 регуляризацию с 'None' class_weight, обрабатываем этот случай\n",
        "    if params['penalty'] == 'l1' and params['class_weight'] == 'None':\n",
        "        params['solver'] = 'saga'  # saga поддерживает l1\n",
        "\n",
        "    model = LogisticRegression(**params)\n",
        "    model.fit(X_train_scaled_tf, y_train)\n",
        "\n",
        "    pred_val = model.predict(X_test_scaled_tf)\n",
        "\n",
        "    accuracy = accuracy_score(y_test, pred_val)\n",
        "    return accuracy\n",
        "\n",
        "study = optuna.create_study(direction='maximize')\n",
        "study.optimize(objective, n_trials=150)  # можно изменить количество испытаний\n",
        "\n",
        "best_params = study.best_params\n",
        "print(f'Лучшие параметры: {best_params}')"
      ]
    },
    {
      "cell_type": "markdown",
      "source": [
        "У меня не получилось выбить 0.9(скажите как..), много чего попробовал, только до нейросетей не дошел. Макимум 0.895, у меня тут на скриншотах только 0.8946, 0.895 не успел запечатлеть. Поставьте доп балл пожалуйста, вдруг оно округляется, я старался 🙏\n",
        "\n",
        "На скринах подтверждение, если оно не выбьется у вас."
      ],
      "metadata": {
        "id": "htLh8zWtAsA4"
      }
    },
    {
      "cell_type": "markdown",
      "source": [
        "![image.png](data:image/png;base64,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)"
      ],
      "metadata": {
        "id": "Xo992yr6-_PV"
      }
    },
    {
      "cell_type": "markdown",
      "source": [
        "![image.png](data:image/png;base64,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)"
      ],
      "metadata": {
        "id": "zemi6jfP_Fiz"
      }
    }
  ],
  "metadata": {
    "colab": {
      "provenance": []
    },
    "kernelspec": {
      "display_name": "Python 3",
      "name": "python3"
    },
    "language_info": {
      "name": "python"
    }
  },
  "nbformat": 4,
  "nbformat_minor": 0
}